{
  "nbformat": 4,
  "nbformat_minor": 0,
  "metadata": {
    "colab": {
      "provenance": [],
      "toc_visible": true
    },
    "kernelspec": {
      "name": "python3",
      "display_name": "Python 3"
    },
    "language_info": {
      "name": "python"
    }
  },
  "cells": [
    {
      "cell_type": "markdown",
      "source": [
        "# Imports"
      ],
      "metadata": {
        "id": "sYjqIBFIJbt5"
      }
    },
    {
      "cell_type": "code",
      "execution_count": null,
      "metadata": {
        "id": "qsdH_iSYJWnf"
      },
      "outputs": [],
      "source": [
        "import pandas as pd\n",
        "import spacy\n",
        "import re\n",
        "\n",
        "from sklearn.feature_extraction.text import TfidfVectorizer\n",
        "from sklearn.model_selection import train_test_split\n",
        "from sklearn.metrics import accuracy_score, classification_report, ConfusionMatrixDisplay\n",
        "\n",
        "from sklearn.svm import SVC\n",
        "from sklearn.model_selection import GridSearchCV"
      ]
    },
    {
      "cell_type": "markdown",
      "source": [
        "# Работа с датасетом"
      ],
      "metadata": {
        "id": "U_LvVvp2J0ah"
      }
    },
    {
      "cell_type": "code",
      "source": [
        "#открываем датасет\n",
        "data = pd.read_csv('/content/Захарова,_Нигамедзянова_АОЕЯ_проект_Захарова,_Нигамедзянова_АОЕЯ (2).csv')\n",
        "data.head()"
      ],
      "metadata": {
        "colab": {
          "base_uri": "https://localhost:8080/",
          "height": 206
        },
        "id": "_qoGHvDXJz48",
        "outputId": "c1427122-6dfe-4850-ac2a-b159c5f8587e"
      },
      "execution_count": null,
      "outputs": [
        {
          "output_type": "execute_result",
          "data": {
            "text/plain": [
              "                                        Full context  1 level  2 level  \\\n",
              "0                Девы, что лучше май-слинг или эрго?        1        8   \n",
              "1  \"http:// www. esky. ru/ catalog/ item/ 1739/ 2...        1        8   \n",
              "2  \"да девы, эстетика, да и не только она, еще от...        1        8   \n",
              "3  Неспроста же они дешевле чем камы и переги. \" ...        1        8   \n",
              "4  Девы, такая проблема-ре перестал ходить на гор...        1        8   \n",
              "\n",
              "      conn       ton  \n",
              "0  neutral   neutral  \n",
              "1  neutral   neutral  \n",
              "2  neutral  positive  \n",
              "3  neutral  negative  \n",
              "4  neutral  negative  "
            ],
            "text/html": [
              "\n",
              "  <div id=\"df-a9e4b018-75f3-4b98-9def-b92c6bbc8c23\" class=\"colab-df-container\">\n",
              "    <div>\n",
              "<style scoped>\n",
              "    .dataframe tbody tr th:only-of-type {\n",
              "        vertical-align: middle;\n",
              "    }\n",
              "\n",
              "    .dataframe tbody tr th {\n",
              "        vertical-align: top;\n",
              "    }\n",
              "\n",
              "    .dataframe thead th {\n",
              "        text-align: right;\n",
              "    }\n",
              "</style>\n",
              "<table border=\"1\" class=\"dataframe\">\n",
              "  <thead>\n",
              "    <tr style=\"text-align: right;\">\n",
              "      <th></th>\n",
              "      <th>Full context</th>\n",
              "      <th>1 level</th>\n",
              "      <th>2 level</th>\n",
              "      <th>conn</th>\n",
              "      <th>ton</th>\n",
              "    </tr>\n",
              "  </thead>\n",
              "  <tbody>\n",
              "    <tr>\n",
              "      <th>0</th>\n",
              "      <td>Девы, что лучше май-слинг или эрго?</td>\n",
              "      <td>1</td>\n",
              "      <td>8</td>\n",
              "      <td>neutral</td>\n",
              "      <td>neutral</td>\n",
              "    </tr>\n",
              "    <tr>\n",
              "      <th>1</th>\n",
              "      <td>\"http:// www. esky. ru/ catalog/ item/ 1739/ 2...</td>\n",
              "      <td>1</td>\n",
              "      <td>8</td>\n",
              "      <td>neutral</td>\n",
              "      <td>neutral</td>\n",
              "    </tr>\n",
              "    <tr>\n",
              "      <th>2</th>\n",
              "      <td>\"да девы, эстетика, да и не только она, еще от...</td>\n",
              "      <td>1</td>\n",
              "      <td>8</td>\n",
              "      <td>neutral</td>\n",
              "      <td>positive</td>\n",
              "    </tr>\n",
              "    <tr>\n",
              "      <th>3</th>\n",
              "      <td>Неспроста же они дешевле чем камы и переги. \" ...</td>\n",
              "      <td>1</td>\n",
              "      <td>8</td>\n",
              "      <td>neutral</td>\n",
              "      <td>negative</td>\n",
              "    </tr>\n",
              "    <tr>\n",
              "      <th>4</th>\n",
              "      <td>Девы, такая проблема-ре перестал ходить на гор...</td>\n",
              "      <td>1</td>\n",
              "      <td>8</td>\n",
              "      <td>neutral</td>\n",
              "      <td>negative</td>\n",
              "    </tr>\n",
              "  </tbody>\n",
              "</table>\n",
              "</div>\n",
              "    <div class=\"colab-df-buttons\">\n",
              "\n",
              "  <div class=\"colab-df-container\">\n",
              "    <button class=\"colab-df-convert\" onclick=\"convertToInteractive('df-a9e4b018-75f3-4b98-9def-b92c6bbc8c23')\"\n",
              "            title=\"Convert this dataframe to an interactive table.\"\n",
              "            style=\"display:none;\">\n",
              "\n",
              "  <svg xmlns=\"http://www.w3.org/2000/svg\" height=\"24px\" viewBox=\"0 -960 960 960\">\n",
              "    <path d=\"M120-120v-720h720v720H120Zm60-500h600v-160H180v160Zm220 220h160v-160H400v160Zm0 220h160v-160H400v160ZM180-400h160v-160H180v160Zm440 0h160v-160H620v160ZM180-180h160v-160H180v160Zm440 0h160v-160H620v160Z\"/>\n",
              "  </svg>\n",
              "    </button>\n",
              "\n",
              "  <style>\n",
              "    .colab-df-container {\n",
              "      display:flex;\n",
              "      gap: 12px;\n",
              "    }\n",
              "\n",
              "    .colab-df-convert {\n",
              "      background-color: #E8F0FE;\n",
              "      border: none;\n",
              "      border-radius: 50%;\n",
              "      cursor: pointer;\n",
              "      display: none;\n",
              "      fill: #1967D2;\n",
              "      height: 32px;\n",
              "      padding: 0 0 0 0;\n",
              "      width: 32px;\n",
              "    }\n",
              "\n",
              "    .colab-df-convert:hover {\n",
              "      background-color: #E2EBFA;\n",
              "      box-shadow: 0px 1px 2px rgba(60, 64, 67, 0.3), 0px 1px 3px 1px rgba(60, 64, 67, 0.15);\n",
              "      fill: #174EA6;\n",
              "    }\n",
              "\n",
              "    .colab-df-buttons div {\n",
              "      margin-bottom: 4px;\n",
              "    }\n",
              "\n",
              "    [theme=dark] .colab-df-convert {\n",
              "      background-color: #3B4455;\n",
              "      fill: #D2E3FC;\n",
              "    }\n",
              "\n",
              "    [theme=dark] .colab-df-convert:hover {\n",
              "      background-color: #434B5C;\n",
              "      box-shadow: 0px 1px 3px 1px rgba(0, 0, 0, 0.15);\n",
              "      filter: drop-shadow(0px 1px 2px rgba(0, 0, 0, 0.3));\n",
              "      fill: #FFFFFF;\n",
              "    }\n",
              "  </style>\n",
              "\n",
              "    <script>\n",
              "      const buttonEl =\n",
              "        document.querySelector('#df-a9e4b018-75f3-4b98-9def-b92c6bbc8c23 button.colab-df-convert');\n",
              "      buttonEl.style.display =\n",
              "        google.colab.kernel.accessAllowed ? 'block' : 'none';\n",
              "\n",
              "      async function convertToInteractive(key) {\n",
              "        const element = document.querySelector('#df-a9e4b018-75f3-4b98-9def-b92c6bbc8c23');\n",
              "        const dataTable =\n",
              "          await google.colab.kernel.invokeFunction('convertToInteractive',\n",
              "                                                    [key], {});\n",
              "        if (!dataTable) return;\n",
              "\n",
              "        const docLinkHtml = 'Like what you see? Visit the ' +\n",
              "          '<a target=\"_blank\" href=https://colab.research.google.com/notebooks/data_table.ipynb>data table notebook</a>'\n",
              "          + ' to learn more about interactive tables.';\n",
              "        element.innerHTML = '';\n",
              "        dataTable['output_type'] = 'display_data';\n",
              "        await google.colab.output.renderOutput(dataTable, element);\n",
              "        const docLink = document.createElement('div');\n",
              "        docLink.innerHTML = docLinkHtml;\n",
              "        element.appendChild(docLink);\n",
              "      }\n",
              "    </script>\n",
              "  </div>\n",
              "\n",
              "\n",
              "<div id=\"df-b8cd1c7a-a4f7-451d-ab9c-09b5a0d899d9\">\n",
              "  <button class=\"colab-df-quickchart\" onclick=\"quickchart('df-b8cd1c7a-a4f7-451d-ab9c-09b5a0d899d9')\"\n",
              "            title=\"Suggest charts\"\n",
              "            style=\"display:none;\">\n",
              "\n",
              "<svg xmlns=\"http://www.w3.org/2000/svg\" height=\"24px\"viewBox=\"0 0 24 24\"\n",
              "     width=\"24px\">\n",
              "    <g>\n",
              "        <path d=\"M19 3H5c-1.1 0-2 .9-2 2v14c0 1.1.9 2 2 2h14c1.1 0 2-.9 2-2V5c0-1.1-.9-2-2-2zM9 17H7v-7h2v7zm4 0h-2V7h2v10zm4 0h-2v-4h2v4z\"/>\n",
              "    </g>\n",
              "</svg>\n",
              "  </button>\n",
              "\n",
              "<style>\n",
              "  .colab-df-quickchart {\n",
              "      --bg-color: #E8F0FE;\n",
              "      --fill-color: #1967D2;\n",
              "      --hover-bg-color: #E2EBFA;\n",
              "      --hover-fill-color: #174EA6;\n",
              "      --disabled-fill-color: #AAA;\n",
              "      --disabled-bg-color: #DDD;\n",
              "  }\n",
              "\n",
              "  [theme=dark] .colab-df-quickchart {\n",
              "      --bg-color: #3B4455;\n",
              "      --fill-color: #D2E3FC;\n",
              "      --hover-bg-color: #434B5C;\n",
              "      --hover-fill-color: #FFFFFF;\n",
              "      --disabled-bg-color: #3B4455;\n",
              "      --disabled-fill-color: #666;\n",
              "  }\n",
              "\n",
              "  .colab-df-quickchart {\n",
              "    background-color: var(--bg-color);\n",
              "    border: none;\n",
              "    border-radius: 50%;\n",
              "    cursor: pointer;\n",
              "    display: none;\n",
              "    fill: var(--fill-color);\n",
              "    height: 32px;\n",
              "    padding: 0;\n",
              "    width: 32px;\n",
              "  }\n",
              "\n",
              "  .colab-df-quickchart:hover {\n",
              "    background-color: var(--hover-bg-color);\n",
              "    box-shadow: 0 1px 2px rgba(60, 64, 67, 0.3), 0 1px 3px 1px rgba(60, 64, 67, 0.15);\n",
              "    fill: var(--button-hover-fill-color);\n",
              "  }\n",
              "\n",
              "  .colab-df-quickchart-complete:disabled,\n",
              "  .colab-df-quickchart-complete:disabled:hover {\n",
              "    background-color: var(--disabled-bg-color);\n",
              "    fill: var(--disabled-fill-color);\n",
              "    box-shadow: none;\n",
              "  }\n",
              "\n",
              "  .colab-df-spinner {\n",
              "    border: 2px solid var(--fill-color);\n",
              "    border-color: transparent;\n",
              "    border-bottom-color: var(--fill-color);\n",
              "    animation:\n",
              "      spin 1s steps(1) infinite;\n",
              "  }\n",
              "\n",
              "  @keyframes spin {\n",
              "    0% {\n",
              "      border-color: transparent;\n",
              "      border-bottom-color: var(--fill-color);\n",
              "      border-left-color: var(--fill-color);\n",
              "    }\n",
              "    20% {\n",
              "      border-color: transparent;\n",
              "      border-left-color: var(--fill-color);\n",
              "      border-top-color: var(--fill-color);\n",
              "    }\n",
              "    30% {\n",
              "      border-color: transparent;\n",
              "      border-left-color: var(--fill-color);\n",
              "      border-top-color: var(--fill-color);\n",
              "      border-right-color: var(--fill-color);\n",
              "    }\n",
              "    40% {\n",
              "      border-color: transparent;\n",
              "      border-right-color: var(--fill-color);\n",
              "      border-top-color: var(--fill-color);\n",
              "    }\n",
              "    60% {\n",
              "      border-color: transparent;\n",
              "      border-right-color: var(--fill-color);\n",
              "    }\n",
              "    80% {\n",
              "      border-color: transparent;\n",
              "      border-right-color: var(--fill-color);\n",
              "      border-bottom-color: var(--fill-color);\n",
              "    }\n",
              "    90% {\n",
              "      border-color: transparent;\n",
              "      border-bottom-color: var(--fill-color);\n",
              "    }\n",
              "  }\n",
              "</style>\n",
              "\n",
              "  <script>\n",
              "    async function quickchart(key) {\n",
              "      const quickchartButtonEl =\n",
              "        document.querySelector('#' + key + ' button');\n",
              "      quickchartButtonEl.disabled = true;  // To prevent multiple clicks.\n",
              "      quickchartButtonEl.classList.add('colab-df-spinner');\n",
              "      try {\n",
              "        const charts = await google.colab.kernel.invokeFunction(\n",
              "            'suggestCharts', [key], {});\n",
              "      } catch (error) {\n",
              "        console.error('Error during call to suggestCharts:', error);\n",
              "      }\n",
              "      quickchartButtonEl.classList.remove('colab-df-spinner');\n",
              "      quickchartButtonEl.classList.add('colab-df-quickchart-complete');\n",
              "    }\n",
              "    (() => {\n",
              "      let quickchartButtonEl =\n",
              "        document.querySelector('#df-b8cd1c7a-a4f7-451d-ab9c-09b5a0d899d9 button');\n",
              "      quickchartButtonEl.style.display =\n",
              "        google.colab.kernel.accessAllowed ? 'block' : 'none';\n",
              "    })();\n",
              "  </script>\n",
              "</div>\n",
              "    </div>\n",
              "  </div>\n"
            ],
            "application/vnd.google.colaboratory.intrinsic+json": {
              "type": "dataframe",
              "variable_name": "data",
              "summary": "{\n  \"name\": \"data\",\n  \"rows\": 1647,\n  \"fields\": [\n    {\n      \"column\": \"Full context\",\n      \"properties\": {\n        \"dtype\": \"string\",\n        \"num_unique_values\": 1645,\n        \"samples\": [\n          \"\\u041a\\u043e\\u0440\\u0440\\u0443\\u043f\\u0446\\u0438\\u043e\\u043d\\u043d\\u044b\\u0435 \\u0441\\u0445\\u0435\\u043c\\u044b \\u0432 \\u0432\\u0435\\u043a \\u0446\\u0438\\u0444\\u0440\\u043e\\u0432\\u044b\\u0445 \\u0442\\u0435\\u0445\\u043d\\u043e\\u043b\\u043e\\u0433\\u0438\\u0439 \\u043d\\u0435 \\u0441\\u043a\\u0440\\u044b\\u0442\\u044c \\u0434\\u0430\\u0436\\u0435 \\u043e\\u0442 \\u0431\\u0430\\u0431\\u043e\\u043a \\u0443 \\u043f\\u043e\\u0434\\u044a\\u0435\\u0437\\u0434\\u0430\",\n          \"\\u2015 \\u0428\\u043e\\u043d \\u2014 \\u0433\\u043b\\u0443\\u0445\\u043e\\u0439 \\u043c\\u0430\\u043b\\u044c\\u0447\\u0438\\u043a \\u0441 \\u0437\\u0430\\u0434\\u0435\\u0440\\u0436\\u043a\\u043e\\u0439 \\u0432 \\u0440\\u0430\\u0437\\u0432\\u0438\\u0442\\u0438\\u0438.\",\n          \"\\u0430\\u0445\\u0430\\u0445\\u0430\\u0445\\u0430\\u0445\\u0430\\u0445 \\u0447\\u0435\\u0442\\u043a\\u043e \\u0430\\u0445\\u0430\\u0445\\u0430\\u0445\\u0430\\u0445 \\u0421\\u0430\\u043c\\u043e\\u0435 \\u0433\\u043b\\u0430\\u0432\\u043d\\u043e\\u0435 \\u0447\\u0442\\u043e \\u0437\\u043f \\u0441\\u043e \\u0441\\u0442\\u043e\\u0440\\u043e\\u043d\\u044b \\u043f\\u0435\\u0440\\u0435\\u0441\\u0442\\u0430\\u043d\\u0443\\u0442 \\u0434\\u0430\\u0432\\u0430\\u0442\\u044c \\u0438 \\u0431\\u0443\\u0434\\u0435\\u0448\\u044c \\u043d\\u044e\\u0445\\u0430\\u0442\\u044c \\u0432 \\u0420\\u043e\\u0441\\u0441\\u0438\\u0438 \\u2015 \\u044f \\u0442\\u0435 \\u043e\\u0431\\u0435\\u0449\\u0430\\u044e, \\u043c\\u043e\\u0436\\u0435\\u0448\\u044c \\u0434\\u0430\\u0436\\u0435 \\u043a \\u0431\\u0430\\u0431\\u043a\\u0435-\\u043a\\u043e\\u043b\\u0434\\u0443\\u043d\\u044c\\u0438 \\u043d\\u0435 \\u0445\\u043e\\u0434\\u0438\\u0442\\u044c \\u041f\\u043e\\u043a\\u0430 \\u043f\\u043b\\u0430\\u0442\\u044f\\u0442 \\u2015 \\u043d\\u0430\\u0434\\u043e \\u0431\\u0430\\u0431\\u043b\\u0430 \\u0443\\u0440\\u0432\\u0430\\u0442\\u044c!!!\"\n        ],\n        \"semantic_type\": \"\",\n        \"description\": \"\"\n      }\n    },\n    {\n      \"column\": \"1 level\",\n      \"properties\": {\n        \"dtype\": \"number\",\n        \"std\": 0,\n        \"min\": 1,\n        \"max\": 5,\n        \"num_unique_values\": 5,\n        \"samples\": [\n          2,\n          5,\n          3\n        ],\n        \"semantic_type\": \"\",\n        \"description\": \"\"\n      }\n    },\n    {\n      \"column\": \"2 level\",\n      \"properties\": {\n        \"dtype\": \"number\",\n        \"std\": 1,\n        \"min\": 4,\n        \"max\": 13,\n        \"num_unique_values\": 10,\n        \"samples\": [\n          4,\n          6,\n          12\n        ],\n        \"semantic_type\": \"\",\n        \"description\": \"\"\n      }\n    },\n    {\n      \"column\": \"conn\",\n      \"properties\": {\n        \"dtype\": \"category\",\n        \"num_unique_values\": 3,\n        \"samples\": [\n          \"neutral\",\n          \"negative\",\n          \"positive\"\n        ],\n        \"semantic_type\": \"\",\n        \"description\": \"\"\n      }\n    },\n    {\n      \"column\": \"ton\",\n      \"properties\": {\n        \"dtype\": \"category\",\n        \"num_unique_values\": 3,\n        \"samples\": [\n          \"neutral\",\n          \"positive\",\n          \"negative\"\n        ],\n        \"semantic_type\": \"\",\n        \"description\": \"\"\n      }\n    }\n  ]\n}"
            }
          },
          "metadata": {},
          "execution_count": 36
        }
      ]
    },
    {
      "cell_type": "markdown",
      "source": [
        "Датасет состоит из 5 колонок:\n",
        "\n",
        "1.   **Full context**, содержит собственно контекст с номинацией лица;\n",
        "2.   **1 level** - номер группы;\n",
        "3.   **2 level** - номер подгруппы;\n",
        "4.   **conn** - коннотация (позитивная, негативная или нейтральная). Позже, при обучении модели мы перекодируем этот столбец;\n",
        "5.   **ton** - тональность текста (позитивная, негативная или нейтральная). Этот столбец при обучении мы тоже перекодируем."
      ],
      "metadata": {
        "id": "CaW2bOxIhmhd"
      }
    },
    {
      "cell_type": "code",
      "source": [
        "data.info()"
      ],
      "metadata": {
        "colab": {
          "base_uri": "https://localhost:8080/"
        },
        "id": "_sA1ysYKNuRy",
        "outputId": "4f68f11c-5794-41dc-f8db-6b59262607a4"
      },
      "execution_count": null,
      "outputs": [
        {
          "output_type": "stream",
          "name": "stdout",
          "text": [
            "<class 'pandas.core.frame.DataFrame'>\n",
            "RangeIndex: 1647 entries, 0 to 1646\n",
            "Data columns (total 5 columns):\n",
            " #   Column        Non-Null Count  Dtype \n",
            "---  ------        --------------  ----- \n",
            " 0   Full context  1647 non-null   object\n",
            " 1   1 level       1647 non-null   int64 \n",
            " 2   2 level       1647 non-null   int64 \n",
            " 3   conn          1647 non-null   object\n",
            " 4   ton           1647 non-null   object\n",
            "dtypes: int64(2), object(3)\n",
            "memory usage: 64.5+ KB\n"
          ]
        }
      ]
    },
    {
      "cell_type": "markdown",
      "source": [
        "Можно увидеть, что колонки 1 level, 2 level представлены целыми числами, а все остальные - текстовыми данными."
      ],
      "metadata": {
        "id": "UxSBqd38GakT"
      }
    },
    {
      "cell_type": "markdown",
      "source": [
        "## Предобработка датасета"
      ],
      "metadata": {
        "id": "T-Me1jxOKVqs"
      }
    },
    {
      "cell_type": "code",
      "source": [
        "!python -m spacy download ru_core_news_sm"
      ],
      "metadata": {
        "colab": {
          "base_uri": "https://localhost:8080/"
        },
        "collapsed": true,
        "id": "047BQwUgN510",
        "outputId": "7d069ebe-6bff-4ede-eae9-c3324730e371"
      },
      "execution_count": null,
      "outputs": [
        {
          "output_type": "stream",
          "name": "stdout",
          "text": [
            "Collecting ru-core-news-sm==3.7.0\n",
            "  Downloading https://github.com/explosion/spacy-models/releases/download/ru_core_news_sm-3.7.0/ru_core_news_sm-3.7.0-py3-none-any.whl (15.3 MB)\n",
            "\u001b[2K     \u001b[90m━━━━━━━━━━━━━━━━━━━━━━━━━━━━━━━━━━━━━━━━\u001b[0m \u001b[32m15.3/15.3 MB\u001b[0m \u001b[31m42.9 MB/s\u001b[0m eta \u001b[36m0:00:00\u001b[0m\n",
            "\u001b[?25hRequirement already satisfied: spacy<3.8.0,>=3.7.0 in /usr/local/lib/python3.10/dist-packages (from ru-core-news-sm==3.7.0) (3.7.5)\n",
            "Requirement already satisfied: pymorphy3>=1.0.0 in /usr/local/lib/python3.10/dist-packages (from ru-core-news-sm==3.7.0) (2.0.1)\n",
            "Requirement already satisfied: dawg-python>=0.7.1 in /usr/local/lib/python3.10/dist-packages (from pymorphy3>=1.0.0->ru-core-news-sm==3.7.0) (0.7.2)\n",
            "Requirement already satisfied: pymorphy3-dicts-ru in /usr/local/lib/python3.10/dist-packages (from pymorphy3>=1.0.0->ru-core-news-sm==3.7.0) (2.4.417150.4580142)\n",
            "Requirement already satisfied: spacy-legacy<3.1.0,>=3.0.11 in /usr/local/lib/python3.10/dist-packages (from spacy<3.8.0,>=3.7.0->ru-core-news-sm==3.7.0) (3.0.12)\n",
            "Requirement already satisfied: spacy-loggers<2.0.0,>=1.0.0 in /usr/local/lib/python3.10/dist-packages (from spacy<3.8.0,>=3.7.0->ru-core-news-sm==3.7.0) (1.0.5)\n",
            "Requirement already satisfied: murmurhash<1.1.0,>=0.28.0 in /usr/local/lib/python3.10/dist-packages (from spacy<3.8.0,>=3.7.0->ru-core-news-sm==3.7.0) (1.0.10)\n",
            "Requirement already satisfied: cymem<2.1.0,>=2.0.2 in /usr/local/lib/python3.10/dist-packages (from spacy<3.8.0,>=3.7.0->ru-core-news-sm==3.7.0) (2.0.8)\n",
            "Requirement already satisfied: preshed<3.1.0,>=3.0.2 in /usr/local/lib/python3.10/dist-packages (from spacy<3.8.0,>=3.7.0->ru-core-news-sm==3.7.0) (3.0.9)\n",
            "Requirement already satisfied: thinc<8.3.0,>=8.2.2 in /usr/local/lib/python3.10/dist-packages (from spacy<3.8.0,>=3.7.0->ru-core-news-sm==3.7.0) (8.2.4)\n",
            "Requirement already satisfied: wasabi<1.2.0,>=0.9.1 in /usr/local/lib/python3.10/dist-packages (from spacy<3.8.0,>=3.7.0->ru-core-news-sm==3.7.0) (1.1.3)\n",
            "Requirement already satisfied: srsly<3.0.0,>=2.4.3 in /usr/local/lib/python3.10/dist-packages (from spacy<3.8.0,>=3.7.0->ru-core-news-sm==3.7.0) (2.4.8)\n",
            "Requirement already satisfied: catalogue<2.1.0,>=2.0.6 in /usr/local/lib/python3.10/dist-packages (from spacy<3.8.0,>=3.7.0->ru-core-news-sm==3.7.0) (2.0.10)\n",
            "Requirement already satisfied: weasel<0.5.0,>=0.1.0 in /usr/local/lib/python3.10/dist-packages (from spacy<3.8.0,>=3.7.0->ru-core-news-sm==3.7.0) (0.4.1)\n",
            "Requirement already satisfied: typer<1.0.0,>=0.3.0 in /usr/local/lib/python3.10/dist-packages (from spacy<3.8.0,>=3.7.0->ru-core-news-sm==3.7.0) (0.12.3)\n",
            "Requirement already satisfied: tqdm<5.0.0,>=4.38.0 in /usr/local/lib/python3.10/dist-packages (from spacy<3.8.0,>=3.7.0->ru-core-news-sm==3.7.0) (4.66.4)\n",
            "Requirement already satisfied: requests<3.0.0,>=2.13.0 in /usr/local/lib/python3.10/dist-packages (from spacy<3.8.0,>=3.7.0->ru-core-news-sm==3.7.0) (2.31.0)\n",
            "Requirement already satisfied: pydantic!=1.8,!=1.8.1,<3.0.0,>=1.7.4 in /usr/local/lib/python3.10/dist-packages (from spacy<3.8.0,>=3.7.0->ru-core-news-sm==3.7.0) (2.7.3)\n",
            "Requirement already satisfied: jinja2 in /usr/local/lib/python3.10/dist-packages (from spacy<3.8.0,>=3.7.0->ru-core-news-sm==3.7.0) (3.1.4)\n",
            "Requirement already satisfied: setuptools in /usr/local/lib/python3.10/dist-packages (from spacy<3.8.0,>=3.7.0->ru-core-news-sm==3.7.0) (67.7.2)\n",
            "Requirement already satisfied: packaging>=20.0 in /usr/local/lib/python3.10/dist-packages (from spacy<3.8.0,>=3.7.0->ru-core-news-sm==3.7.0) (24.1)\n",
            "Requirement already satisfied: langcodes<4.0.0,>=3.2.0 in /usr/local/lib/python3.10/dist-packages (from spacy<3.8.0,>=3.7.0->ru-core-news-sm==3.7.0) (3.4.0)\n",
            "Requirement already satisfied: numpy>=1.19.0 in /usr/local/lib/python3.10/dist-packages (from spacy<3.8.0,>=3.7.0->ru-core-news-sm==3.7.0) (1.25.2)\n",
            "Requirement already satisfied: language-data>=1.2 in /usr/local/lib/python3.10/dist-packages (from langcodes<4.0.0,>=3.2.0->spacy<3.8.0,>=3.7.0->ru-core-news-sm==3.7.0) (1.2.0)\n",
            "Requirement already satisfied: annotated-types>=0.4.0 in /usr/local/lib/python3.10/dist-packages (from pydantic!=1.8,!=1.8.1,<3.0.0,>=1.7.4->spacy<3.8.0,>=3.7.0->ru-core-news-sm==3.7.0) (0.7.0)\n",
            "Requirement already satisfied: pydantic-core==2.18.4 in /usr/local/lib/python3.10/dist-packages (from pydantic!=1.8,!=1.8.1,<3.0.0,>=1.7.4->spacy<3.8.0,>=3.7.0->ru-core-news-sm==3.7.0) (2.18.4)\n",
            "Requirement already satisfied: typing-extensions>=4.6.1 in /usr/local/lib/python3.10/dist-packages (from pydantic!=1.8,!=1.8.1,<3.0.0,>=1.7.4->spacy<3.8.0,>=3.7.0->ru-core-news-sm==3.7.0) (4.12.2)\n",
            "Requirement already satisfied: charset-normalizer<4,>=2 in /usr/local/lib/python3.10/dist-packages (from requests<3.0.0,>=2.13.0->spacy<3.8.0,>=3.7.0->ru-core-news-sm==3.7.0) (3.3.2)\n",
            "Requirement already satisfied: idna<4,>=2.5 in /usr/local/lib/python3.10/dist-packages (from requests<3.0.0,>=2.13.0->spacy<3.8.0,>=3.7.0->ru-core-news-sm==3.7.0) (3.7)\n",
            "Requirement already satisfied: urllib3<3,>=1.21.1 in /usr/local/lib/python3.10/dist-packages (from requests<3.0.0,>=2.13.0->spacy<3.8.0,>=3.7.0->ru-core-news-sm==3.7.0) (2.0.7)\n",
            "Requirement already satisfied: certifi>=2017.4.17 in /usr/local/lib/python3.10/dist-packages (from requests<3.0.0,>=2.13.0->spacy<3.8.0,>=3.7.0->ru-core-news-sm==3.7.0) (2024.6.2)\n",
            "Requirement already satisfied: blis<0.8.0,>=0.7.8 in /usr/local/lib/python3.10/dist-packages (from thinc<8.3.0,>=8.2.2->spacy<3.8.0,>=3.7.0->ru-core-news-sm==3.7.0) (0.7.11)\n",
            "Requirement already satisfied: confection<1.0.0,>=0.0.1 in /usr/local/lib/python3.10/dist-packages (from thinc<8.3.0,>=8.2.2->spacy<3.8.0,>=3.7.0->ru-core-news-sm==3.7.0) (0.1.5)\n",
            "Requirement already satisfied: click>=8.0.0 in /usr/local/lib/python3.10/dist-packages (from typer<1.0.0,>=0.3.0->spacy<3.8.0,>=3.7.0->ru-core-news-sm==3.7.0) (8.1.7)\n",
            "Requirement already satisfied: shellingham>=1.3.0 in /usr/local/lib/python3.10/dist-packages (from typer<1.0.0,>=0.3.0->spacy<3.8.0,>=3.7.0->ru-core-news-sm==3.7.0) (1.5.4)\n",
            "Requirement already satisfied: rich>=10.11.0 in /usr/local/lib/python3.10/dist-packages (from typer<1.0.0,>=0.3.0->spacy<3.8.0,>=3.7.0->ru-core-news-sm==3.7.0) (13.7.1)\n",
            "Requirement already satisfied: cloudpathlib<1.0.0,>=0.7.0 in /usr/local/lib/python3.10/dist-packages (from weasel<0.5.0,>=0.1.0->spacy<3.8.0,>=3.7.0->ru-core-news-sm==3.7.0) (0.18.1)\n",
            "Requirement already satisfied: smart-open<8.0.0,>=5.2.1 in /usr/local/lib/python3.10/dist-packages (from weasel<0.5.0,>=0.1.0->spacy<3.8.0,>=3.7.0->ru-core-news-sm==3.7.0) (7.0.4)\n",
            "Requirement already satisfied: MarkupSafe>=2.0 in /usr/local/lib/python3.10/dist-packages (from jinja2->spacy<3.8.0,>=3.7.0->ru-core-news-sm==3.7.0) (2.1.5)\n",
            "Requirement already satisfied: marisa-trie>=0.7.7 in /usr/local/lib/python3.10/dist-packages (from language-data>=1.2->langcodes<4.0.0,>=3.2.0->spacy<3.8.0,>=3.7.0->ru-core-news-sm==3.7.0) (1.2.0)\n",
            "Requirement already satisfied: markdown-it-py>=2.2.0 in /usr/local/lib/python3.10/dist-packages (from rich>=10.11.0->typer<1.0.0,>=0.3.0->spacy<3.8.0,>=3.7.0->ru-core-news-sm==3.7.0) (3.0.0)\n",
            "Requirement already satisfied: pygments<3.0.0,>=2.13.0 in /usr/local/lib/python3.10/dist-packages (from rich>=10.11.0->typer<1.0.0,>=0.3.0->spacy<3.8.0,>=3.7.0->ru-core-news-sm==3.7.0) (2.16.1)\n",
            "Requirement already satisfied: wrapt in /usr/local/lib/python3.10/dist-packages (from smart-open<8.0.0,>=5.2.1->weasel<0.5.0,>=0.1.0->spacy<3.8.0,>=3.7.0->ru-core-news-sm==3.7.0) (1.14.1)\n",
            "Requirement already satisfied: mdurl~=0.1 in /usr/local/lib/python3.10/dist-packages (from markdown-it-py>=2.2.0->rich>=10.11.0->typer<1.0.0,>=0.3.0->spacy<3.8.0,>=3.7.0->ru-core-news-sm==3.7.0) (0.1.2)\n",
            "\u001b[38;5;2m✔ Download and installation successful\u001b[0m\n",
            "You can now load the package via spacy.load('ru_core_news_sm')\n",
            "\u001b[38;5;3m⚠ Restart to reload dependencies\u001b[0m\n",
            "If you are in a Jupyter or Colab notebook, you may need to restart Python in\n",
            "order to load all the package's dependencies. You can do this by selecting the\n",
            "'Restart kernel' or 'Restart runtime' option.\n"
          ]
        }
      ]
    },
    {
      "cell_type": "code",
      "source": [
        "nlp = spacy.load(\"ru_core_news_sm\")"
      ],
      "metadata": {
        "id": "gyoZn30bOZp8"
      },
      "execution_count": null,
      "outputs": []
    },
    {
      "cell_type": "code",
      "source": [
        "def preprocess(text):\n",
        "    # Удаление ссылок\n",
        "    text = re.sub(r'http\\S+|www\\S+|https\\S+', '', text, flags=re.MULTILINE)\n",
        "    # Удаление слэшей\n",
        "    text = re.sub(r'\\/', ' ', text)\n",
        "    # Удаление цифр\n",
        "    text = re.sub(r'\\d+', '', text)\n",
        "    doc = nlp(text)\n",
        "    tokens = [token.lemma_ for token in doc if not token.is_stop]\n",
        "    return \" \".join(tokens)"
      ],
      "metadata": {
        "id": "MoAyYESgOTJc"
      },
      "execution_count": null,
      "outputs": []
    },
    {
      "cell_type": "code",
      "source": [
        "result_df = data.copy()\n",
        "#применяем предобработку ко всему датасету\n",
        "result_df['Full context'] = result_df['Full context'].apply(lambda x: pd.Series(preprocess(x)))"
      ],
      "metadata": {
        "id": "kCJM8bZEPC8f"
      },
      "execution_count": null,
      "outputs": []
    },
    {
      "cell_type": "code",
      "source": [
        "result_df"
      ],
      "metadata": {
        "colab": {
          "base_uri": "https://localhost:8080/",
          "height": 423
        },
        "id": "ByzY3fh5PpwB",
        "outputId": "9e09f286-cdca-4d19-adb8-0793d47cf230"
      },
      "execution_count": null,
      "outputs": [
        {
          "output_type": "execute_result",
          "data": {
            "text/plain": [
              "                                           Full context  1 level  2 level  \\\n",
              "0                     дева , хороший май - слинг эрго ?        1        8   \n",
              "1     \"   esky . ru   catalog   item       дева , ск...        1        8   \n",
              "2     \" дева , эстетик , , партия , цвет хз зависеть...        1        8   \n",
              "3     неспроста дешёвый камы переги . \" дева ! итог ...        1        8   \n",
              "4     дева , проблема - ре перестать ходить горшок !...        1        8   \n",
              "...                                                 ...      ...      ...   \n",
              "1642     упражнение артист балет день девочка мальчик .        2        9   \n",
              "1643  уютный тёплый пространство \" lucky\"@ luckyvrn ...        2        9   \n",
              "1644  три стадии развитие мальчиков мальчик расти , ...        2        9   \n",
              "1645  , утруждать , впихивать чадо полезный злак , о...        3       13   \n",
              "1646  мальчик постоянно находиться сфера ваш внимани...        2        9   \n",
              "\n",
              "         conn       ton  \n",
              "0     neutral   neutral  \n",
              "1     neutral   neutral  \n",
              "2     neutral  positive  \n",
              "3     neutral  negative  \n",
              "4     neutral  negative  \n",
              "...       ...       ...  \n",
              "1642  neutral   neutral  \n",
              "1643  neutral   neutral  \n",
              "1644  neutral   neutral  \n",
              "1645  neutral  positive  \n",
              "1646  neutral   neutral  \n",
              "\n",
              "[1647 rows x 5 columns]"
            ],
            "text/html": [
              "\n",
              "  <div id=\"df-34c30597-e021-47a0-a1c2-1a35188771aa\" class=\"colab-df-container\">\n",
              "    <div>\n",
              "<style scoped>\n",
              "    .dataframe tbody tr th:only-of-type {\n",
              "        vertical-align: middle;\n",
              "    }\n",
              "\n",
              "    .dataframe tbody tr th {\n",
              "        vertical-align: top;\n",
              "    }\n",
              "\n",
              "    .dataframe thead th {\n",
              "        text-align: right;\n",
              "    }\n",
              "</style>\n",
              "<table border=\"1\" class=\"dataframe\">\n",
              "  <thead>\n",
              "    <tr style=\"text-align: right;\">\n",
              "      <th></th>\n",
              "      <th>Full context</th>\n",
              "      <th>1 level</th>\n",
              "      <th>2 level</th>\n",
              "      <th>conn</th>\n",
              "      <th>ton</th>\n",
              "    </tr>\n",
              "  </thead>\n",
              "  <tbody>\n",
              "    <tr>\n",
              "      <th>0</th>\n",
              "      <td>дева , хороший май - слинг эрго ?</td>\n",
              "      <td>1</td>\n",
              "      <td>8</td>\n",
              "      <td>neutral</td>\n",
              "      <td>neutral</td>\n",
              "    </tr>\n",
              "    <tr>\n",
              "      <th>1</th>\n",
              "      <td>\"   esky . ru   catalog   item       дева , ск...</td>\n",
              "      <td>1</td>\n",
              "      <td>8</td>\n",
              "      <td>neutral</td>\n",
              "      <td>neutral</td>\n",
              "    </tr>\n",
              "    <tr>\n",
              "      <th>2</th>\n",
              "      <td>\" дева , эстетик , , партия , цвет хз зависеть...</td>\n",
              "      <td>1</td>\n",
              "      <td>8</td>\n",
              "      <td>neutral</td>\n",
              "      <td>positive</td>\n",
              "    </tr>\n",
              "    <tr>\n",
              "      <th>3</th>\n",
              "      <td>неспроста дешёвый камы переги . \" дева ! итог ...</td>\n",
              "      <td>1</td>\n",
              "      <td>8</td>\n",
              "      <td>neutral</td>\n",
              "      <td>negative</td>\n",
              "    </tr>\n",
              "    <tr>\n",
              "      <th>4</th>\n",
              "      <td>дева , проблема - ре перестать ходить горшок !...</td>\n",
              "      <td>1</td>\n",
              "      <td>8</td>\n",
              "      <td>neutral</td>\n",
              "      <td>negative</td>\n",
              "    </tr>\n",
              "    <tr>\n",
              "      <th>...</th>\n",
              "      <td>...</td>\n",
              "      <td>...</td>\n",
              "      <td>...</td>\n",
              "      <td>...</td>\n",
              "      <td>...</td>\n",
              "    </tr>\n",
              "    <tr>\n",
              "      <th>1642</th>\n",
              "      <td>упражнение артист балет день девочка мальчик .</td>\n",
              "      <td>2</td>\n",
              "      <td>9</td>\n",
              "      <td>neutral</td>\n",
              "      <td>neutral</td>\n",
              "    </tr>\n",
              "    <tr>\n",
              "      <th>1643</th>\n",
              "      <td>уютный тёплый пространство \" lucky\"@ luckyvrn ...</td>\n",
              "      <td>2</td>\n",
              "      <td>9</td>\n",
              "      <td>neutral</td>\n",
              "      <td>neutral</td>\n",
              "    </tr>\n",
              "    <tr>\n",
              "      <th>1644</th>\n",
              "      <td>три стадии развитие мальчиков мальчик расти , ...</td>\n",
              "      <td>2</td>\n",
              "      <td>9</td>\n",
              "      <td>neutral</td>\n",
              "      <td>neutral</td>\n",
              "    </tr>\n",
              "    <tr>\n",
              "      <th>1645</th>\n",
              "      <td>, утруждать , впихивать чадо полезный злак , о...</td>\n",
              "      <td>3</td>\n",
              "      <td>13</td>\n",
              "      <td>neutral</td>\n",
              "      <td>positive</td>\n",
              "    </tr>\n",
              "    <tr>\n",
              "      <th>1646</th>\n",
              "      <td>мальчик постоянно находиться сфера ваш внимани...</td>\n",
              "      <td>2</td>\n",
              "      <td>9</td>\n",
              "      <td>neutral</td>\n",
              "      <td>neutral</td>\n",
              "    </tr>\n",
              "  </tbody>\n",
              "</table>\n",
              "<p>1647 rows × 5 columns</p>\n",
              "</div>\n",
              "    <div class=\"colab-df-buttons\">\n",
              "\n",
              "  <div class=\"colab-df-container\">\n",
              "    <button class=\"colab-df-convert\" onclick=\"convertToInteractive('df-34c30597-e021-47a0-a1c2-1a35188771aa')\"\n",
              "            title=\"Convert this dataframe to an interactive table.\"\n",
              "            style=\"display:none;\">\n",
              "\n",
              "  <svg xmlns=\"http://www.w3.org/2000/svg\" height=\"24px\" viewBox=\"0 -960 960 960\">\n",
              "    <path d=\"M120-120v-720h720v720H120Zm60-500h600v-160H180v160Zm220 220h160v-160H400v160Zm0 220h160v-160H400v160ZM180-400h160v-160H180v160Zm440 0h160v-160H620v160ZM180-180h160v-160H180v160Zm440 0h160v-160H620v160Z\"/>\n",
              "  </svg>\n",
              "    </button>\n",
              "\n",
              "  <style>\n",
              "    .colab-df-container {\n",
              "      display:flex;\n",
              "      gap: 12px;\n",
              "    }\n",
              "\n",
              "    .colab-df-convert {\n",
              "      background-color: #E8F0FE;\n",
              "      border: none;\n",
              "      border-radius: 50%;\n",
              "      cursor: pointer;\n",
              "      display: none;\n",
              "      fill: #1967D2;\n",
              "      height: 32px;\n",
              "      padding: 0 0 0 0;\n",
              "      width: 32px;\n",
              "    }\n",
              "\n",
              "    .colab-df-convert:hover {\n",
              "      background-color: #E2EBFA;\n",
              "      box-shadow: 0px 1px 2px rgba(60, 64, 67, 0.3), 0px 1px 3px 1px rgba(60, 64, 67, 0.15);\n",
              "      fill: #174EA6;\n",
              "    }\n",
              "\n",
              "    .colab-df-buttons div {\n",
              "      margin-bottom: 4px;\n",
              "    }\n",
              "\n",
              "    [theme=dark] .colab-df-convert {\n",
              "      background-color: #3B4455;\n",
              "      fill: #D2E3FC;\n",
              "    }\n",
              "\n",
              "    [theme=dark] .colab-df-convert:hover {\n",
              "      background-color: #434B5C;\n",
              "      box-shadow: 0px 1px 3px 1px rgba(0, 0, 0, 0.15);\n",
              "      filter: drop-shadow(0px 1px 2px rgba(0, 0, 0, 0.3));\n",
              "      fill: #FFFFFF;\n",
              "    }\n",
              "  </style>\n",
              "\n",
              "    <script>\n",
              "      const buttonEl =\n",
              "        document.querySelector('#df-34c30597-e021-47a0-a1c2-1a35188771aa button.colab-df-convert');\n",
              "      buttonEl.style.display =\n",
              "        google.colab.kernel.accessAllowed ? 'block' : 'none';\n",
              "\n",
              "      async function convertToInteractive(key) {\n",
              "        const element = document.querySelector('#df-34c30597-e021-47a0-a1c2-1a35188771aa');\n",
              "        const dataTable =\n",
              "          await google.colab.kernel.invokeFunction('convertToInteractive',\n",
              "                                                    [key], {});\n",
              "        if (!dataTable) return;\n",
              "\n",
              "        const docLinkHtml = 'Like what you see? Visit the ' +\n",
              "          '<a target=\"_blank\" href=https://colab.research.google.com/notebooks/data_table.ipynb>data table notebook</a>'\n",
              "          + ' to learn more about interactive tables.';\n",
              "        element.innerHTML = '';\n",
              "        dataTable['output_type'] = 'display_data';\n",
              "        await google.colab.output.renderOutput(dataTable, element);\n",
              "        const docLink = document.createElement('div');\n",
              "        docLink.innerHTML = docLinkHtml;\n",
              "        element.appendChild(docLink);\n",
              "      }\n",
              "    </script>\n",
              "  </div>\n",
              "\n",
              "\n",
              "<div id=\"df-3ab773ec-00a0-4d5a-acf9-cc6de35a2f76\">\n",
              "  <button class=\"colab-df-quickchart\" onclick=\"quickchart('df-3ab773ec-00a0-4d5a-acf9-cc6de35a2f76')\"\n",
              "            title=\"Suggest charts\"\n",
              "            style=\"display:none;\">\n",
              "\n",
              "<svg xmlns=\"http://www.w3.org/2000/svg\" height=\"24px\"viewBox=\"0 0 24 24\"\n",
              "     width=\"24px\">\n",
              "    <g>\n",
              "        <path d=\"M19 3H5c-1.1 0-2 .9-2 2v14c0 1.1.9 2 2 2h14c1.1 0 2-.9 2-2V5c0-1.1-.9-2-2-2zM9 17H7v-7h2v7zm4 0h-2V7h2v10zm4 0h-2v-4h2v4z\"/>\n",
              "    </g>\n",
              "</svg>\n",
              "  </button>\n",
              "\n",
              "<style>\n",
              "  .colab-df-quickchart {\n",
              "      --bg-color: #E8F0FE;\n",
              "      --fill-color: #1967D2;\n",
              "      --hover-bg-color: #E2EBFA;\n",
              "      --hover-fill-color: #174EA6;\n",
              "      --disabled-fill-color: #AAA;\n",
              "      --disabled-bg-color: #DDD;\n",
              "  }\n",
              "\n",
              "  [theme=dark] .colab-df-quickchart {\n",
              "      --bg-color: #3B4455;\n",
              "      --fill-color: #D2E3FC;\n",
              "      --hover-bg-color: #434B5C;\n",
              "      --hover-fill-color: #FFFFFF;\n",
              "      --disabled-bg-color: #3B4455;\n",
              "      --disabled-fill-color: #666;\n",
              "  }\n",
              "\n",
              "  .colab-df-quickchart {\n",
              "    background-color: var(--bg-color);\n",
              "    border: none;\n",
              "    border-radius: 50%;\n",
              "    cursor: pointer;\n",
              "    display: none;\n",
              "    fill: var(--fill-color);\n",
              "    height: 32px;\n",
              "    padding: 0;\n",
              "    width: 32px;\n",
              "  }\n",
              "\n",
              "  .colab-df-quickchart:hover {\n",
              "    background-color: var(--hover-bg-color);\n",
              "    box-shadow: 0 1px 2px rgba(60, 64, 67, 0.3), 0 1px 3px 1px rgba(60, 64, 67, 0.15);\n",
              "    fill: var(--button-hover-fill-color);\n",
              "  }\n",
              "\n",
              "  .colab-df-quickchart-complete:disabled,\n",
              "  .colab-df-quickchart-complete:disabled:hover {\n",
              "    background-color: var(--disabled-bg-color);\n",
              "    fill: var(--disabled-fill-color);\n",
              "    box-shadow: none;\n",
              "  }\n",
              "\n",
              "  .colab-df-spinner {\n",
              "    border: 2px solid var(--fill-color);\n",
              "    border-color: transparent;\n",
              "    border-bottom-color: var(--fill-color);\n",
              "    animation:\n",
              "      spin 1s steps(1) infinite;\n",
              "  }\n",
              "\n",
              "  @keyframes spin {\n",
              "    0% {\n",
              "      border-color: transparent;\n",
              "      border-bottom-color: var(--fill-color);\n",
              "      border-left-color: var(--fill-color);\n",
              "    }\n",
              "    20% {\n",
              "      border-color: transparent;\n",
              "      border-left-color: var(--fill-color);\n",
              "      border-top-color: var(--fill-color);\n",
              "    }\n",
              "    30% {\n",
              "      border-color: transparent;\n",
              "      border-left-color: var(--fill-color);\n",
              "      border-top-color: var(--fill-color);\n",
              "      border-right-color: var(--fill-color);\n",
              "    }\n",
              "    40% {\n",
              "      border-color: transparent;\n",
              "      border-right-color: var(--fill-color);\n",
              "      border-top-color: var(--fill-color);\n",
              "    }\n",
              "    60% {\n",
              "      border-color: transparent;\n",
              "      border-right-color: var(--fill-color);\n",
              "    }\n",
              "    80% {\n",
              "      border-color: transparent;\n",
              "      border-right-color: var(--fill-color);\n",
              "      border-bottom-color: var(--fill-color);\n",
              "    }\n",
              "    90% {\n",
              "      border-color: transparent;\n",
              "      border-bottom-color: var(--fill-color);\n",
              "    }\n",
              "  }\n",
              "</style>\n",
              "\n",
              "  <script>\n",
              "    async function quickchart(key) {\n",
              "      const quickchartButtonEl =\n",
              "        document.querySelector('#' + key + ' button');\n",
              "      quickchartButtonEl.disabled = true;  // To prevent multiple clicks.\n",
              "      quickchartButtonEl.classList.add('colab-df-spinner');\n",
              "      try {\n",
              "        const charts = await google.colab.kernel.invokeFunction(\n",
              "            'suggestCharts', [key], {});\n",
              "      } catch (error) {\n",
              "        console.error('Error during call to suggestCharts:', error);\n",
              "      }\n",
              "      quickchartButtonEl.classList.remove('colab-df-spinner');\n",
              "      quickchartButtonEl.classList.add('colab-df-quickchart-complete');\n",
              "    }\n",
              "    (() => {\n",
              "      let quickchartButtonEl =\n",
              "        document.querySelector('#df-3ab773ec-00a0-4d5a-acf9-cc6de35a2f76 button');\n",
              "      quickchartButtonEl.style.display =\n",
              "        google.colab.kernel.accessAllowed ? 'block' : 'none';\n",
              "    })();\n",
              "  </script>\n",
              "</div>\n",
              "    </div>\n",
              "  </div>\n"
            ],
            "application/vnd.google.colaboratory.intrinsic+json": {
              "type": "dataframe",
              "variable_name": "result_df",
              "summary": "{\n  \"name\": \"result_df\",\n  \"rows\": 1647,\n  \"fields\": [\n    {\n      \"column\": \"Full context\",\n      \"properties\": {\n        \"dtype\": \"string\",\n        \"num_unique_values\": 1645,\n        \"samples\": [\n          \"\\u043a\\u043e\\u0440\\u0440\\u0443\\u043f\\u0446\\u0438\\u043e\\u043d\\u043d\\u044b\\u0439 \\u0441\\u0445\\u0435\\u043c\\u0430 \\u0432\\u0435\\u043a \\u0446\\u0438\\u0444\\u0440\\u043e\\u0432\\u043e\\u0439 \\u0442\\u0435\\u0445\\u043d\\u043e\\u043b\\u043e\\u0433\\u0438\\u044f \\u0441\\u043a\\u0440\\u044b\\u0442\\u044c \\u0431\\u0430\\u0431\\u043a\\u0430 \\u043f\\u043e\\u0434\\u044a\\u0435\\u0437\\u0434\",\n          \"\\u2015 \\u0448\\u043e\\u043d \\u2014 \\u0433\\u043b\\u0443\\u0445\\u043e\\u0439 \\u043c\\u0430\\u043b\\u044c\\u0447\\u0438\\u043a \\u0437\\u0430\\u0434\\u0435\\u0440\\u0436\\u043a\\u0430 \\u0440\\u0430\\u0437\\u0432\\u0438\\u0442\\u0438\\u0435 .\",\n          \"\\u0430\\u0445\\u0430\\u0445\\u0430\\u0445\\u0430\\u0445\\u0430\\u0445 \\u0447\\u0435\\u0442\\u043a\\u043e \\u0430\\u0445\\u0430\\u0445\\u0430\\u0445\\u0430\\u0445 \\u0433\\u043b\\u0430\\u0432\\u043d\\u044b\\u0439 \\u0437\\u043f \\u0441\\u0442\\u043e\\u0440\\u043e\\u043d\\u0430 \\u043f\\u0435\\u0440\\u0435\\u0441\\u0442\\u0430\\u0442\\u044c \\u0434\\u0430\\u0432\\u0430\\u0442\\u044c \\u043d\\u044e\\u0445\\u0430\\u0442\\u044c \\u0440\\u043e\\u0441\\u0441\\u0438\\u044f \\u2015 \\u043e\\u0431\\u0435\\u0449\\u0430\\u0442\\u044c , \\u0431\\u0430\\u0431\\u043a\\u0430 - \\u043a\\u043e\\u043b\\u0434\\u0443\\u043d\\u044c\\u044f \\u0445\\u043e\\u0434\\u0438\\u0442\\u044c \\u043f\\u043b\\u0430\\u0442\\u0438\\u0442\\u044c \\u2015 \\u0431\\u0430\\u0431\\u043b\\u0430 \\u0443\\u0440\\u0432\\u0430\\u0442\\u044c ! ! !\"\n        ],\n        \"semantic_type\": \"\",\n        \"description\": \"\"\n      }\n    },\n    {\n      \"column\": \"1 level\",\n      \"properties\": {\n        \"dtype\": \"number\",\n        \"std\": 0,\n        \"min\": 1,\n        \"max\": 5,\n        \"num_unique_values\": 5,\n        \"samples\": [\n          2,\n          5,\n          3\n        ],\n        \"semantic_type\": \"\",\n        \"description\": \"\"\n      }\n    },\n    {\n      \"column\": \"2 level\",\n      \"properties\": {\n        \"dtype\": \"number\",\n        \"std\": 1,\n        \"min\": 4,\n        \"max\": 13,\n        \"num_unique_values\": 10,\n        \"samples\": [\n          4,\n          6,\n          12\n        ],\n        \"semantic_type\": \"\",\n        \"description\": \"\"\n      }\n    },\n    {\n      \"column\": \"conn\",\n      \"properties\": {\n        \"dtype\": \"category\",\n        \"num_unique_values\": 3,\n        \"samples\": [\n          \"neutral\",\n          \"negative\",\n          \"positive\"\n        ],\n        \"semantic_type\": \"\",\n        \"description\": \"\"\n      }\n    },\n    {\n      \"column\": \"ton\",\n      \"properties\": {\n        \"dtype\": \"category\",\n        \"num_unique_values\": 3,\n        \"samples\": [\n          \"neutral\",\n          \"positive\",\n          \"negative\"\n        ],\n        \"semantic_type\": \"\",\n        \"description\": \"\"\n      }\n    }\n  ]\n}"
            }
          },
          "metadata": {},
          "execution_count": 42
        }
      ]
    },
    {
      "cell_type": "code",
      "source": [
        "result_df = result_df.sample(frac=1).reset_index(drop=True)\n",
        "result_df\n",
        "\n",
        "# перемешиваем датафрейм"
      ],
      "metadata": {
        "colab": {
          "base_uri": "https://localhost:8080/",
          "height": 423
        },
        "id": "v_UJXrY5uz7D",
        "outputId": "64fc1ef5-9bd0-4166-904b-1f68837b942e"
      },
      "execution_count": null,
      "outputs": [
        {
          "output_type": "execute_result",
          "data": {
            "text/plain": [
              "                                           Full context  1 level  2 level  \\\n",
              "0     ― упасть pешкой пиво !   ― встанет pебpом баба...        1        8   \n",
              "1           понимание баба , мужик , виноватый , ипет !        1        8   \n",
              "2                       садиться здоровый лысый мужик .        4        4   \n",
              "3       мальчик опустить глаз тихо сказать : – собака .        2        9   \n",
              "4     спрашивать ― отвечать : , баба маша поддрержив...        2       11   \n",
              "...                                                 ...      ...      ...   \n",
              "1642                                     мужик забирать        1        8   \n",
              "1643  мальчик португалия , , видео перевести английс...        2        9   \n",
              "1644  спасибо , туфелька треугольничке : \" дурной ба...        1        8   \n",
              "1645  нa грузинский свaдьбе другому : ― нa многих св...        1        8   \n",
              "1646                      — мама сказать , баб водить .        1        8   \n",
              "\n",
              "          conn       ton  \n",
              "0      neutral   neutral  \n",
              "1     negative  negative  \n",
              "2      neutral  negative  \n",
              "3      neutral   neutral  \n",
              "4      neutral   neutral  \n",
              "...        ...       ...  \n",
              "1642   neutral  negative  \n",
              "1643   neutral   neutral  \n",
              "1644  negative   neutral  \n",
              "1645   neutral  negative  \n",
              "1646   neutral   neutral  \n",
              "\n",
              "[1647 rows x 5 columns]"
            ],
            "text/html": [
              "\n",
              "  <div id=\"df-35bdb7a9-69d7-41b5-b041-4ee9d8ca296f\" class=\"colab-df-container\">\n",
              "    <div>\n",
              "<style scoped>\n",
              "    .dataframe tbody tr th:only-of-type {\n",
              "        vertical-align: middle;\n",
              "    }\n",
              "\n",
              "    .dataframe tbody tr th {\n",
              "        vertical-align: top;\n",
              "    }\n",
              "\n",
              "    .dataframe thead th {\n",
              "        text-align: right;\n",
              "    }\n",
              "</style>\n",
              "<table border=\"1\" class=\"dataframe\">\n",
              "  <thead>\n",
              "    <tr style=\"text-align: right;\">\n",
              "      <th></th>\n",
              "      <th>Full context</th>\n",
              "      <th>1 level</th>\n",
              "      <th>2 level</th>\n",
              "      <th>conn</th>\n",
              "      <th>ton</th>\n",
              "    </tr>\n",
              "  </thead>\n",
              "  <tbody>\n",
              "    <tr>\n",
              "      <th>0</th>\n",
              "      <td>― упасть pешкой пиво !   ― встанет pебpом баба...</td>\n",
              "      <td>1</td>\n",
              "      <td>8</td>\n",
              "      <td>neutral</td>\n",
              "      <td>neutral</td>\n",
              "    </tr>\n",
              "    <tr>\n",
              "      <th>1</th>\n",
              "      <td>понимание баба , мужик , виноватый , ипет !</td>\n",
              "      <td>1</td>\n",
              "      <td>8</td>\n",
              "      <td>negative</td>\n",
              "      <td>negative</td>\n",
              "    </tr>\n",
              "    <tr>\n",
              "      <th>2</th>\n",
              "      <td>садиться здоровый лысый мужик .</td>\n",
              "      <td>4</td>\n",
              "      <td>4</td>\n",
              "      <td>neutral</td>\n",
              "      <td>negative</td>\n",
              "    </tr>\n",
              "    <tr>\n",
              "      <th>3</th>\n",
              "      <td>мальчик опустить глаз тихо сказать : – собака .</td>\n",
              "      <td>2</td>\n",
              "      <td>9</td>\n",
              "      <td>neutral</td>\n",
              "      <td>neutral</td>\n",
              "    </tr>\n",
              "    <tr>\n",
              "      <th>4</th>\n",
              "      <td>спрашивать ― отвечать : , баба маша поддрержив...</td>\n",
              "      <td>2</td>\n",
              "      <td>11</td>\n",
              "      <td>neutral</td>\n",
              "      <td>neutral</td>\n",
              "    </tr>\n",
              "    <tr>\n",
              "      <th>...</th>\n",
              "      <td>...</td>\n",
              "      <td>...</td>\n",
              "      <td>...</td>\n",
              "      <td>...</td>\n",
              "      <td>...</td>\n",
              "    </tr>\n",
              "    <tr>\n",
              "      <th>1642</th>\n",
              "      <td>мужик забирать</td>\n",
              "      <td>1</td>\n",
              "      <td>8</td>\n",
              "      <td>neutral</td>\n",
              "      <td>negative</td>\n",
              "    </tr>\n",
              "    <tr>\n",
              "      <th>1643</th>\n",
              "      <td>мальчик португалия , , видео перевести английс...</td>\n",
              "      <td>2</td>\n",
              "      <td>9</td>\n",
              "      <td>neutral</td>\n",
              "      <td>neutral</td>\n",
              "    </tr>\n",
              "    <tr>\n",
              "      <th>1644</th>\n",
              "      <td>спасибо , туфелька треугольничке : \" дурной ба...</td>\n",
              "      <td>1</td>\n",
              "      <td>8</td>\n",
              "      <td>negative</td>\n",
              "      <td>neutral</td>\n",
              "    </tr>\n",
              "    <tr>\n",
              "      <th>1645</th>\n",
              "      <td>нa грузинский свaдьбе другому : ― нa многих св...</td>\n",
              "      <td>1</td>\n",
              "      <td>8</td>\n",
              "      <td>neutral</td>\n",
              "      <td>negative</td>\n",
              "    </tr>\n",
              "    <tr>\n",
              "      <th>1646</th>\n",
              "      <td>— мама сказать , баб водить .</td>\n",
              "      <td>1</td>\n",
              "      <td>8</td>\n",
              "      <td>neutral</td>\n",
              "      <td>neutral</td>\n",
              "    </tr>\n",
              "  </tbody>\n",
              "</table>\n",
              "<p>1647 rows × 5 columns</p>\n",
              "</div>\n",
              "    <div class=\"colab-df-buttons\">\n",
              "\n",
              "  <div class=\"colab-df-container\">\n",
              "    <button class=\"colab-df-convert\" onclick=\"convertToInteractive('df-35bdb7a9-69d7-41b5-b041-4ee9d8ca296f')\"\n",
              "            title=\"Convert this dataframe to an interactive table.\"\n",
              "            style=\"display:none;\">\n",
              "\n",
              "  <svg xmlns=\"http://www.w3.org/2000/svg\" height=\"24px\" viewBox=\"0 -960 960 960\">\n",
              "    <path d=\"M120-120v-720h720v720H120Zm60-500h600v-160H180v160Zm220 220h160v-160H400v160Zm0 220h160v-160H400v160ZM180-400h160v-160H180v160Zm440 0h160v-160H620v160ZM180-180h160v-160H180v160Zm440 0h160v-160H620v160Z\"/>\n",
              "  </svg>\n",
              "    </button>\n",
              "\n",
              "  <style>\n",
              "    .colab-df-container {\n",
              "      display:flex;\n",
              "      gap: 12px;\n",
              "    }\n",
              "\n",
              "    .colab-df-convert {\n",
              "      background-color: #E8F0FE;\n",
              "      border: none;\n",
              "      border-radius: 50%;\n",
              "      cursor: pointer;\n",
              "      display: none;\n",
              "      fill: #1967D2;\n",
              "      height: 32px;\n",
              "      padding: 0 0 0 0;\n",
              "      width: 32px;\n",
              "    }\n",
              "\n",
              "    .colab-df-convert:hover {\n",
              "      background-color: #E2EBFA;\n",
              "      box-shadow: 0px 1px 2px rgba(60, 64, 67, 0.3), 0px 1px 3px 1px rgba(60, 64, 67, 0.15);\n",
              "      fill: #174EA6;\n",
              "    }\n",
              "\n",
              "    .colab-df-buttons div {\n",
              "      margin-bottom: 4px;\n",
              "    }\n",
              "\n",
              "    [theme=dark] .colab-df-convert {\n",
              "      background-color: #3B4455;\n",
              "      fill: #D2E3FC;\n",
              "    }\n",
              "\n",
              "    [theme=dark] .colab-df-convert:hover {\n",
              "      background-color: #434B5C;\n",
              "      box-shadow: 0px 1px 3px 1px rgba(0, 0, 0, 0.15);\n",
              "      filter: drop-shadow(0px 1px 2px rgba(0, 0, 0, 0.3));\n",
              "      fill: #FFFFFF;\n",
              "    }\n",
              "  </style>\n",
              "\n",
              "    <script>\n",
              "      const buttonEl =\n",
              "        document.querySelector('#df-35bdb7a9-69d7-41b5-b041-4ee9d8ca296f button.colab-df-convert');\n",
              "      buttonEl.style.display =\n",
              "        google.colab.kernel.accessAllowed ? 'block' : 'none';\n",
              "\n",
              "      async function convertToInteractive(key) {\n",
              "        const element = document.querySelector('#df-35bdb7a9-69d7-41b5-b041-4ee9d8ca296f');\n",
              "        const dataTable =\n",
              "          await google.colab.kernel.invokeFunction('convertToInteractive',\n",
              "                                                    [key], {});\n",
              "        if (!dataTable) return;\n",
              "\n",
              "        const docLinkHtml = 'Like what you see? Visit the ' +\n",
              "          '<a target=\"_blank\" href=https://colab.research.google.com/notebooks/data_table.ipynb>data table notebook</a>'\n",
              "          + ' to learn more about interactive tables.';\n",
              "        element.innerHTML = '';\n",
              "        dataTable['output_type'] = 'display_data';\n",
              "        await google.colab.output.renderOutput(dataTable, element);\n",
              "        const docLink = document.createElement('div');\n",
              "        docLink.innerHTML = docLinkHtml;\n",
              "        element.appendChild(docLink);\n",
              "      }\n",
              "    </script>\n",
              "  </div>\n",
              "\n",
              "\n",
              "<div id=\"df-daf8d6ab-750a-4307-a51f-1c2438c99689\">\n",
              "  <button class=\"colab-df-quickchart\" onclick=\"quickchart('df-daf8d6ab-750a-4307-a51f-1c2438c99689')\"\n",
              "            title=\"Suggest charts\"\n",
              "            style=\"display:none;\">\n",
              "\n",
              "<svg xmlns=\"http://www.w3.org/2000/svg\" height=\"24px\"viewBox=\"0 0 24 24\"\n",
              "     width=\"24px\">\n",
              "    <g>\n",
              "        <path d=\"M19 3H5c-1.1 0-2 .9-2 2v14c0 1.1.9 2 2 2h14c1.1 0 2-.9 2-2V5c0-1.1-.9-2-2-2zM9 17H7v-7h2v7zm4 0h-2V7h2v10zm4 0h-2v-4h2v4z\"/>\n",
              "    </g>\n",
              "</svg>\n",
              "  </button>\n",
              "\n",
              "<style>\n",
              "  .colab-df-quickchart {\n",
              "      --bg-color: #E8F0FE;\n",
              "      --fill-color: #1967D2;\n",
              "      --hover-bg-color: #E2EBFA;\n",
              "      --hover-fill-color: #174EA6;\n",
              "      --disabled-fill-color: #AAA;\n",
              "      --disabled-bg-color: #DDD;\n",
              "  }\n",
              "\n",
              "  [theme=dark] .colab-df-quickchart {\n",
              "      --bg-color: #3B4455;\n",
              "      --fill-color: #D2E3FC;\n",
              "      --hover-bg-color: #434B5C;\n",
              "      --hover-fill-color: #FFFFFF;\n",
              "      --disabled-bg-color: #3B4455;\n",
              "      --disabled-fill-color: #666;\n",
              "  }\n",
              "\n",
              "  .colab-df-quickchart {\n",
              "    background-color: var(--bg-color);\n",
              "    border: none;\n",
              "    border-radius: 50%;\n",
              "    cursor: pointer;\n",
              "    display: none;\n",
              "    fill: var(--fill-color);\n",
              "    height: 32px;\n",
              "    padding: 0;\n",
              "    width: 32px;\n",
              "  }\n",
              "\n",
              "  .colab-df-quickchart:hover {\n",
              "    background-color: var(--hover-bg-color);\n",
              "    box-shadow: 0 1px 2px rgba(60, 64, 67, 0.3), 0 1px 3px 1px rgba(60, 64, 67, 0.15);\n",
              "    fill: var(--button-hover-fill-color);\n",
              "  }\n",
              "\n",
              "  .colab-df-quickchart-complete:disabled,\n",
              "  .colab-df-quickchart-complete:disabled:hover {\n",
              "    background-color: var(--disabled-bg-color);\n",
              "    fill: var(--disabled-fill-color);\n",
              "    box-shadow: none;\n",
              "  }\n",
              "\n",
              "  .colab-df-spinner {\n",
              "    border: 2px solid var(--fill-color);\n",
              "    border-color: transparent;\n",
              "    border-bottom-color: var(--fill-color);\n",
              "    animation:\n",
              "      spin 1s steps(1) infinite;\n",
              "  }\n",
              "\n",
              "  @keyframes spin {\n",
              "    0% {\n",
              "      border-color: transparent;\n",
              "      border-bottom-color: var(--fill-color);\n",
              "      border-left-color: var(--fill-color);\n",
              "    }\n",
              "    20% {\n",
              "      border-color: transparent;\n",
              "      border-left-color: var(--fill-color);\n",
              "      border-top-color: var(--fill-color);\n",
              "    }\n",
              "    30% {\n",
              "      border-color: transparent;\n",
              "      border-left-color: var(--fill-color);\n",
              "      border-top-color: var(--fill-color);\n",
              "      border-right-color: var(--fill-color);\n",
              "    }\n",
              "    40% {\n",
              "      border-color: transparent;\n",
              "      border-right-color: var(--fill-color);\n",
              "      border-top-color: var(--fill-color);\n",
              "    }\n",
              "    60% {\n",
              "      border-color: transparent;\n",
              "      border-right-color: var(--fill-color);\n",
              "    }\n",
              "    80% {\n",
              "      border-color: transparent;\n",
              "      border-right-color: var(--fill-color);\n",
              "      border-bottom-color: var(--fill-color);\n",
              "    }\n",
              "    90% {\n",
              "      border-color: transparent;\n",
              "      border-bottom-color: var(--fill-color);\n",
              "    }\n",
              "  }\n",
              "</style>\n",
              "\n",
              "  <script>\n",
              "    async function quickchart(key) {\n",
              "      const quickchartButtonEl =\n",
              "        document.querySelector('#' + key + ' button');\n",
              "      quickchartButtonEl.disabled = true;  // To prevent multiple clicks.\n",
              "      quickchartButtonEl.classList.add('colab-df-spinner');\n",
              "      try {\n",
              "        const charts = await google.colab.kernel.invokeFunction(\n",
              "            'suggestCharts', [key], {});\n",
              "      } catch (error) {\n",
              "        console.error('Error during call to suggestCharts:', error);\n",
              "      }\n",
              "      quickchartButtonEl.classList.remove('colab-df-spinner');\n",
              "      quickchartButtonEl.classList.add('colab-df-quickchart-complete');\n",
              "    }\n",
              "    (() => {\n",
              "      let quickchartButtonEl =\n",
              "        document.querySelector('#df-daf8d6ab-750a-4307-a51f-1c2438c99689 button');\n",
              "      quickchartButtonEl.style.display =\n",
              "        google.colab.kernel.accessAllowed ? 'block' : 'none';\n",
              "    })();\n",
              "  </script>\n",
              "</div>\n",
              "    </div>\n",
              "  </div>\n"
            ],
            "application/vnd.google.colaboratory.intrinsic+json": {
              "type": "dataframe",
              "variable_name": "result_df",
              "summary": "{\n  \"name\": \"result_df\",\n  \"rows\": 1647,\n  \"fields\": [\n    {\n      \"column\": \"Full context\",\n      \"properties\": {\n        \"dtype\": \"string\",\n        \"num_unique_values\": 1645,\n        \"samples\": [\n          \"\\u0441\\u0442\\u0430\\u043d\\u0446\\u0438\\u044f \\u043c\\u0435\\u0442\\u0440\\u043e \\\" \\u043e\\u043a\\u0442\\u044f\\u0431\\u0440\\u044c\\u0441\\u043a\\u0438\\u0439 \\u043f\\u043e\\u043b\\u0435 \\\" \\u2015 \\u0446\\u0435\\u043d\\u0442\\u0440 , \\u0434\\u0432\\u043e\\u0440\\u043d\\u0438\\u043a \\u043d\\u0430\\u043d\\u0438\\u043c\\u0430\\u0442\\u044c - \\u0433\\u043e\\u0432\\u043e\\u0440\\u0438\\u0442\\u044c - \\u0440\\u0443\\u0441\\u0441\\u043a\\u0438 , , \\u0431\\u0430\\u043d\\u0442\\u0443\\u0441\\u0442\\u0430\\u043d , \\u043e\\u043a\\u0440\\u0430\\u0438\\u043d\\u0430 , \\u043f\\u043e\\u0432\\u0435\\u0440\\u0438\\u0442\\u044c , \\u0440\\u0430\\u0437\\u043c\\u0430\\u0445\\u0438\\u0432\\u0430\\u0432\\u0448\\u0435\\u0439 \\u0433\\u043e\\u043b\\u043e\\u0432\\u0430 \\u0440\\u0435\\u0431\\u0451\\u043d\\u043e\\u043a \\u0431\\u0430\\u0431\\u044b \\u0447\\u0430\\u0441 \\u043f\\u0440\\u043e\\u0439\\u0442\\u0438 \\u043d\\u0438 \\u043c\\u0443\\u0441\\u0443\\u043b\\u044c\\u043c\\u0430\\u043d\\u0438\\u043d , \\u0438\\u0441\\u043b\\u0430\\u043d\\u0434\\u0438\\u044f \\u0436\\u0438\\u0432\\u0451\\u043c .\",\n          \"\\u043f\\u0440\\u044f\\u043c\\u043e\\u0439 \\u043a\\u0430\\u0440\\u0442\\u0430 \\u043e\\u043b\\u0438\\u0446\\u0435\\u0442\\u0432\\u043e\\u0440\\u044f\\u0442\\u044c \\u043f\\u0440\\u0430\\u0433\\u043c\\u0430\\u0442\\u0438\\u0447\\u043d\\u044b\\u0439 \\u043d\\u0430\\u0434\\u0451\\u0436\\u043d\\u044b\\u0439 \\u043c\\u043e\\u043b\\u043e\\u0434\\u043e\\u0439 \\u0447\\u0435\\u043b\\u043e\\u0432\\u0435\\u043a \\u0434\\u0435\\u0432\\u0443\\u0448\\u043a\\u0430 .\",\n          \"\\u043c\\u0438\\u0440 \\u0436\\u043e\\u043f\\u0430 \\u0432\\u044a\\u0435\\u0445\\u0430\\u0442\\u044c \\u0444\\u043e\\u0440\\u0434 \\u0441\\u043a\\u043e\\u0440\\u043f\\u0438\\u043e , \\u043c\\u0443\\u0436\\u0438\\u043a \\u0440\\u0443\\u043b\\u0451\\u043c \\u0432\\u0438\\u0434\\u0443 - \\u043d\\u0435\\u0441\\u0432\\u0435\\u0436\\u0438\\u043c \\u2015 \\u0442\\u043e\\u043b\\u0438 \\u043c\\u0430\\u043b\\u043e\\u0441\\u0442\\u044c \\u043f\\u0440\\u0438\\u043d\\u044f\\u0442\\u044c , \\u0445\\u043e\\u0440\\u043e\\u0448\\u0438\\u0439 \\u0431\\u043e\\u0434\\u0443\\u043d .\"\n        ],\n        \"semantic_type\": \"\",\n        \"description\": \"\"\n      }\n    },\n    {\n      \"column\": \"1 level\",\n      \"properties\": {\n        \"dtype\": \"number\",\n        \"std\": 0,\n        \"min\": 1,\n        \"max\": 5,\n        \"num_unique_values\": 5,\n        \"samples\": [\n          4,\n          5,\n          2\n        ],\n        \"semantic_type\": \"\",\n        \"description\": \"\"\n      }\n    },\n    {\n      \"column\": \"2 level\",\n      \"properties\": {\n        \"dtype\": \"number\",\n        \"std\": 1,\n        \"min\": 4,\n        \"max\": 13,\n        \"num_unique_values\": 10,\n        \"samples\": [\n          6,\n          4,\n          13\n        ],\n        \"semantic_type\": \"\",\n        \"description\": \"\"\n      }\n    },\n    {\n      \"column\": \"conn\",\n      \"properties\": {\n        \"dtype\": \"category\",\n        \"num_unique_values\": 3,\n        \"samples\": [\n          \"neutral\",\n          \"negative\",\n          \"positive\"\n        ],\n        \"semantic_type\": \"\",\n        \"description\": \"\"\n      }\n    },\n    {\n      \"column\": \"ton\",\n      \"properties\": {\n        \"dtype\": \"category\",\n        \"num_unique_values\": 3,\n        \"samples\": [\n          \"neutral\",\n          \"negative\",\n          \"positive\"\n        ],\n        \"semantic_type\": \"\",\n        \"description\": \"\"\n      }\n    }\n  ]\n}"
            }
          },
          "metadata": {},
          "execution_count": 43
        }
      ]
    },
    {
      "cell_type": "markdown",
      "source": [
        "## Создание датасетов первого уровня\n"
      ],
      "metadata": {
        "id": "IbzgCeodKZbf"
      }
    },
    {
      "cell_type": "markdown",
      "source": [
        "Здесь мы выделяем датасет для обучения модели, которая должна предсказать суперкласс лексемы, т.е. целевая переменная: колонка '1 level'."
      ],
      "metadata": {
        "id": "bDKMCJ4PzoRr"
      }
    },
    {
      "cell_type": "code",
      "source": [
        "#выделение целевой переменной\n",
        "X_top = result_df.drop(['1 level', '2 level'], axis = 1)\n",
        "y_top = result_df['1 level']"
      ],
      "metadata": {
        "id": "wZfBhniRR1AN"
      },
      "execution_count": null,
      "outputs": []
    },
    {
      "cell_type": "code",
      "source": [
        "# делим данные\n",
        "X_top_train, X_top_test, y_top_train, y_top_test = train_test_split(X_top, y_top,\n",
        "                                                                    test_size=0.2,\n",
        "                                                                    random_state=42,\n",
        "                                                                    stratify=result_df['1 level'])"
      ],
      "metadata": {
        "id": "8xh1DaHWSDGN"
      },
      "execution_count": null,
      "outputs": []
    },
    {
      "cell_type": "markdown",
      "source": [
        "## Создание датасетов второго уровня"
      ],
      "metadata": {
        "id": "crVSP_7kSbT-"
      }
    },
    {
      "cell_type": "markdown",
      "source": [
        "Выделяем отдельный датасет для каждой супергруппы, чтобы в дальнейшем обучить на каждом из них модель"
      ],
      "metadata": {
        "id": "A5QPknAfz3pr"
      }
    },
    {
      "cell_type": "markdown",
      "source": [
        "### Первая группа"
      ],
      "metadata": {
        "id": "84Rb7MeeEWj9"
      }
    },
    {
      "cell_type": "code",
      "source": [
        "#отделяем группу с первым значением\n",
        "df_const = result_df[result_df['1 level'] == 1]\n",
        "df_const"
      ],
      "metadata": {
        "id": "F5KrF0VbSjMr",
        "colab": {
          "base_uri": "https://localhost:8080/",
          "height": 423
        },
        "collapsed": true,
        "outputId": "927ab713-1b63-483c-9b55-aa83594f40dc"
      },
      "execution_count": null,
      "outputs": [
        {
          "output_type": "execute_result",
          "data": {
            "text/plain": [
              "                                           Full context  1 level  2 level  \\\n",
              "0     ― упасть pешкой пиво !   ― встанет pебpом баба...        1        8   \n",
              "1           понимание баба , мужик , виноватый , ипет !        1        8   \n",
              "5     думать ёж мужик фортуну хвост схватить , специ...        1        8   \n",
              "13    собственный ощущение мужик делать креститься ,...        1        8   \n",
              "14    ( принцип , пользоваться общественный транспор...        1        8   \n",
              "...                                                 ...      ...      ...   \n",
              "1639  \" королём шут \" ровно история — детский страши...        1        8   \n",
              "1642                                     мужик забирать        1        8   \n",
              "1644  спасибо , туфелька треугольничке : \" дурной ба...        1        8   \n",
              "1645  нa грузинский свaдьбе другому : ― нa многих св...        1        8   \n",
              "1646                      — мама сказать , баб водить .        1        8   \n",
              "\n",
              "          conn       ton  \n",
              "0      neutral   neutral  \n",
              "1     negative  negative  \n",
              "5      neutral  positive  \n",
              "13    negative  negative  \n",
              "14    negative  negative  \n",
              "...        ...       ...  \n",
              "1639   neutral  negative  \n",
              "1642   neutral  negative  \n",
              "1644  negative   neutral  \n",
              "1645   neutral  negative  \n",
              "1646   neutral   neutral  \n",
              "\n",
              "[607 rows x 5 columns]"
            ],
            "text/html": [
              "\n",
              "  <div id=\"df-6f8e1ab5-28d2-4657-944e-e06e4be4097c\" class=\"colab-df-container\">\n",
              "    <div>\n",
              "<style scoped>\n",
              "    .dataframe tbody tr th:only-of-type {\n",
              "        vertical-align: middle;\n",
              "    }\n",
              "\n",
              "    .dataframe tbody tr th {\n",
              "        vertical-align: top;\n",
              "    }\n",
              "\n",
              "    .dataframe thead th {\n",
              "        text-align: right;\n",
              "    }\n",
              "</style>\n",
              "<table border=\"1\" class=\"dataframe\">\n",
              "  <thead>\n",
              "    <tr style=\"text-align: right;\">\n",
              "      <th></th>\n",
              "      <th>Full context</th>\n",
              "      <th>1 level</th>\n",
              "      <th>2 level</th>\n",
              "      <th>conn</th>\n",
              "      <th>ton</th>\n",
              "    </tr>\n",
              "  </thead>\n",
              "  <tbody>\n",
              "    <tr>\n",
              "      <th>0</th>\n",
              "      <td>― упасть pешкой пиво !   ― встанет pебpом баба...</td>\n",
              "      <td>1</td>\n",
              "      <td>8</td>\n",
              "      <td>neutral</td>\n",
              "      <td>neutral</td>\n",
              "    </tr>\n",
              "    <tr>\n",
              "      <th>1</th>\n",
              "      <td>понимание баба , мужик , виноватый , ипет !</td>\n",
              "      <td>1</td>\n",
              "      <td>8</td>\n",
              "      <td>negative</td>\n",
              "      <td>negative</td>\n",
              "    </tr>\n",
              "    <tr>\n",
              "      <th>5</th>\n",
              "      <td>думать ёж мужик фортуну хвост схватить , специ...</td>\n",
              "      <td>1</td>\n",
              "      <td>8</td>\n",
              "      <td>neutral</td>\n",
              "      <td>positive</td>\n",
              "    </tr>\n",
              "    <tr>\n",
              "      <th>13</th>\n",
              "      <td>собственный ощущение мужик делать креститься ,...</td>\n",
              "      <td>1</td>\n",
              "      <td>8</td>\n",
              "      <td>negative</td>\n",
              "      <td>negative</td>\n",
              "    </tr>\n",
              "    <tr>\n",
              "      <th>14</th>\n",
              "      <td>( принцип , пользоваться общественный транспор...</td>\n",
              "      <td>1</td>\n",
              "      <td>8</td>\n",
              "      <td>negative</td>\n",
              "      <td>negative</td>\n",
              "    </tr>\n",
              "    <tr>\n",
              "      <th>...</th>\n",
              "      <td>...</td>\n",
              "      <td>...</td>\n",
              "      <td>...</td>\n",
              "      <td>...</td>\n",
              "      <td>...</td>\n",
              "    </tr>\n",
              "    <tr>\n",
              "      <th>1639</th>\n",
              "      <td>\" королём шут \" ровно история — детский страши...</td>\n",
              "      <td>1</td>\n",
              "      <td>8</td>\n",
              "      <td>neutral</td>\n",
              "      <td>negative</td>\n",
              "    </tr>\n",
              "    <tr>\n",
              "      <th>1642</th>\n",
              "      <td>мужик забирать</td>\n",
              "      <td>1</td>\n",
              "      <td>8</td>\n",
              "      <td>neutral</td>\n",
              "      <td>negative</td>\n",
              "    </tr>\n",
              "    <tr>\n",
              "      <th>1644</th>\n",
              "      <td>спасибо , туфелька треугольничке : \" дурной ба...</td>\n",
              "      <td>1</td>\n",
              "      <td>8</td>\n",
              "      <td>negative</td>\n",
              "      <td>neutral</td>\n",
              "    </tr>\n",
              "    <tr>\n",
              "      <th>1645</th>\n",
              "      <td>нa грузинский свaдьбе другому : ― нa многих св...</td>\n",
              "      <td>1</td>\n",
              "      <td>8</td>\n",
              "      <td>neutral</td>\n",
              "      <td>negative</td>\n",
              "    </tr>\n",
              "    <tr>\n",
              "      <th>1646</th>\n",
              "      <td>— мама сказать , баб водить .</td>\n",
              "      <td>1</td>\n",
              "      <td>8</td>\n",
              "      <td>neutral</td>\n",
              "      <td>neutral</td>\n",
              "    </tr>\n",
              "  </tbody>\n",
              "</table>\n",
              "<p>607 rows × 5 columns</p>\n",
              "</div>\n",
              "    <div class=\"colab-df-buttons\">\n",
              "\n",
              "  <div class=\"colab-df-container\">\n",
              "    <button class=\"colab-df-convert\" onclick=\"convertToInteractive('df-6f8e1ab5-28d2-4657-944e-e06e4be4097c')\"\n",
              "            title=\"Convert this dataframe to an interactive table.\"\n",
              "            style=\"display:none;\">\n",
              "\n",
              "  <svg xmlns=\"http://www.w3.org/2000/svg\" height=\"24px\" viewBox=\"0 -960 960 960\">\n",
              "    <path d=\"M120-120v-720h720v720H120Zm60-500h600v-160H180v160Zm220 220h160v-160H400v160Zm0 220h160v-160H400v160ZM180-400h160v-160H180v160Zm440 0h160v-160H620v160ZM180-180h160v-160H180v160Zm440 0h160v-160H620v160Z\"/>\n",
              "  </svg>\n",
              "    </button>\n",
              "\n",
              "  <style>\n",
              "    .colab-df-container {\n",
              "      display:flex;\n",
              "      gap: 12px;\n",
              "    }\n",
              "\n",
              "    .colab-df-convert {\n",
              "      background-color: #E8F0FE;\n",
              "      border: none;\n",
              "      border-radius: 50%;\n",
              "      cursor: pointer;\n",
              "      display: none;\n",
              "      fill: #1967D2;\n",
              "      height: 32px;\n",
              "      padding: 0 0 0 0;\n",
              "      width: 32px;\n",
              "    }\n",
              "\n",
              "    .colab-df-convert:hover {\n",
              "      background-color: #E2EBFA;\n",
              "      box-shadow: 0px 1px 2px rgba(60, 64, 67, 0.3), 0px 1px 3px 1px rgba(60, 64, 67, 0.15);\n",
              "      fill: #174EA6;\n",
              "    }\n",
              "\n",
              "    .colab-df-buttons div {\n",
              "      margin-bottom: 4px;\n",
              "    }\n",
              "\n",
              "    [theme=dark] .colab-df-convert {\n",
              "      background-color: #3B4455;\n",
              "      fill: #D2E3FC;\n",
              "    }\n",
              "\n",
              "    [theme=dark] .colab-df-convert:hover {\n",
              "      background-color: #434B5C;\n",
              "      box-shadow: 0px 1px 3px 1px rgba(0, 0, 0, 0.15);\n",
              "      filter: drop-shadow(0px 1px 2px rgba(0, 0, 0, 0.3));\n",
              "      fill: #FFFFFF;\n",
              "    }\n",
              "  </style>\n",
              "\n",
              "    <script>\n",
              "      const buttonEl =\n",
              "        document.querySelector('#df-6f8e1ab5-28d2-4657-944e-e06e4be4097c button.colab-df-convert');\n",
              "      buttonEl.style.display =\n",
              "        google.colab.kernel.accessAllowed ? 'block' : 'none';\n",
              "\n",
              "      async function convertToInteractive(key) {\n",
              "        const element = document.querySelector('#df-6f8e1ab5-28d2-4657-944e-e06e4be4097c');\n",
              "        const dataTable =\n",
              "          await google.colab.kernel.invokeFunction('convertToInteractive',\n",
              "                                                    [key], {});\n",
              "        if (!dataTable) return;\n",
              "\n",
              "        const docLinkHtml = 'Like what you see? Visit the ' +\n",
              "          '<a target=\"_blank\" href=https://colab.research.google.com/notebooks/data_table.ipynb>data table notebook</a>'\n",
              "          + ' to learn more about interactive tables.';\n",
              "        element.innerHTML = '';\n",
              "        dataTable['output_type'] = 'display_data';\n",
              "        await google.colab.output.renderOutput(dataTable, element);\n",
              "        const docLink = document.createElement('div');\n",
              "        docLink.innerHTML = docLinkHtml;\n",
              "        element.appendChild(docLink);\n",
              "      }\n",
              "    </script>\n",
              "  </div>\n",
              "\n",
              "\n",
              "<div id=\"df-f185ee91-4841-4777-ba8a-2a4436134d71\">\n",
              "  <button class=\"colab-df-quickchart\" onclick=\"quickchart('df-f185ee91-4841-4777-ba8a-2a4436134d71')\"\n",
              "            title=\"Suggest charts\"\n",
              "            style=\"display:none;\">\n",
              "\n",
              "<svg xmlns=\"http://www.w3.org/2000/svg\" height=\"24px\"viewBox=\"0 0 24 24\"\n",
              "     width=\"24px\">\n",
              "    <g>\n",
              "        <path d=\"M19 3H5c-1.1 0-2 .9-2 2v14c0 1.1.9 2 2 2h14c1.1 0 2-.9 2-2V5c0-1.1-.9-2-2-2zM9 17H7v-7h2v7zm4 0h-2V7h2v10zm4 0h-2v-4h2v4z\"/>\n",
              "    </g>\n",
              "</svg>\n",
              "  </button>\n",
              "\n",
              "<style>\n",
              "  .colab-df-quickchart {\n",
              "      --bg-color: #E8F0FE;\n",
              "      --fill-color: #1967D2;\n",
              "      --hover-bg-color: #E2EBFA;\n",
              "      --hover-fill-color: #174EA6;\n",
              "      --disabled-fill-color: #AAA;\n",
              "      --disabled-bg-color: #DDD;\n",
              "  }\n",
              "\n",
              "  [theme=dark] .colab-df-quickchart {\n",
              "      --bg-color: #3B4455;\n",
              "      --fill-color: #D2E3FC;\n",
              "      --hover-bg-color: #434B5C;\n",
              "      --hover-fill-color: #FFFFFF;\n",
              "      --disabled-bg-color: #3B4455;\n",
              "      --disabled-fill-color: #666;\n",
              "  }\n",
              "\n",
              "  .colab-df-quickchart {\n",
              "    background-color: var(--bg-color);\n",
              "    border: none;\n",
              "    border-radius: 50%;\n",
              "    cursor: pointer;\n",
              "    display: none;\n",
              "    fill: var(--fill-color);\n",
              "    height: 32px;\n",
              "    padding: 0;\n",
              "    width: 32px;\n",
              "  }\n",
              "\n",
              "  .colab-df-quickchart:hover {\n",
              "    background-color: var(--hover-bg-color);\n",
              "    box-shadow: 0 1px 2px rgba(60, 64, 67, 0.3), 0 1px 3px 1px rgba(60, 64, 67, 0.15);\n",
              "    fill: var(--button-hover-fill-color);\n",
              "  }\n",
              "\n",
              "  .colab-df-quickchart-complete:disabled,\n",
              "  .colab-df-quickchart-complete:disabled:hover {\n",
              "    background-color: var(--disabled-bg-color);\n",
              "    fill: var(--disabled-fill-color);\n",
              "    box-shadow: none;\n",
              "  }\n",
              "\n",
              "  .colab-df-spinner {\n",
              "    border: 2px solid var(--fill-color);\n",
              "    border-color: transparent;\n",
              "    border-bottom-color: var(--fill-color);\n",
              "    animation:\n",
              "      spin 1s steps(1) infinite;\n",
              "  }\n",
              "\n",
              "  @keyframes spin {\n",
              "    0% {\n",
              "      border-color: transparent;\n",
              "      border-bottom-color: var(--fill-color);\n",
              "      border-left-color: var(--fill-color);\n",
              "    }\n",
              "    20% {\n",
              "      border-color: transparent;\n",
              "      border-left-color: var(--fill-color);\n",
              "      border-top-color: var(--fill-color);\n",
              "    }\n",
              "    30% {\n",
              "      border-color: transparent;\n",
              "      border-left-color: var(--fill-color);\n",
              "      border-top-color: var(--fill-color);\n",
              "      border-right-color: var(--fill-color);\n",
              "    }\n",
              "    40% {\n",
              "      border-color: transparent;\n",
              "      border-right-color: var(--fill-color);\n",
              "      border-top-color: var(--fill-color);\n",
              "    }\n",
              "    60% {\n",
              "      border-color: transparent;\n",
              "      border-right-color: var(--fill-color);\n",
              "    }\n",
              "    80% {\n",
              "      border-color: transparent;\n",
              "      border-right-color: var(--fill-color);\n",
              "      border-bottom-color: var(--fill-color);\n",
              "    }\n",
              "    90% {\n",
              "      border-color: transparent;\n",
              "      border-bottom-color: var(--fill-color);\n",
              "    }\n",
              "  }\n",
              "</style>\n",
              "\n",
              "  <script>\n",
              "    async function quickchart(key) {\n",
              "      const quickchartButtonEl =\n",
              "        document.querySelector('#' + key + ' button');\n",
              "      quickchartButtonEl.disabled = true;  // To prevent multiple clicks.\n",
              "      quickchartButtonEl.classList.add('colab-df-spinner');\n",
              "      try {\n",
              "        const charts = await google.colab.kernel.invokeFunction(\n",
              "            'suggestCharts', [key], {});\n",
              "      } catch (error) {\n",
              "        console.error('Error during call to suggestCharts:', error);\n",
              "      }\n",
              "      quickchartButtonEl.classList.remove('colab-df-spinner');\n",
              "      quickchartButtonEl.classList.add('colab-df-quickchart-complete');\n",
              "    }\n",
              "    (() => {\n",
              "      let quickchartButtonEl =\n",
              "        document.querySelector('#df-f185ee91-4841-4777-ba8a-2a4436134d71 button');\n",
              "      quickchartButtonEl.style.display =\n",
              "        google.colab.kernel.accessAllowed ? 'block' : 'none';\n",
              "    })();\n",
              "  </script>\n",
              "</div>\n",
              "    </div>\n",
              "  </div>\n"
            ],
            "application/vnd.google.colaboratory.intrinsic+json": {
              "type": "dataframe",
              "variable_name": "df_const",
              "summary": "{\n  \"name\": \"df_const\",\n  \"rows\": 607,\n  \"fields\": [\n    {\n      \"column\": \"Full context\",\n      \"properties\": {\n        \"dtype\": \"string\",\n        \"num_unique_values\": 606,\n        \"samples\": [\n          \", \\u043e\\u0442\\u0432\\u0435\\u0447\\u0430\\u0442\\u044c \\u043c\\u0443\\u0436\\u0438\\u043a , \\u0436\\u0435\\u043d\\u0430 \\u0437\\u043d\\u0430\\u0442\\u044c .\",\n          \"\\u043f\\u0435\\u0441\\u043d\\u044f \\u043f\\u0440\\u0438\\u0437\\u0432\\u0430\\u043d\\u0430 \\u0432\\u044b\\u0441\\u043c\\u0435\\u044f\\u0442\\u044c \\u0445\\u0440\\u0438\\u0441\\u0442\\u0438\\u0430\\u043d\\u0438\\u043d \\u043f\\u0440\\u0435\\u043a\\u0440\\u0430\\u0441\\u043d\\u044b\\u0439 \\u043b\\u044e\\u0431\\u0438\\u0442\\u044c \\u0434\\u0435\\u0432 \\u0433\\u043e\\u0442\\u043e\\u0432\\u044b\\u0439 \\u043f\\u0440\\u0438\\u0440\\u043e\\u0432\\u043d\\u044f\\u0442\\u044c \\u0434\\u044c\\u044f\\u0432\\u043e\\u043b\\u0438\\u0446\\u0430\\u043c\",\n          \"\\u0445\\u0430\\u0440\\u0430\\u043a\\u0442\\u0435\\u0440\\u043d\\u044b\\u0439 : \\u043c\\u0443\\u0436\\u0438\\u043a \\u0437\\u043d\\u0430\\u0442\\u044c , \\u0440\\u0430\\u0437\\u0434\\u0432\\u043e\\u0435\\u043d\\u0438\\u0435 \\u043e\\u0431\\u0440\\u0430\\u0437\\u043e\\u0432\\u0430\\u0442\\u044c\\u0441\\u044f .\"\n        ],\n        \"semantic_type\": \"\",\n        \"description\": \"\"\n      }\n    },\n    {\n      \"column\": \"1 level\",\n      \"properties\": {\n        \"dtype\": \"number\",\n        \"std\": 0,\n        \"min\": 1,\n        \"max\": 1,\n        \"num_unique_values\": 1,\n        \"samples\": [\n          1\n        ],\n        \"semantic_type\": \"\",\n        \"description\": \"\"\n      }\n    },\n    {\n      \"column\": \"2 level\",\n      \"properties\": {\n        \"dtype\": \"number\",\n        \"std\": 0,\n        \"min\": 6,\n        \"max\": 8,\n        \"num_unique_values\": 3,\n        \"samples\": [\n          8\n        ],\n        \"semantic_type\": \"\",\n        \"description\": \"\"\n      }\n    },\n    {\n      \"column\": \"conn\",\n      \"properties\": {\n        \"dtype\": \"category\",\n        \"num_unique_values\": 3,\n        \"samples\": [\n          \"neutral\"\n        ],\n        \"semantic_type\": \"\",\n        \"description\": \"\"\n      }\n    },\n    {\n      \"column\": \"ton\",\n      \"properties\": {\n        \"dtype\": \"category\",\n        \"num_unique_values\": 3,\n        \"samples\": [\n          \"neutral\"\n        ],\n        \"semantic_type\": \"\",\n        \"description\": \"\"\n      }\n    }\n  ]\n}"
            }
          },
          "metadata": {},
          "execution_count": 47
        }
      ]
    },
    {
      "cell_type": "code",
      "source": [
        "#выделяем целевую переменную\n",
        "X_const = df_const.drop(['1 level', '2 level'], axis = 1)\n",
        "y_const = df_const['2 level']"
      ],
      "metadata": {
        "id": "v5_uB-oA0YEj"
      },
      "execution_count": null,
      "outputs": []
    },
    {
      "cell_type": "code",
      "source": [
        "#выделяем обучающую и тестовую выборку\n",
        "X_const_train, X_const_test, y_const_train, y_const_test = train_test_split(X_const, y_const,\n",
        "                                                            test_size=0.2,\n",
        "                                                            random_state=42,\n",
        "                                                            stratify=df_const['2 level'])"
      ],
      "metadata": {
        "id": "pSlDAdWjz29C"
      },
      "execution_count": null,
      "outputs": []
    },
    {
      "cell_type": "markdown",
      "source": [
        "### Вторая группа"
      ],
      "metadata": {
        "id": "Q-vlYn4CEbN9"
      }
    },
    {
      "cell_type": "code",
      "source": [
        "#отделяем группу со вторым значением\n",
        "df_age = result_df[result_df['1 level'] == 2]\n",
        "df_age"
      ],
      "metadata": {
        "colab": {
          "base_uri": "https://localhost:8080/",
          "height": 423
        },
        "collapsed": true,
        "id": "xLIpxVPDx_Tk",
        "outputId": "dd06d478-c5f4-4e1f-e91e-bb8f3c1dca64"
      },
      "execution_count": null,
      "outputs": [
        {
          "output_type": "execute_result",
          "data": {
            "text/plain": [
              "                                           Full context  1 level  2 level  \\\n",
              "3       мальчик опустить глаз тихо сказать : – собака .        2        9   \n",
              "4     спрашивать ― отвечать : , баба маша поддрержив...        2       11   \n",
              "6     мальчик пересекать проезжий часть регулируемый...        2        9   \n",
              "7     семья путешествие гранд - каньон останавливать...        2        9   \n",
              "8                  село знать .   убить баба машу ?   ?        2       11   \n",
              "...                                                 ...      ...      ...   \n",
              "1637  вечер телек , словно прокиснуть бабка , сидеть...        2       11   \n",
              "1638  год - девочка стайками влюбляться мальчик , оп...        2        9   \n",
              "1640             … место бабка дарья начинать плакать .        2       11   \n",
              "1641  обратиться специалист , забыть взять , результ...        2        9   \n",
              "1643  мальчик португалия , , видео перевести английс...        2        9   \n",
              "\n",
              "          conn       ton  \n",
              "3      neutral   neutral  \n",
              "4      neutral   neutral  \n",
              "6      neutral  negative  \n",
              "7      neutral   neutral  \n",
              "8      neutral   neutral  \n",
              "...        ...       ...  \n",
              "1637  negative  negative  \n",
              "1638   neutral   neutral  \n",
              "1640   neutral   neutral  \n",
              "1641   neutral   neutral  \n",
              "1643   neutral   neutral  \n",
              "\n",
              "[845 rows x 5 columns]"
            ],
            "text/html": [
              "\n",
              "  <div id=\"df-a0f43ccd-0421-4d4e-94b3-1dc34c209063\" class=\"colab-df-container\">\n",
              "    <div>\n",
              "<style scoped>\n",
              "    .dataframe tbody tr th:only-of-type {\n",
              "        vertical-align: middle;\n",
              "    }\n",
              "\n",
              "    .dataframe tbody tr th {\n",
              "        vertical-align: top;\n",
              "    }\n",
              "\n",
              "    .dataframe thead th {\n",
              "        text-align: right;\n",
              "    }\n",
              "</style>\n",
              "<table border=\"1\" class=\"dataframe\">\n",
              "  <thead>\n",
              "    <tr style=\"text-align: right;\">\n",
              "      <th></th>\n",
              "      <th>Full context</th>\n",
              "      <th>1 level</th>\n",
              "      <th>2 level</th>\n",
              "      <th>conn</th>\n",
              "      <th>ton</th>\n",
              "    </tr>\n",
              "  </thead>\n",
              "  <tbody>\n",
              "    <tr>\n",
              "      <th>3</th>\n",
              "      <td>мальчик опустить глаз тихо сказать : – собака .</td>\n",
              "      <td>2</td>\n",
              "      <td>9</td>\n",
              "      <td>neutral</td>\n",
              "      <td>neutral</td>\n",
              "    </tr>\n",
              "    <tr>\n",
              "      <th>4</th>\n",
              "      <td>спрашивать ― отвечать : , баба маша поддрержив...</td>\n",
              "      <td>2</td>\n",
              "      <td>11</td>\n",
              "      <td>neutral</td>\n",
              "      <td>neutral</td>\n",
              "    </tr>\n",
              "    <tr>\n",
              "      <th>6</th>\n",
              "      <td>мальчик пересекать проезжий часть регулируемый...</td>\n",
              "      <td>2</td>\n",
              "      <td>9</td>\n",
              "      <td>neutral</td>\n",
              "      <td>negative</td>\n",
              "    </tr>\n",
              "    <tr>\n",
              "      <th>7</th>\n",
              "      <td>семья путешествие гранд - каньон останавливать...</td>\n",
              "      <td>2</td>\n",
              "      <td>9</td>\n",
              "      <td>neutral</td>\n",
              "      <td>neutral</td>\n",
              "    </tr>\n",
              "    <tr>\n",
              "      <th>8</th>\n",
              "      <td>село знать .   убить баба машу ?   ?</td>\n",
              "      <td>2</td>\n",
              "      <td>11</td>\n",
              "      <td>neutral</td>\n",
              "      <td>neutral</td>\n",
              "    </tr>\n",
              "    <tr>\n",
              "      <th>...</th>\n",
              "      <td>...</td>\n",
              "      <td>...</td>\n",
              "      <td>...</td>\n",
              "      <td>...</td>\n",
              "      <td>...</td>\n",
              "    </tr>\n",
              "    <tr>\n",
              "      <th>1637</th>\n",
              "      <td>вечер телек , словно прокиснуть бабка , сидеть...</td>\n",
              "      <td>2</td>\n",
              "      <td>11</td>\n",
              "      <td>negative</td>\n",
              "      <td>negative</td>\n",
              "    </tr>\n",
              "    <tr>\n",
              "      <th>1638</th>\n",
              "      <td>год - девочка стайками влюбляться мальчик , оп...</td>\n",
              "      <td>2</td>\n",
              "      <td>9</td>\n",
              "      <td>neutral</td>\n",
              "      <td>neutral</td>\n",
              "    </tr>\n",
              "    <tr>\n",
              "      <th>1640</th>\n",
              "      <td>… место бабка дарья начинать плакать .</td>\n",
              "      <td>2</td>\n",
              "      <td>11</td>\n",
              "      <td>neutral</td>\n",
              "      <td>neutral</td>\n",
              "    </tr>\n",
              "    <tr>\n",
              "      <th>1641</th>\n",
              "      <td>обратиться специалист , забыть взять , результ...</td>\n",
              "      <td>2</td>\n",
              "      <td>9</td>\n",
              "      <td>neutral</td>\n",
              "      <td>neutral</td>\n",
              "    </tr>\n",
              "    <tr>\n",
              "      <th>1643</th>\n",
              "      <td>мальчик португалия , , видео перевести английс...</td>\n",
              "      <td>2</td>\n",
              "      <td>9</td>\n",
              "      <td>neutral</td>\n",
              "      <td>neutral</td>\n",
              "    </tr>\n",
              "  </tbody>\n",
              "</table>\n",
              "<p>845 rows × 5 columns</p>\n",
              "</div>\n",
              "    <div class=\"colab-df-buttons\">\n",
              "\n",
              "  <div class=\"colab-df-container\">\n",
              "    <button class=\"colab-df-convert\" onclick=\"convertToInteractive('df-a0f43ccd-0421-4d4e-94b3-1dc34c209063')\"\n",
              "            title=\"Convert this dataframe to an interactive table.\"\n",
              "            style=\"display:none;\">\n",
              "\n",
              "  <svg xmlns=\"http://www.w3.org/2000/svg\" height=\"24px\" viewBox=\"0 -960 960 960\">\n",
              "    <path d=\"M120-120v-720h720v720H120Zm60-500h600v-160H180v160Zm220 220h160v-160H400v160Zm0 220h160v-160H400v160ZM180-400h160v-160H180v160Zm440 0h160v-160H620v160ZM180-180h160v-160H180v160Zm440 0h160v-160H620v160Z\"/>\n",
              "  </svg>\n",
              "    </button>\n",
              "\n",
              "  <style>\n",
              "    .colab-df-container {\n",
              "      display:flex;\n",
              "      gap: 12px;\n",
              "    }\n",
              "\n",
              "    .colab-df-convert {\n",
              "      background-color: #E8F0FE;\n",
              "      border: none;\n",
              "      border-radius: 50%;\n",
              "      cursor: pointer;\n",
              "      display: none;\n",
              "      fill: #1967D2;\n",
              "      height: 32px;\n",
              "      padding: 0 0 0 0;\n",
              "      width: 32px;\n",
              "    }\n",
              "\n",
              "    .colab-df-convert:hover {\n",
              "      background-color: #E2EBFA;\n",
              "      box-shadow: 0px 1px 2px rgba(60, 64, 67, 0.3), 0px 1px 3px 1px rgba(60, 64, 67, 0.15);\n",
              "      fill: #174EA6;\n",
              "    }\n",
              "\n",
              "    .colab-df-buttons div {\n",
              "      margin-bottom: 4px;\n",
              "    }\n",
              "\n",
              "    [theme=dark] .colab-df-convert {\n",
              "      background-color: #3B4455;\n",
              "      fill: #D2E3FC;\n",
              "    }\n",
              "\n",
              "    [theme=dark] .colab-df-convert:hover {\n",
              "      background-color: #434B5C;\n",
              "      box-shadow: 0px 1px 3px 1px rgba(0, 0, 0, 0.15);\n",
              "      filter: drop-shadow(0px 1px 2px rgba(0, 0, 0, 0.3));\n",
              "      fill: #FFFFFF;\n",
              "    }\n",
              "  </style>\n",
              "\n",
              "    <script>\n",
              "      const buttonEl =\n",
              "        document.querySelector('#df-a0f43ccd-0421-4d4e-94b3-1dc34c209063 button.colab-df-convert');\n",
              "      buttonEl.style.display =\n",
              "        google.colab.kernel.accessAllowed ? 'block' : 'none';\n",
              "\n",
              "      async function convertToInteractive(key) {\n",
              "        const element = document.querySelector('#df-a0f43ccd-0421-4d4e-94b3-1dc34c209063');\n",
              "        const dataTable =\n",
              "          await google.colab.kernel.invokeFunction('convertToInteractive',\n",
              "                                                    [key], {});\n",
              "        if (!dataTable) return;\n",
              "\n",
              "        const docLinkHtml = 'Like what you see? Visit the ' +\n",
              "          '<a target=\"_blank\" href=https://colab.research.google.com/notebooks/data_table.ipynb>data table notebook</a>'\n",
              "          + ' to learn more about interactive tables.';\n",
              "        element.innerHTML = '';\n",
              "        dataTable['output_type'] = 'display_data';\n",
              "        await google.colab.output.renderOutput(dataTable, element);\n",
              "        const docLink = document.createElement('div');\n",
              "        docLink.innerHTML = docLinkHtml;\n",
              "        element.appendChild(docLink);\n",
              "      }\n",
              "    </script>\n",
              "  </div>\n",
              "\n",
              "\n",
              "<div id=\"df-87163269-de14-40c0-ae8e-989ee8c2afea\">\n",
              "  <button class=\"colab-df-quickchart\" onclick=\"quickchart('df-87163269-de14-40c0-ae8e-989ee8c2afea')\"\n",
              "            title=\"Suggest charts\"\n",
              "            style=\"display:none;\">\n",
              "\n",
              "<svg xmlns=\"http://www.w3.org/2000/svg\" height=\"24px\"viewBox=\"0 0 24 24\"\n",
              "     width=\"24px\">\n",
              "    <g>\n",
              "        <path d=\"M19 3H5c-1.1 0-2 .9-2 2v14c0 1.1.9 2 2 2h14c1.1 0 2-.9 2-2V5c0-1.1-.9-2-2-2zM9 17H7v-7h2v7zm4 0h-2V7h2v10zm4 0h-2v-4h2v4z\"/>\n",
              "    </g>\n",
              "</svg>\n",
              "  </button>\n",
              "\n",
              "<style>\n",
              "  .colab-df-quickchart {\n",
              "      --bg-color: #E8F0FE;\n",
              "      --fill-color: #1967D2;\n",
              "      --hover-bg-color: #E2EBFA;\n",
              "      --hover-fill-color: #174EA6;\n",
              "      --disabled-fill-color: #AAA;\n",
              "      --disabled-bg-color: #DDD;\n",
              "  }\n",
              "\n",
              "  [theme=dark] .colab-df-quickchart {\n",
              "      --bg-color: #3B4455;\n",
              "      --fill-color: #D2E3FC;\n",
              "      --hover-bg-color: #434B5C;\n",
              "      --hover-fill-color: #FFFFFF;\n",
              "      --disabled-bg-color: #3B4455;\n",
              "      --disabled-fill-color: #666;\n",
              "  }\n",
              "\n",
              "  .colab-df-quickchart {\n",
              "    background-color: var(--bg-color);\n",
              "    border: none;\n",
              "    border-radius: 50%;\n",
              "    cursor: pointer;\n",
              "    display: none;\n",
              "    fill: var(--fill-color);\n",
              "    height: 32px;\n",
              "    padding: 0;\n",
              "    width: 32px;\n",
              "  }\n",
              "\n",
              "  .colab-df-quickchart:hover {\n",
              "    background-color: var(--hover-bg-color);\n",
              "    box-shadow: 0 1px 2px rgba(60, 64, 67, 0.3), 0 1px 3px 1px rgba(60, 64, 67, 0.15);\n",
              "    fill: var(--button-hover-fill-color);\n",
              "  }\n",
              "\n",
              "  .colab-df-quickchart-complete:disabled,\n",
              "  .colab-df-quickchart-complete:disabled:hover {\n",
              "    background-color: var(--disabled-bg-color);\n",
              "    fill: var(--disabled-fill-color);\n",
              "    box-shadow: none;\n",
              "  }\n",
              "\n",
              "  .colab-df-spinner {\n",
              "    border: 2px solid var(--fill-color);\n",
              "    border-color: transparent;\n",
              "    border-bottom-color: var(--fill-color);\n",
              "    animation:\n",
              "      spin 1s steps(1) infinite;\n",
              "  }\n",
              "\n",
              "  @keyframes spin {\n",
              "    0% {\n",
              "      border-color: transparent;\n",
              "      border-bottom-color: var(--fill-color);\n",
              "      border-left-color: var(--fill-color);\n",
              "    }\n",
              "    20% {\n",
              "      border-color: transparent;\n",
              "      border-left-color: var(--fill-color);\n",
              "      border-top-color: var(--fill-color);\n",
              "    }\n",
              "    30% {\n",
              "      border-color: transparent;\n",
              "      border-left-color: var(--fill-color);\n",
              "      border-top-color: var(--fill-color);\n",
              "      border-right-color: var(--fill-color);\n",
              "    }\n",
              "    40% {\n",
              "      border-color: transparent;\n",
              "      border-right-color: var(--fill-color);\n",
              "      border-top-color: var(--fill-color);\n",
              "    }\n",
              "    60% {\n",
              "      border-color: transparent;\n",
              "      border-right-color: var(--fill-color);\n",
              "    }\n",
              "    80% {\n",
              "      border-color: transparent;\n",
              "      border-right-color: var(--fill-color);\n",
              "      border-bottom-color: var(--fill-color);\n",
              "    }\n",
              "    90% {\n",
              "      border-color: transparent;\n",
              "      border-bottom-color: var(--fill-color);\n",
              "    }\n",
              "  }\n",
              "</style>\n",
              "\n",
              "  <script>\n",
              "    async function quickchart(key) {\n",
              "      const quickchartButtonEl =\n",
              "        document.querySelector('#' + key + ' button');\n",
              "      quickchartButtonEl.disabled = true;  // To prevent multiple clicks.\n",
              "      quickchartButtonEl.classList.add('colab-df-spinner');\n",
              "      try {\n",
              "        const charts = await google.colab.kernel.invokeFunction(\n",
              "            'suggestCharts', [key], {});\n",
              "      } catch (error) {\n",
              "        console.error('Error during call to suggestCharts:', error);\n",
              "      }\n",
              "      quickchartButtonEl.classList.remove('colab-df-spinner');\n",
              "      quickchartButtonEl.classList.add('colab-df-quickchart-complete');\n",
              "    }\n",
              "    (() => {\n",
              "      let quickchartButtonEl =\n",
              "        document.querySelector('#df-87163269-de14-40c0-ae8e-989ee8c2afea button');\n",
              "      quickchartButtonEl.style.display =\n",
              "        google.colab.kernel.accessAllowed ? 'block' : 'none';\n",
              "    })();\n",
              "  </script>\n",
              "</div>\n",
              "    </div>\n",
              "  </div>\n"
            ],
            "application/vnd.google.colaboratory.intrinsic+json": {
              "type": "dataframe",
              "variable_name": "df_age",
              "summary": "{\n  \"name\": \"df_age\",\n  \"rows\": 845,\n  \"fields\": [\n    {\n      \"column\": \"Full context\",\n      \"properties\": {\n        \"dtype\": \"string\",\n        \"num_unique_values\": 844,\n        \"samples\": [\n          \"\\u0435\\u0434\\u0438\\u043d\\u0441\\u0442\\u0432\\u0435\\u043d\\u043d\\u044b\\u0439 , \\u0443\\u043b\\u043e\\u0432\\u0438\\u0442\\u044c - \\u043a\\u043e\\u0441\\u043c\\u043e\\u0441 \\u0433\\u0430\\u0433\\u0430\\u0440\\u0438\\u043d , \\u0441\\u043e\\u0441\\u0435\\u0434\\u043a\\u0430 \\u0431\\u0430\\u0431\\u0430 \\u044e\\u043b\\u044f , \\u0440\\u0435\\u0448\\u0438\\u0442\\u044c , \\u043c\\u0438\\u0440 \\u0440\\u0443\\u0445\\u043d\\u0443\\u0442\\u044c .\",\n          \"\\u043a\\u043b\\u044e\\u0447 \\u0437\\u0430\\u043a\\u0430\\u0437\\u044b\\u0432\\u0430\\u0442\\u044c \\u043e\\u0442\\u0435\\u0446 \\u0432\\u043e\\u043b\\u044c\\u0444\\u0433\\u0430\\u043d\\u0433 \\u2026 \\u2014 \\u0431\\u0430\\u0431\\u0430 \\u043a\\u0430\\u0442\\u044f , \\u2014 \\u0441\\u043a\\u0430\\u0437\\u0430\\u0442\\u044c \\u043c\\u0430\\u043b\\u044c\\u0447\\u0438\\u043a .\",\n          \"# installation@another_art \\u043e\\u0442\\u0440\\u0435\\u0430\\u0433\\u0438\\u0440\\u043e\\u0432\\u0430\\u0442\\u044c , \\u0443\\u0432\\u0438\\u0434\\u0435\\u0442\\u044c \\u0441\\u0442\\u0440\\u0430\\u043d\\u043d\\u044b\\u0439 \\u043c\\u043e\\u043b\\u043e\\u0434\\u043e\\u0439 \\u0447\\u0435\\u043b\\u043e\\u0432\\u0435\\u043a \\u044f\\u0440\\u043a\\u0438\\u0439 \\u043e\\u0434\\u0435\\u0436\\u0434\\u0430 , \\u043f\\u0435\\u0440\\u0435\\u043f\\u043b\\u0435\\u043b\\u0438\\u0441\\u044c \\u043d\\u0435\\u0432\\u043e\\u043e\\u0431\\u0440\\u0430\\u0437\\u0438\\u043c\\u044b\\u0439 \\u0444\\u0438\\u0433\\u0443\\u0440\\u0430 \\u0437\\u0430\\u043c\\u0435\\u0440\\u0435\\u0442\\u044c \\u043b\\u043e\\u043d\\u0434\\u043e\\u043d ?\"\n        ],\n        \"semantic_type\": \"\",\n        \"description\": \"\"\n      }\n    },\n    {\n      \"column\": \"1 level\",\n      \"properties\": {\n        \"dtype\": \"number\",\n        \"std\": 0,\n        \"min\": 2,\n        \"max\": 2,\n        \"num_unique_values\": 1,\n        \"samples\": [\n          2\n        ],\n        \"semantic_type\": \"\",\n        \"description\": \"\"\n      }\n    },\n    {\n      \"column\": \"2 level\",\n      \"properties\": {\n        \"dtype\": \"number\",\n        \"std\": 0,\n        \"min\": 9,\n        \"max\": 11,\n        \"num_unique_values\": 3,\n        \"samples\": [\n          9\n        ],\n        \"semantic_type\": \"\",\n        \"description\": \"\"\n      }\n    },\n    {\n      \"column\": \"conn\",\n      \"properties\": {\n        \"dtype\": \"category\",\n        \"num_unique_values\": 3,\n        \"samples\": [\n          \"neutral\"\n        ],\n        \"semantic_type\": \"\",\n        \"description\": \"\"\n      }\n    },\n    {\n      \"column\": \"ton\",\n      \"properties\": {\n        \"dtype\": \"category\",\n        \"num_unique_values\": 3,\n        \"samples\": [\n          \"neutral\"\n        ],\n        \"semantic_type\": \"\",\n        \"description\": \"\"\n      }\n    }\n  ]\n}"
            }
          },
          "metadata": {},
          "execution_count": 50
        }
      ]
    },
    {
      "cell_type": "code",
      "source": [
        "#отделяем  целевую переменную\n",
        "X_age = df_age.drop(['1 level', '2 level'], axis = 1)\n",
        "y_age = df_age['2 level']"
      ],
      "metadata": {
        "id": "DCkAnyRn0_dV"
      },
      "execution_count": null,
      "outputs": []
    },
    {
      "cell_type": "code",
      "source": [
        "#выделяем обучающую и тестовую выборку\n",
        "X_age_train, X_age_test, y_age_train, y_age_test = train_test_split(X_age, y_age,\n",
        "                                                    test_size=0.2,\n",
        "                                                    random_state=42,\n",
        "                                                    stratify=df_age['2 level'])"
      ],
      "metadata": {
        "id": "i2bWJF_i1Gfe"
      },
      "execution_count": null,
      "outputs": []
    },
    {
      "cell_type": "markdown",
      "source": [
        "### Третья группа"
      ],
      "metadata": {
        "id": "Npp6d8qMEepp"
      }
    },
    {
      "cell_type": "code",
      "source": [
        "#отделяем группу с третьим значением\n",
        "df_env = result_df[result_df['1 level'] == 3]\n",
        "df_env"
      ],
      "metadata": {
        "colab": {
          "base_uri": "https://localhost:8080/",
          "height": 423
        },
        "collapsed": true,
        "id": "SVwaG5iEyXLo",
        "outputId": "9bf3845c-5380-4f73-8fa5-33d70d760d74"
      },
      "execution_count": null,
      "outputs": [
        {
          "output_type": "execute_result",
          "data": {
            "text/plain": [
              "                                           Full context  1 level  2 level  \\\n",
              "11    спрашивать , - устраивать понимать определятьс...        3       12   \n",
              "27    , сослаться плохой родительский воспитание , б...        3       13   \n",
              "54    говорить , сторона белый пушистый . …… . челов...        3       13   \n",
              "113   знать , сыграть какой - роль дело проект , мол...        3       12   \n",
              "128   заявлять : ― - предок ― папка мамка бабка дедк...        3       13   \n",
              "...                                                 ...      ...      ...   \n",
              "1573                              бабка ― детство раз …        3       13   \n",
              "1578  внешний данными бабу найти , добиваться прийти...        3       12   \n",
              "1611        любить евреев- ; жид , бабка сторона мать .        3       13   \n",
              "1618  рада , день провести близкими , первый половин...        3       12   \n",
              "1629          мужика – день огонь найти хороший мужик .        3       12   \n",
              "\n",
              "          conn       ton  \n",
              "11     neutral   neutral  \n",
              "27     neutral   neutral  \n",
              "54     neutral   neutral  \n",
              "113    neutral   neutral  \n",
              "128    neutral   neutral  \n",
              "...        ...       ...  \n",
              "1573   neutral   neutral  \n",
              "1578   neutral   neutral  \n",
              "1611   neutral   neutral  \n",
              "1618  positive  positive  \n",
              "1629  positive  negative  \n",
              "\n",
              "[125 rows x 5 columns]"
            ],
            "text/html": [
              "\n",
              "  <div id=\"df-85547be7-a581-4fe2-bba8-9b79c049deb8\" class=\"colab-df-container\">\n",
              "    <div>\n",
              "<style scoped>\n",
              "    .dataframe tbody tr th:only-of-type {\n",
              "        vertical-align: middle;\n",
              "    }\n",
              "\n",
              "    .dataframe tbody tr th {\n",
              "        vertical-align: top;\n",
              "    }\n",
              "\n",
              "    .dataframe thead th {\n",
              "        text-align: right;\n",
              "    }\n",
              "</style>\n",
              "<table border=\"1\" class=\"dataframe\">\n",
              "  <thead>\n",
              "    <tr style=\"text-align: right;\">\n",
              "      <th></th>\n",
              "      <th>Full context</th>\n",
              "      <th>1 level</th>\n",
              "      <th>2 level</th>\n",
              "      <th>conn</th>\n",
              "      <th>ton</th>\n",
              "    </tr>\n",
              "  </thead>\n",
              "  <tbody>\n",
              "    <tr>\n",
              "      <th>11</th>\n",
              "      <td>спрашивать , - устраивать понимать определятьс...</td>\n",
              "      <td>3</td>\n",
              "      <td>12</td>\n",
              "      <td>neutral</td>\n",
              "      <td>neutral</td>\n",
              "    </tr>\n",
              "    <tr>\n",
              "      <th>27</th>\n",
              "      <td>, сослаться плохой родительский воспитание , б...</td>\n",
              "      <td>3</td>\n",
              "      <td>13</td>\n",
              "      <td>neutral</td>\n",
              "      <td>neutral</td>\n",
              "    </tr>\n",
              "    <tr>\n",
              "      <th>54</th>\n",
              "      <td>говорить , сторона белый пушистый . …… . челов...</td>\n",
              "      <td>3</td>\n",
              "      <td>13</td>\n",
              "      <td>neutral</td>\n",
              "      <td>neutral</td>\n",
              "    </tr>\n",
              "    <tr>\n",
              "      <th>113</th>\n",
              "      <td>знать , сыграть какой - роль дело проект , мол...</td>\n",
              "      <td>3</td>\n",
              "      <td>12</td>\n",
              "      <td>neutral</td>\n",
              "      <td>neutral</td>\n",
              "    </tr>\n",
              "    <tr>\n",
              "      <th>128</th>\n",
              "      <td>заявлять : ― - предок ― папка мамка бабка дедк...</td>\n",
              "      <td>3</td>\n",
              "      <td>13</td>\n",
              "      <td>neutral</td>\n",
              "      <td>neutral</td>\n",
              "    </tr>\n",
              "    <tr>\n",
              "      <th>...</th>\n",
              "      <td>...</td>\n",
              "      <td>...</td>\n",
              "      <td>...</td>\n",
              "      <td>...</td>\n",
              "      <td>...</td>\n",
              "    </tr>\n",
              "    <tr>\n",
              "      <th>1573</th>\n",
              "      <td>бабка ― детство раз …</td>\n",
              "      <td>3</td>\n",
              "      <td>13</td>\n",
              "      <td>neutral</td>\n",
              "      <td>neutral</td>\n",
              "    </tr>\n",
              "    <tr>\n",
              "      <th>1578</th>\n",
              "      <td>внешний данными бабу найти , добиваться прийти...</td>\n",
              "      <td>3</td>\n",
              "      <td>12</td>\n",
              "      <td>neutral</td>\n",
              "      <td>neutral</td>\n",
              "    </tr>\n",
              "    <tr>\n",
              "      <th>1611</th>\n",
              "      <td>любить евреев- ; жид , бабка сторона мать .</td>\n",
              "      <td>3</td>\n",
              "      <td>13</td>\n",
              "      <td>neutral</td>\n",
              "      <td>neutral</td>\n",
              "    </tr>\n",
              "    <tr>\n",
              "      <th>1618</th>\n",
              "      <td>рада , день провести близкими , первый половин...</td>\n",
              "      <td>3</td>\n",
              "      <td>12</td>\n",
              "      <td>positive</td>\n",
              "      <td>positive</td>\n",
              "    </tr>\n",
              "    <tr>\n",
              "      <th>1629</th>\n",
              "      <td>мужика – день огонь найти хороший мужик .</td>\n",
              "      <td>3</td>\n",
              "      <td>12</td>\n",
              "      <td>positive</td>\n",
              "      <td>negative</td>\n",
              "    </tr>\n",
              "  </tbody>\n",
              "</table>\n",
              "<p>125 rows × 5 columns</p>\n",
              "</div>\n",
              "    <div class=\"colab-df-buttons\">\n",
              "\n",
              "  <div class=\"colab-df-container\">\n",
              "    <button class=\"colab-df-convert\" onclick=\"convertToInteractive('df-85547be7-a581-4fe2-bba8-9b79c049deb8')\"\n",
              "            title=\"Convert this dataframe to an interactive table.\"\n",
              "            style=\"display:none;\">\n",
              "\n",
              "  <svg xmlns=\"http://www.w3.org/2000/svg\" height=\"24px\" viewBox=\"0 -960 960 960\">\n",
              "    <path d=\"M120-120v-720h720v720H120Zm60-500h600v-160H180v160Zm220 220h160v-160H400v160Zm0 220h160v-160H400v160ZM180-400h160v-160H180v160Zm440 0h160v-160H620v160ZM180-180h160v-160H180v160Zm440 0h160v-160H620v160Z\"/>\n",
              "  </svg>\n",
              "    </button>\n",
              "\n",
              "  <style>\n",
              "    .colab-df-container {\n",
              "      display:flex;\n",
              "      gap: 12px;\n",
              "    }\n",
              "\n",
              "    .colab-df-convert {\n",
              "      background-color: #E8F0FE;\n",
              "      border: none;\n",
              "      border-radius: 50%;\n",
              "      cursor: pointer;\n",
              "      display: none;\n",
              "      fill: #1967D2;\n",
              "      height: 32px;\n",
              "      padding: 0 0 0 0;\n",
              "      width: 32px;\n",
              "    }\n",
              "\n",
              "    .colab-df-convert:hover {\n",
              "      background-color: #E2EBFA;\n",
              "      box-shadow: 0px 1px 2px rgba(60, 64, 67, 0.3), 0px 1px 3px 1px rgba(60, 64, 67, 0.15);\n",
              "      fill: #174EA6;\n",
              "    }\n",
              "\n",
              "    .colab-df-buttons div {\n",
              "      margin-bottom: 4px;\n",
              "    }\n",
              "\n",
              "    [theme=dark] .colab-df-convert {\n",
              "      background-color: #3B4455;\n",
              "      fill: #D2E3FC;\n",
              "    }\n",
              "\n",
              "    [theme=dark] .colab-df-convert:hover {\n",
              "      background-color: #434B5C;\n",
              "      box-shadow: 0px 1px 3px 1px rgba(0, 0, 0, 0.15);\n",
              "      filter: drop-shadow(0px 1px 2px rgba(0, 0, 0, 0.3));\n",
              "      fill: #FFFFFF;\n",
              "    }\n",
              "  </style>\n",
              "\n",
              "    <script>\n",
              "      const buttonEl =\n",
              "        document.querySelector('#df-85547be7-a581-4fe2-bba8-9b79c049deb8 button.colab-df-convert');\n",
              "      buttonEl.style.display =\n",
              "        google.colab.kernel.accessAllowed ? 'block' : 'none';\n",
              "\n",
              "      async function convertToInteractive(key) {\n",
              "        const element = document.querySelector('#df-85547be7-a581-4fe2-bba8-9b79c049deb8');\n",
              "        const dataTable =\n",
              "          await google.colab.kernel.invokeFunction('convertToInteractive',\n",
              "                                                    [key], {});\n",
              "        if (!dataTable) return;\n",
              "\n",
              "        const docLinkHtml = 'Like what you see? Visit the ' +\n",
              "          '<a target=\"_blank\" href=https://colab.research.google.com/notebooks/data_table.ipynb>data table notebook</a>'\n",
              "          + ' to learn more about interactive tables.';\n",
              "        element.innerHTML = '';\n",
              "        dataTable['output_type'] = 'display_data';\n",
              "        await google.colab.output.renderOutput(dataTable, element);\n",
              "        const docLink = document.createElement('div');\n",
              "        docLink.innerHTML = docLinkHtml;\n",
              "        element.appendChild(docLink);\n",
              "      }\n",
              "    </script>\n",
              "  </div>\n",
              "\n",
              "\n",
              "<div id=\"df-5301deba-2ff8-4fa1-b6cf-318bde61c785\">\n",
              "  <button class=\"colab-df-quickchart\" onclick=\"quickchart('df-5301deba-2ff8-4fa1-b6cf-318bde61c785')\"\n",
              "            title=\"Suggest charts\"\n",
              "            style=\"display:none;\">\n",
              "\n",
              "<svg xmlns=\"http://www.w3.org/2000/svg\" height=\"24px\"viewBox=\"0 0 24 24\"\n",
              "     width=\"24px\">\n",
              "    <g>\n",
              "        <path d=\"M19 3H5c-1.1 0-2 .9-2 2v14c0 1.1.9 2 2 2h14c1.1 0 2-.9 2-2V5c0-1.1-.9-2-2-2zM9 17H7v-7h2v7zm4 0h-2V7h2v10zm4 0h-2v-4h2v4z\"/>\n",
              "    </g>\n",
              "</svg>\n",
              "  </button>\n",
              "\n",
              "<style>\n",
              "  .colab-df-quickchart {\n",
              "      --bg-color: #E8F0FE;\n",
              "      --fill-color: #1967D2;\n",
              "      --hover-bg-color: #E2EBFA;\n",
              "      --hover-fill-color: #174EA6;\n",
              "      --disabled-fill-color: #AAA;\n",
              "      --disabled-bg-color: #DDD;\n",
              "  }\n",
              "\n",
              "  [theme=dark] .colab-df-quickchart {\n",
              "      --bg-color: #3B4455;\n",
              "      --fill-color: #D2E3FC;\n",
              "      --hover-bg-color: #434B5C;\n",
              "      --hover-fill-color: #FFFFFF;\n",
              "      --disabled-bg-color: #3B4455;\n",
              "      --disabled-fill-color: #666;\n",
              "  }\n",
              "\n",
              "  .colab-df-quickchart {\n",
              "    background-color: var(--bg-color);\n",
              "    border: none;\n",
              "    border-radius: 50%;\n",
              "    cursor: pointer;\n",
              "    display: none;\n",
              "    fill: var(--fill-color);\n",
              "    height: 32px;\n",
              "    padding: 0;\n",
              "    width: 32px;\n",
              "  }\n",
              "\n",
              "  .colab-df-quickchart:hover {\n",
              "    background-color: var(--hover-bg-color);\n",
              "    box-shadow: 0 1px 2px rgba(60, 64, 67, 0.3), 0 1px 3px 1px rgba(60, 64, 67, 0.15);\n",
              "    fill: var(--button-hover-fill-color);\n",
              "  }\n",
              "\n",
              "  .colab-df-quickchart-complete:disabled,\n",
              "  .colab-df-quickchart-complete:disabled:hover {\n",
              "    background-color: var(--disabled-bg-color);\n",
              "    fill: var(--disabled-fill-color);\n",
              "    box-shadow: none;\n",
              "  }\n",
              "\n",
              "  .colab-df-spinner {\n",
              "    border: 2px solid var(--fill-color);\n",
              "    border-color: transparent;\n",
              "    border-bottom-color: var(--fill-color);\n",
              "    animation:\n",
              "      spin 1s steps(1) infinite;\n",
              "  }\n",
              "\n",
              "  @keyframes spin {\n",
              "    0% {\n",
              "      border-color: transparent;\n",
              "      border-bottom-color: var(--fill-color);\n",
              "      border-left-color: var(--fill-color);\n",
              "    }\n",
              "    20% {\n",
              "      border-color: transparent;\n",
              "      border-left-color: var(--fill-color);\n",
              "      border-top-color: var(--fill-color);\n",
              "    }\n",
              "    30% {\n",
              "      border-color: transparent;\n",
              "      border-left-color: var(--fill-color);\n",
              "      border-top-color: var(--fill-color);\n",
              "      border-right-color: var(--fill-color);\n",
              "    }\n",
              "    40% {\n",
              "      border-color: transparent;\n",
              "      border-right-color: var(--fill-color);\n",
              "      border-top-color: var(--fill-color);\n",
              "    }\n",
              "    60% {\n",
              "      border-color: transparent;\n",
              "      border-right-color: var(--fill-color);\n",
              "    }\n",
              "    80% {\n",
              "      border-color: transparent;\n",
              "      border-right-color: var(--fill-color);\n",
              "      border-bottom-color: var(--fill-color);\n",
              "    }\n",
              "    90% {\n",
              "      border-color: transparent;\n",
              "      border-bottom-color: var(--fill-color);\n",
              "    }\n",
              "  }\n",
              "</style>\n",
              "\n",
              "  <script>\n",
              "    async function quickchart(key) {\n",
              "      const quickchartButtonEl =\n",
              "        document.querySelector('#' + key + ' button');\n",
              "      quickchartButtonEl.disabled = true;  // To prevent multiple clicks.\n",
              "      quickchartButtonEl.classList.add('colab-df-spinner');\n",
              "      try {\n",
              "        const charts = await google.colab.kernel.invokeFunction(\n",
              "            'suggestCharts', [key], {});\n",
              "      } catch (error) {\n",
              "        console.error('Error during call to suggestCharts:', error);\n",
              "      }\n",
              "      quickchartButtonEl.classList.remove('colab-df-spinner');\n",
              "      quickchartButtonEl.classList.add('colab-df-quickchart-complete');\n",
              "    }\n",
              "    (() => {\n",
              "      let quickchartButtonEl =\n",
              "        document.querySelector('#df-5301deba-2ff8-4fa1-b6cf-318bde61c785 button');\n",
              "      quickchartButtonEl.style.display =\n",
              "        google.colab.kernel.accessAllowed ? 'block' : 'none';\n",
              "    })();\n",
              "  </script>\n",
              "</div>\n",
              "    </div>\n",
              "  </div>\n"
            ],
            "application/vnd.google.colaboratory.intrinsic+json": {
              "type": "dataframe",
              "variable_name": "df_env",
              "summary": "{\n  \"name\": \"df_env\",\n  \"rows\": 125,\n  \"fields\": [\n    {\n      \"column\": \"Full context\",\n      \"properties\": {\n        \"dtype\": \"string\",\n        \"num_unique_values\": 125,\n        \"samples\": [\n          \"\\u043c\\u0443\\u0436\\u0438\\u043a \\u0442\\u0441\\u0441\\u0441 .. )\",\n          \"\\u043f\\u0440\\u043e\\u0431\\u043b\\u0435\\u043c\\u0430 \\u043c\\u0430\\u043c\\u0430 , \\u043c\\u043e\\u043b\\u043e\\u0434\\u043e\\u0439 \\u0447\\u0435\\u043b\\u043e\\u0432\\u0435\\u043a \\u0440\\u0435\\u0448\\u0438\\u0442\\u044c \\u043f\\u043e\\u0436\\u0435\\u043d\\u0438\\u0442\\u0441\\u044f \\u043e\\u0431\\u0449\\u0438\\u0439 \\u0437\\u043d\\u0430\\u0442\\u044c , \\u043c\\u0430\\u043c\\u0430 .\",\n          \"\\u0431\\u0430\\u0431\\u0430 \\u0434\\u0435\\u043b\\u043e \\u043e\\u0442\\u043b\\u043e\\u0436\\u0443 , \\u0442\\u043e\\u0441\\u043a\\u0435 \\u043e\\u043a\\u043d\\u043e \\u0441\\u0438\\u0434\\u0435\\u0442\\u044c .\"\n        ],\n        \"semantic_type\": \"\",\n        \"description\": \"\"\n      }\n    },\n    {\n      \"column\": \"1 level\",\n      \"properties\": {\n        \"dtype\": \"number\",\n        \"std\": 0,\n        \"min\": 3,\n        \"max\": 3,\n        \"num_unique_values\": 1,\n        \"samples\": [\n          3\n        ],\n        \"semantic_type\": \"\",\n        \"description\": \"\"\n      }\n    },\n    {\n      \"column\": \"2 level\",\n      \"properties\": {\n        \"dtype\": \"number\",\n        \"std\": 0,\n        \"min\": 11,\n        \"max\": 13,\n        \"num_unique_values\": 3,\n        \"samples\": [\n          12\n        ],\n        \"semantic_type\": \"\",\n        \"description\": \"\"\n      }\n    },\n    {\n      \"column\": \"conn\",\n      \"properties\": {\n        \"dtype\": \"category\",\n        \"num_unique_values\": 3,\n        \"samples\": [\n          \"neutral\"\n        ],\n        \"semantic_type\": \"\",\n        \"description\": \"\"\n      }\n    },\n    {\n      \"column\": \"ton\",\n      \"properties\": {\n        \"dtype\": \"category\",\n        \"num_unique_values\": 3,\n        \"samples\": [\n          \"neutral\"\n        ],\n        \"semantic_type\": \"\",\n        \"description\": \"\"\n      }\n    }\n  ]\n}"
            }
          },
          "metadata": {},
          "execution_count": 53
        }
      ]
    },
    {
      "cell_type": "code",
      "source": [
        "#сюда попало единичное значение, его нужно убрать\n",
        "df_env['2 level'].value_counts()"
      ],
      "metadata": {
        "colab": {
          "base_uri": "https://localhost:8080/"
        },
        "id": "94jvB7ND6TsY",
        "outputId": "a84a6ec1-8d23-4c77-ec69-5fe54febd91d"
      },
      "execution_count": null,
      "outputs": [
        {
          "output_type": "execute_result",
          "data": {
            "text/plain": [
              "2 level\n",
              "12    75\n",
              "13    49\n",
              "11     1\n",
              "Name: count, dtype: int64"
            ]
          },
          "metadata": {},
          "execution_count": 54
        }
      ]
    },
    {
      "cell_type": "code",
      "source": [
        "#посмотрим индекс единичного значения\n",
        "df_env[df_env['2 level'] == 11].index"
      ],
      "metadata": {
        "colab": {
          "base_uri": "https://localhost:8080/"
        },
        "id": "e6fqtOyQ7iDW",
        "outputId": "9135a4d8-e169-422c-edc7-c3a78be539e6"
      },
      "execution_count": null,
      "outputs": [
        {
          "output_type": "execute_result",
          "data": {
            "text/plain": [
              "Index([522], dtype='int64')"
            ]
          },
          "metadata": {},
          "execution_count": 55
        }
      ]
    },
    {
      "cell_type": "code",
      "source": [
        "#удалим единичное значение, чтобы не было ошибки при делении на выборки\n",
        "df_env.drop(df_env[df_env['2 level'] == 11].index, axis=0, inplace = True)\n",
        "df_env['2 level'].value_counts()"
      ],
      "metadata": {
        "colab": {
          "base_uri": "https://localhost:8080/"
        },
        "collapsed": true,
        "id": "lxa_aHP26wem",
        "outputId": "ee0c67aa-4699-44a1-8fe5-a8c0ef7f7329"
      },
      "execution_count": null,
      "outputs": [
        {
          "output_type": "stream",
          "name": "stderr",
          "text": [
            "<ipython-input-56-e9b048203488>:2: SettingWithCopyWarning: \n",
            "A value is trying to be set on a copy of a slice from a DataFrame\n",
            "\n",
            "See the caveats in the documentation: https://pandas.pydata.org/pandas-docs/stable/user_guide/indexing.html#returning-a-view-versus-a-copy\n",
            "  df_env.drop(df_env[df_env['2 level'] == 11].index, axis=0, inplace = True)\n"
          ]
        },
        {
          "output_type": "execute_result",
          "data": {
            "text/plain": [
              "2 level\n",
              "12    75\n",
              "13    49\n",
              "Name: count, dtype: int64"
            ]
          },
          "metadata": {},
          "execution_count": 56
        }
      ]
    },
    {
      "cell_type": "code",
      "source": [
        "#выделяем целевую переменную\n",
        "X_env = df_env.drop(['1 level', '2 level'], axis = 1)\n",
        "y_env = df_env['2 level']"
      ],
      "metadata": {
        "id": "iJ7urVqn1U71"
      },
      "execution_count": null,
      "outputs": []
    },
    {
      "cell_type": "code",
      "source": [
        "#выделяем обучающую и тестовую выборку\n",
        "X_env_train, X_env_test, y_env_train, y_env_test = train_test_split(X_env, y_env,\n",
        "                                                    test_size=0.2,\n",
        "                                                    random_state=42,\n",
        "                                                    stratify=df_env['2 level'])"
      ],
      "metadata": {
        "id": "MpwKKpeF1Wol"
      },
      "execution_count": null,
      "outputs": []
    },
    {
      "cell_type": "markdown",
      "source": [
        "# Векторизация"
      ],
      "metadata": {
        "id": "nW0j3LfSJgwd"
      }
    },
    {
      "cell_type": "code",
      "source": [
        "def create_X(X_train, X_test, mode='meaning'):\n",
        "    \"\"\"\n",
        "    Vectorize texts and combine with additional features.\n",
        "    \"\"\"\n",
        "    # Создание TF-IDF векторизатора для преобразования текстов в векторы\n",
        "    vectorizer = TfidfVectorizer()\n",
        "\n",
        "    # Объединение текстов из нескольких колонок\n",
        "    if  mode == 'meaning':\n",
        "      X_train_combined = X_train['Full context'] + \" \" + X_train['conn'] + \" \" + X_train['ton'].astype(str)\n",
        "      X_test_combined = X_test['Full context'] + \" \" + X_test['conn'] + \" \" + X_test['ton'].astype(str)\n",
        "    elif mode == 'conn' or mode == 'ton':\n",
        "      X_train_combined = X_train['Full context']\n",
        "      X_test_combined = X_test['Full context']\n",
        "\n",
        "    # Преобразование текстов в обучающем наборе данных в TF-IDF векторы\n",
        "    vectorised_train = vectorizer.fit_transform(X_train_combined)\n",
        "    # Преобразование текстов в тестовом наборе данных в TF-IDF векторы\n",
        "    vectorised_test = vectorizer.transform(X_test_combined)\n",
        "\n",
        "    # Преобразование разреженных матриц в DataFrame для удобства объединения\n",
        "    X_train_vectors = pd.DataFrame(vectorised_train.toarray(), columns=vectorizer.get_feature_names_out())\n",
        "    X_test_vectors = pd.DataFrame(vectorised_test.toarray(), columns=vectorizer.get_feature_names_out())\n",
        "\n",
        "    if mode == 'conn' or mode == 'ton':\n",
        "      # Извлечение дополнительных признаков из обучающего набора данных\n",
        "      train_features = X_train.drop(['Full context'], axis=1)\n",
        "      # Извлечение дополнительных признаков из тестового набора данных\n",
        "      test_features = X_test.drop(['Full context'], axis=1)\n",
        "      # Объединение TF-IDF векторов и дополнительных признаков для обучающего набора данных\n",
        "      X_train_result = pd.concat([X_train_vectors, train_features.reset_index(drop=True)], axis=1)\n",
        "      # Объединение TF-IDF векторов и дополнительных признаков для тестового набора данных\n",
        "      X_test_result = pd.concat([X_test_vectors, test_features.reset_index(drop=True)], axis=1)\n",
        "      return X_train_result.values, X_test_result.values, vectorizer\n",
        "\n",
        "    # Возвращение результирующих данных как numpy массивов\n",
        "    return X_train_vectors.values, X_test_vectors.values, vectorizer"
      ],
      "metadata": {
        "id": "0-YA8l-jkId-"
      },
      "execution_count": null,
      "outputs": []
    },
    {
      "cell_type": "code",
      "source": [
        "vectorised_top_train, vectorised_top_test, vectorizer_top = create_X(X_top_train, X_top_test)"
      ],
      "metadata": {
        "id": "-9GxtGmqJgSg"
      },
      "execution_count": null,
      "outputs": []
    },
    {
      "cell_type": "code",
      "source": [
        "vectorised_const_train, vectorised_const_test, vectorizer_const = create_X(X_const_train, X_const_test)"
      ],
      "metadata": {
        "id": "5UnFHOwK8b_q"
      },
      "execution_count": null,
      "outputs": []
    },
    {
      "cell_type": "code",
      "source": [
        "vectorised_age_train, vectorised_age_test, vectorizer_age = create_X(X_age_train, X_age_test)"
      ],
      "metadata": {
        "id": "RCun6gPZ8ppi"
      },
      "execution_count": null,
      "outputs": []
    },
    {
      "cell_type": "code",
      "source": [
        "vectorised_env_train, vectorised_env_test, vectorizer_env = create_X(X_env_train, X_env_test)"
      ],
      "metadata": {
        "id": "kklOnlPT8vGi"
      },
      "execution_count": null,
      "outputs": []
    },
    {
      "cell_type": "markdown",
      "source": [
        "# Обучение модели верхнего уровня"
      ],
      "metadata": {
        "id": "WV00ysVlJkyp"
      }
    },
    {
      "cell_type": "code",
      "source": [
        "vectorised_top_train.shape"
      ],
      "metadata": {
        "colab": {
          "base_uri": "https://localhost:8080/"
        },
        "id": "IO-_Y3qTTcvb",
        "outputId": "a687ab19-fbb2-43c4-cf2b-fc148c699265"
      },
      "execution_count": null,
      "outputs": [
        {
          "output_type": "execute_result",
          "data": {
            "text/plain": [
              "(1317, 6658)"
            ]
          },
          "metadata": {},
          "execution_count": 100
        }
      ]
    },
    {
      "cell_type": "code",
      "source": [
        "# Обучение модели верхнего уровня\n",
        "svm_top = SVC(kernel='linear')\n",
        "svm_top.fit(vectorised_top_train, y_top_train)\n",
        "\n",
        "# Прогнозирование на тестовых данных\n",
        "y_pred = svm_top.predict(vectorised_top_test)"
      ],
      "metadata": {
        "id": "Dg7VHDm4JsdP"
      },
      "execution_count": null,
      "outputs": []
    },
    {
      "cell_type": "code",
      "source": [
        "# Оценка точности модели\n",
        "accuracy = accuracy_score(y_top_test, y_pred)\n",
        "print(f'Accuracy: {accuracy}')\n",
        "ConfusionMatrixDisplay.from_estimator(svm_top, vectorised_top_test, y_top_test)\n",
        "\n",
        "print(classification_report(y_top_test, y_pred))"
      ],
      "metadata": {
        "colab": {
          "base_uri": "https://localhost:8080/",
          "height": 815
        },
        "id": "ygppfOykYC47",
        "outputId": "eb8a8e2e-1698-4bfb-bab9-31cffd3d514d"
      },
      "execution_count": null,
      "outputs": [
        {
          "output_type": "stream",
          "name": "stdout",
          "text": [
            "Accuracy: 0.796969696969697\n"
          ]
        },
        {
          "output_type": "stream",
          "name": "stderr",
          "text": [
            "/usr/local/lib/python3.10/dist-packages/sklearn/metrics/_classification.py:1344: UndefinedMetricWarning: Precision and F-score are ill-defined and being set to 0.0 in labels with no predicted samples. Use `zero_division` parameter to control this behavior.\n",
            "  _warn_prf(average, modifier, msg_start, len(result))\n",
            "/usr/local/lib/python3.10/dist-packages/sklearn/metrics/_classification.py:1344: UndefinedMetricWarning: Precision and F-score are ill-defined and being set to 0.0 in labels with no predicted samples. Use `zero_division` parameter to control this behavior.\n",
            "  _warn_prf(average, modifier, msg_start, len(result))\n",
            "/usr/local/lib/python3.10/dist-packages/sklearn/metrics/_classification.py:1344: UndefinedMetricWarning: Precision and F-score are ill-defined and being set to 0.0 in labels with no predicted samples. Use `zero_division` parameter to control this behavior.\n",
            "  _warn_prf(average, modifier, msg_start, len(result))\n"
          ]
        },
        {
          "output_type": "stream",
          "name": "stdout",
          "text": [
            "              precision    recall  f1-score   support\n",
            "\n",
            "           1       0.78      0.84      0.81       122\n",
            "           2       0.81      0.93      0.87       169\n",
            "           3       0.50      0.04      0.07        25\n",
            "           4       1.00      0.11      0.20         9\n",
            "           5       0.00      0.00      0.00         5\n",
            "\n",
            "    accuracy                           0.80       330\n",
            "   macro avg       0.62      0.39      0.39       330\n",
            "weighted avg       0.77      0.80      0.76       330\n",
            "\n"
          ]
        },
        {
          "output_type": "display_data",
          "data": {
            "text/plain": [
              "<Figure size 640x480 with 2 Axes>"
            ],
            "image/png": "[encoded data removed]"
          },
          "metadata": {}
        }
      ]
    },
    {
      "cell_type": "markdown",
      "source": [
        "Для более точной интерпретации метрик посмотрим на количество разных классов в выборке"
      ],
      "metadata": {
        "id": "jvQII9tTkbuH"
      }
    },
    {
      "cell_type": "code",
      "source": [
        "result_df['1 level'].value_counts()"
      ],
      "metadata": {
        "colab": {
          "base_uri": "https://localhost:8080/"
        },
        "id": "zrp6aydIka0q",
        "outputId": "9f58d1ad-4d1a-42dc-bec7-e2c38053435b"
      },
      "execution_count": null,
      "outputs": [
        {
          "output_type": "execute_result",
          "data": {
            "text/plain": [
              "1 level\n",
              "2    845\n",
              "1    607\n",
              "3    125\n",
              "4     44\n",
              "5     26\n",
              "Name: count, dtype: int64"
            ]
          },
          "metadata": {},
          "execution_count": 35
        }
      ]
    },
    {
      "cell_type": "markdown",
      "source": [
        "Можно заметить,что между количеством элемментов в классах есть дисбаланс. В таком случае полагаться на acccuracy нельзя, хотя она получилась довольно высокой - 0.8. Лучше посмотреть на остальные метрики:  recall, precision и f1. Для первых 2 классов (просто констатация и называние по возрасту) они получились довольно высокими: 0.74 и больше, так как в первых 2 классах объектов больше всего. В оставшихся трех группах экземпляров значительно меньше, из-за чего и значения метрик ниже."
      ],
      "metadata": {
        "id": "BT3MviOkjwI8"
      }
    },
    {
      "cell_type": "markdown",
      "source": [
        "# Обучение моделей нижнего уровня"
      ],
      "metadata": {
        "id": "RrXOCwvvJ9uS"
      }
    },
    {
      "cell_type": "markdown",
      "source": [
        "Здесь мы будем обучать модель предсказывать подгруппы. Для каждой из групп создается отдельная модель, которая обучается на всех значениях, входящих в данную группу."
      ],
      "metadata": {
        "id": "c3D-bRmdnpzk"
      }
    },
    {
      "cell_type": "markdown",
      "source": [
        "## Первая группа"
      ],
      "metadata": {
        "id": "jvB-v2AkBUGk"
      }
    },
    {
      "cell_type": "code",
      "source": [
        "#обучение модели для первого значения\n",
        "svm_const = SVC(kernel='linear')\n",
        "svm_const.fit(vectorised_const_train, y_const_train)\n",
        "\n",
        "# Прогнозирование на тестовых данных\n",
        "y_pred_const = svm_const.predict(vectorised_const_test)"
      ],
      "metadata": {
        "id": "ygdo9rcLBWyQ"
      },
      "execution_count": null,
      "outputs": []
    },
    {
      "cell_type": "code",
      "source": [
        "# Оценка точности модели\n",
        "accuracy = accuracy_score(y_const_test, y_pred_const)\n",
        "print(f'Accuracy: {accuracy}')\n",
        "ConfusionMatrixDisplay.from_estimator(svm_const, vectorised_const_test, y_const_test)\n",
        "\n",
        "print(classification_report(y_const_test, y_pred_const))"
      ],
      "metadata": {
        "colab": {
          "base_uri": "https://localhost:8080/",
          "height": 779
        },
        "id": "4DIZ3o1NBXMF",
        "outputId": "b12b8232-a2a8-4a7b-b3bc-2a227b439fad"
      },
      "execution_count": null,
      "outputs": [
        {
          "output_type": "stream",
          "name": "stdout",
          "text": [
            "Accuracy: 0.9508196721311475\n",
            "              precision    recall  f1-score   support\n",
            "\n",
            "           6       0.00      0.00      0.00         1\n",
            "           7       0.00      0.00      0.00         5\n",
            "           8       0.95      1.00      0.97       116\n",
            "\n",
            "    accuracy                           0.95       122\n",
            "   macro avg       0.32      0.33      0.32       122\n",
            "weighted avg       0.90      0.95      0.93       122\n",
            "\n"
          ]
        },
        {
          "output_type": "stream",
          "name": "stderr",
          "text": [
            "/usr/local/lib/python3.10/dist-packages/sklearn/metrics/_classification.py:1344: UndefinedMetricWarning: Precision and F-score are ill-defined and being set to 0.0 in labels with no predicted samples. Use `zero_division` parameter to control this behavior.\n",
            "  _warn_prf(average, modifier, msg_start, len(result))\n",
            "/usr/local/lib/python3.10/dist-packages/sklearn/metrics/_classification.py:1344: UndefinedMetricWarning: Precision and F-score are ill-defined and being set to 0.0 in labels with no predicted samples. Use `zero_division` parameter to control this behavior.\n",
            "  _warn_prf(average, modifier, msg_start, len(result))\n",
            "/usr/local/lib/python3.10/dist-packages/sklearn/metrics/_classification.py:1344: UndefinedMetricWarning: Precision and F-score are ill-defined and being set to 0.0 in labels with no predicted samples. Use `zero_division` parameter to control this behavior.\n",
            "  _warn_prf(average, modifier, msg_start, len(result))\n"
          ]
        },
        {
          "output_type": "display_data",
          "data": {
            "text/plain": [
              "<Figure size 640x480 with 2 Axes>"
            ],
            "image/png": "[encoded data removed]"
          },
          "metadata": {}
        }
      ]
    },
    {
      "cell_type": "code",
      "source": [
        "df_const['2 level'].value_counts()"
      ],
      "metadata": {
        "colab": {
          "base_uri": "https://localhost:8080/"
        },
        "id": "UOSodx-LoCAU",
        "outputId": "c4348d22-b75a-4aea-c74d-63cb14a93dff"
      },
      "execution_count": null,
      "outputs": [
        {
          "output_type": "execute_result",
          "data": {
            "text/plain": [
              "2 level\n",
              "8    575\n",
              "7     26\n",
              "6      6\n",
              "Name: count, dtype: int64"
            ]
          },
          "metadata": {},
          "execution_count": 38
        }
      ]
    },
    {
      "cell_type": "markdown",
      "source": [
        "Здесь тоже наблюдается дисбаланс классов: больше всего их в подгруппе 8 (называние человека по полу/просто незнакомый человек), поэтому, опять же, высокому значению accuracy тоже верить нельзя. Метрики для 8 подгруппы очень высокие, однако для оставшихся 2 подгрупп значения всех метрик равны нулю из-за очень маленького количества экземпляров в классах."
      ],
      "metadata": {
        "id": "DGkbhrv3oWA4"
      }
    },
    {
      "cell_type": "markdown",
      "source": [
        "## Вторая группа"
      ],
      "metadata": {
        "id": "CDmZwTzABQBW"
      }
    },
    {
      "cell_type": "code",
      "source": [
        "#обучение модели для второго значения\n",
        "svm_age = SVC(kernel='linear')\n",
        "svm_age.fit(vectorised_age_train, y_age_train)\n",
        "\n",
        "# Прогнозирование на тестовых данных\n",
        "y_pred_age = svm_age.predict(vectorised_age_test)"
      ],
      "metadata": {
        "id": "6o8OuYg4KDy6"
      },
      "execution_count": null,
      "outputs": []
    },
    {
      "cell_type": "code",
      "source": [
        "# Оценка точности модели\n",
        "accuracy = accuracy_score(y_age_test, y_pred_age)\n",
        "print(f'Accuracy: {accuracy}')\n",
        "ConfusionMatrixDisplay.from_estimator(svm_age, vectorised_age_test, y_age_test)\n",
        "\n",
        "print(classification_report(y_age_test, y_pred_age))"
      ],
      "metadata": {
        "colab": {
          "base_uri": "https://localhost:8080/",
          "height": 779
        },
        "id": "n0K7ZdGAAvNs",
        "outputId": "371b14c2-4030-44e5-964f-d1b9ed4d5650"
      },
      "execution_count": null,
      "outputs": [
        {
          "output_type": "stream",
          "name": "stdout",
          "text": [
            "Accuracy: 0.9763313609467456\n"
          ]
        },
        {
          "output_type": "stream",
          "name": "stderr",
          "text": [
            "/usr/local/lib/python3.10/dist-packages/sklearn/metrics/_classification.py:1344: UndefinedMetricWarning: Precision and F-score are ill-defined and being set to 0.0 in labels with no predicted samples. Use `zero_division` parameter to control this behavior.\n",
            "  _warn_prf(average, modifier, msg_start, len(result))\n",
            "/usr/local/lib/python3.10/dist-packages/sklearn/metrics/_classification.py:1344: UndefinedMetricWarning: Precision and F-score are ill-defined and being set to 0.0 in labels with no predicted samples. Use `zero_division` parameter to control this behavior.\n",
            "  _warn_prf(average, modifier, msg_start, len(result))\n",
            "/usr/local/lib/python3.10/dist-packages/sklearn/metrics/_classification.py:1344: UndefinedMetricWarning: Precision and F-score are ill-defined and being set to 0.0 in labels with no predicted samples. Use `zero_division` parameter to control this behavior.\n",
            "  _warn_prf(average, modifier, msg_start, len(result))\n"
          ]
        },
        {
          "output_type": "stream",
          "name": "stdout",
          "text": [
            "              precision    recall  f1-score   support\n",
            "\n",
            "           9       0.98      1.00      0.99       104\n",
            "          10       0.00      0.00      0.00         3\n",
            "          11       0.97      0.98      0.98        62\n",
            "\n",
            "    accuracy                           0.98       169\n",
            "   macro avg       0.65      0.66      0.66       169\n",
            "weighted avg       0.96      0.98      0.97       169\n",
            "\n"
          ]
        },
        {
          "output_type": "display_data",
          "data": {
            "text/plain": [
              "<Figure size 640x480 with 2 Axes>"
            ],
            "image/png": "[encoded data removed]"
          },
          "metadata": {}
        }
      ]
    },
    {
      "cell_type": "code",
      "source": [
        "df_age['2 level'].value_counts()"
      ],
      "metadata": {
        "colab": {
          "base_uri": "https://localhost:8080/"
        },
        "id": "H2mIS5afuLys",
        "outputId": "e7c81d97-b848-4304-b997-d268755a4fd8"
      },
      "execution_count": null,
      "outputs": [
        {
          "output_type": "execute_result",
          "data": {
            "text/plain": [
              "2 level\n",
              "9     521\n",
              "11    309\n",
              "10     15\n",
              "Name: count, dtype: int64"
            ]
          },
          "metadata": {},
          "execution_count": 41
        }
      ]
    },
    {
      "cell_type": "markdown",
      "source": [
        "Опять же, виден большой дисбаланс между группами и хорошее значение accuracy. Здесь для 9 и 11 классов, где больше всего экземпляров, метрики очень высокие и даже достигают 1. Так как экземпляров 10 класса очень мало, метрики для него равны нулю: модели  не хватило данных для обучения."
      ],
      "metadata": {
        "id": "375nvQtlufzC"
      }
    },
    {
      "cell_type": "markdown",
      "source": [
        "## Третья группа"
      ],
      "metadata": {
        "id": "BBGGmOwVCTKE"
      }
    },
    {
      "cell_type": "code",
      "source": [
        "#обучение модели для третьего значения\n",
        "svm_env = SVC(kernel='linear')\n",
        "svm_env.fit(vectorised_env_train, y_env_train)\n",
        "\n",
        "# Прогнозирование на тестовых данных\n",
        "y_pred_env = svm_env.predict(vectorised_env_test)"
      ],
      "metadata": {
        "id": "wWtnj0_1CW5l"
      },
      "execution_count": null,
      "outputs": []
    },
    {
      "cell_type": "code",
      "source": [
        "# Оценка точности модели\n",
        "accuracy = accuracy_score(y_env_test, y_pred_env)\n",
        "print(f'Accuracy: {accuracy}')\n",
        "ConfusionMatrixDisplay.from_estimator(svm_env, vectorised_env_test, y_env_test)\n",
        "\n",
        "print(classification_report(y_env_test, y_pred_env))"
      ],
      "metadata": {
        "colab": {
          "base_uri": "https://localhost:8080/",
          "height": 631
        },
        "id": "fcqLRTPdCXF4",
        "outputId": "fb2babcf-f371-4f14-9f60-4d023fd93091"
      },
      "execution_count": null,
      "outputs": [
        {
          "output_type": "stream",
          "name": "stdout",
          "text": [
            "Accuracy: 0.92\n",
            "              precision    recall  f1-score   support\n",
            "\n",
            "          12       0.88      1.00      0.94        15\n",
            "          13       1.00      0.80      0.89        10\n",
            "\n",
            "    accuracy                           0.92        25\n",
            "   macro avg       0.94      0.90      0.91        25\n",
            "weighted avg       0.93      0.92      0.92        25\n",
            "\n"
          ]
        },
        {
          "output_type": "display_data",
          "data": {
            "text/plain": [
              "<Figure size 640x480 with 2 Axes>"
            ],
            "image/png": "[encoded data removed]"
          },
          "metadata": {}
        }
      ]
    },
    {
      "cell_type": "code",
      "source": [
        "df_env['2 level'].value_counts()"
      ],
      "metadata": {
        "colab": {
          "base_uri": "https://localhost:8080/"
        },
        "id": "1HXuvwe6xc_b",
        "outputId": "36625006-f209-4fcd-d1f4-53ed045d530a"
      },
      "execution_count": null,
      "outputs": [
        {
          "output_type": "execute_result",
          "data": {
            "text/plain": [
              "2 level\n",
              "12    75\n",
              "13    49\n",
              "Name: count, dtype: int64"
            ]
          },
          "metadata": {},
          "execution_count": 44
        }
      ]
    },
    {
      "cell_type": "markdown",
      "source": [
        "В классах 3 группы экземпляров в целом очень мало, поэтому качество обучения может быть не очень высоким. Однако значения  метрик здесь тоже тоже большие для обоих классов и снова могут даже достигать единицы."
      ],
      "metadata": {
        "id": "iMKqhY45xgVR"
      }
    },
    {
      "cell_type": "markdown",
      "source": [
        "# Обучение на всех данных"
      ],
      "metadata": {
        "id": "z-kMB8IWDSwI"
      }
    },
    {
      "cell_type": "code",
      "source": [
        "X_all = result_df.drop(['1 level', '2 level'], axis = 1)\n",
        "y_all = result_df['2 level']"
      ],
      "metadata": {
        "id": "b2Aso3ihDYd3"
      },
      "execution_count": null,
      "outputs": []
    },
    {
      "cell_type": "code",
      "source": [
        "#разделение на выборки\n",
        "X_train, X_test, y_train, y_test = train_test_split(X_all, y_all,\n",
        "                                                            test_size=0.2,\n",
        "                                                            random_state=42,\n",
        "                                                            stratify=result_df['2 level'])"
      ],
      "metadata": {
        "id": "NEFjrfX-D3Yd"
      },
      "execution_count": null,
      "outputs": []
    },
    {
      "cell_type": "code",
      "source": [
        "#векторизация\n",
        "vectorised_train, vectorised_test, vectorizer = create_X(X_train, X_test)"
      ],
      "metadata": {
        "id": "3qD2FwsDEPwJ"
      },
      "execution_count": null,
      "outputs": []
    },
    {
      "cell_type": "code",
      "source": [
        "#обучение модели для всего датасета\n",
        "svm = SVC(kernel='linear')\n",
        "svm.fit(vectorised_train, y_train)\n",
        "\n",
        "# Прогнозирование на тестовых данных\n",
        "y_pred_all= svm.predict(vectorised_test)"
      ],
      "metadata": {
        "id": "vuYgIqiwFB-S"
      },
      "execution_count": null,
      "outputs": []
    },
    {
      "cell_type": "code",
      "source": [
        "# Оценка точности модели\n",
        "accuracy = accuracy_score(y_test, y_pred_all)\n",
        "print(f'Accuracy: {accuracy}')\n",
        "ConfusionMatrixDisplay.from_estimator(svm, vectorised_test, y_test)\n",
        "\n",
        "print(classification_report(y_test, y_pred_all))"
      ],
      "metadata": {
        "colab": {
          "base_uri": "https://localhost:8080/",
          "height": 907
        },
        "id": "tcEs3-RXFciX",
        "outputId": "276d37d4-4950-492d-b87a-d6789557ad1b"
      },
      "execution_count": null,
      "outputs": [
        {
          "output_type": "stream",
          "name": "stdout",
          "text": [
            "Accuracy: 0.7909090909090909\n"
          ]
        },
        {
          "output_type": "stream",
          "name": "stderr",
          "text": [
            "/usr/local/lib/python3.10/dist-packages/sklearn/metrics/_classification.py:1344: UndefinedMetricWarning: Precision and F-score are ill-defined and being set to 0.0 in labels with no predicted samples. Use `zero_division` parameter to control this behavior.\n",
            "  _warn_prf(average, modifier, msg_start, len(result))\n",
            "/usr/local/lib/python3.10/dist-packages/sklearn/metrics/_classification.py:1344: UndefinedMetricWarning: Precision and F-score are ill-defined and being set to 0.0 in labels with no predicted samples. Use `zero_division` parameter to control this behavior.\n",
            "  _warn_prf(average, modifier, msg_start, len(result))\n",
            "/usr/local/lib/python3.10/dist-packages/sklearn/metrics/_classification.py:1344: UndefinedMetricWarning: Precision and F-score are ill-defined and being set to 0.0 in labels with no predicted samples. Use `zero_division` parameter to control this behavior.\n",
            "  _warn_prf(average, modifier, msg_start, len(result))\n"
          ]
        },
        {
          "output_type": "stream",
          "name": "stdout",
          "text": [
            "              precision    recall  f1-score   support\n",
            "\n",
            "           4       1.00      0.11      0.20         9\n",
            "           5       1.00      0.20      0.33         5\n",
            "           6       0.00      0.00      0.00         1\n",
            "           7       0.00      0.00      0.00         5\n",
            "           8       0.72      0.91      0.81       115\n",
            "           9       0.85      0.97      0.91       105\n",
            "          10       0.00      0.00      0.00         3\n",
            "          11       0.83      0.84      0.83        62\n",
            "          12       0.00      0.00      0.00        15\n",
            "          13       0.00      0.00      0.00        10\n",
            "\n",
            "    accuracy                           0.79       330\n",
            "   macro avg       0.44      0.30      0.31       330\n",
            "weighted avg       0.72      0.79      0.74       330\n",
            "\n"
          ]
        },
        {
          "output_type": "display_data",
          "data": {
            "text/plain": [
              "<Figure size 640x480 with 2 Axes>"
            ],
            "image/png": "[encoded data removed]"
          },
          "metadata": {}
        }
      ]
    },
    {
      "cell_type": "code",
      "source": [
        "result_df['2 level'].value_counts()"
      ],
      "metadata": {
        "colab": {
          "base_uri": "https://localhost:8080/"
        },
        "id": "1miaxqERF01N",
        "outputId": "8401828f-408c-45fd-d412-fcdb63a21424"
      },
      "execution_count": null,
      "outputs": [
        {
          "output_type": "execute_result",
          "data": {
            "text/plain": [
              "2 level\n",
              "8     575\n",
              "9     521\n",
              "11    310\n",
              "12     75\n",
              "13     49\n",
              "4      44\n",
              "7      26\n",
              "5      26\n",
              "10     15\n",
              "6       6\n",
              "Name: count, dtype: int64"
            ]
          },
          "metadata": {},
          "execution_count": 114
        }
      ]
    },
    {
      "cell_type": "markdown",
      "source": [
        "Самые многочисленные классы: 8 (называние человека по полу), 9(люди молодого возраста) и 11 (люди пожилого возраста). Для этих подгрупп значения  метрик высокие: 0.73 и больше. Однако для остальных классов, из-за  небольшого количества данных для обучения, метрики либо очень низкие (0.2, 0.3 и меньше), либо вовсе равны нулю."
      ],
      "metadata": {
        "id": "B97Wf7WU0Whk"
      }
    },
    {
      "cell_type": "markdown",
      "source": [
        "## Подбор гиперпараметров"
      ],
      "metadata": {
        "id": "_8otiwcL6JNm"
      }
    },
    {
      "cell_type": "code",
      "source": [
        "# Определение сетки гиперпараметров\n",
        "param_grid = {\n",
        "    'C': [0.1, 1, 10, 100],  # Параметр регуляризации\n",
        "    'kernel': ['linear', 'rbf', 'poly'],  # Ядро\n",
        "    'gamma': ['scale', 'auto'],  # Параметр ядра\n",
        "}\n",
        "\n",
        "# Создание объекта GridSearchCV\n",
        "grid_search = GridSearchCV(SVC(), param_grid, cv=5, scoring='accuracy')\n",
        "\n",
        "# Поиск лучших гиперпараметров\n",
        "grid_search.fit(vectorised_train, y_train)\n",
        "\n",
        "# Лучшие гиперпараметры\n",
        "best_params = grid_search.best_params_\n",
        "print(\"Лучшие гиперпараметры:\", best_params)"
      ],
      "metadata": {
        "colab": {
          "base_uri": "https://localhost:8080/",
          "height": 238
        },
        "id": "jZjNl8606MPq",
        "outputId": "aa1b1736-cab6-47b0-fec2-815fb5f62952"
      },
      "execution_count": null,
      "outputs": [
        {
          "output_type": "stream",
          "name": "stdout",
          "text": [
            "Лучшие гиперпараметры: {'C': 10, 'gamma': 'scale', 'kernel': 'linear'}\n"
          ]
        },
        {
          "output_type": "error",
          "ename": "TypeError",
          "evalue": "SVC.__init__() takes 1 positional argument but 4 were given",
          "traceback": [
            "\u001b[0;31m---------------------------------------------------------------------------\u001b[0m",
            "\u001b[0;31mTypeError\u001b[0m                                 Traceback (most recent call last)",
            "\u001b[0;32m<ipython-input-207-4f070959d7ac>\u001b[0m in \u001b[0;36m<cell line: 19>\u001b[0;34m()\u001b[0m\n\u001b[1;32m     17\u001b[0m \u001b[0;34m\u001b[0m\u001b[0m\n\u001b[1;32m     18\u001b[0m \u001b[0;31m# Обучение модели с лучшими гиперпараметрами\u001b[0m\u001b[0;34m\u001b[0m\u001b[0;34m\u001b[0m\u001b[0m\n\u001b[0;32m---> 19\u001b[0;31m \u001b[0mbest_svm\u001b[0m \u001b[0;34m=\u001b[0m \u001b[0mSVC\u001b[0m\u001b[0;34m(\u001b[0m\u001b[0;34m*\u001b[0m\u001b[0mbest_params\u001b[0m\u001b[0;34m)\u001b[0m\u001b[0;34m\u001b[0m\u001b[0;34m\u001b[0m\u001b[0m\n\u001b[0m\u001b[1;32m     20\u001b[0m \u001b[0mbest_svm\u001b[0m\u001b[0;34m.\u001b[0m\u001b[0mfit\u001b[0m\u001b[0;34m(\u001b[0m\u001b[0mvectorised_train\u001b[0m\u001b[0;34m,\u001b[0m \u001b[0my_train\u001b[0m\u001b[0;34m)\u001b[0m\u001b[0;34m\u001b[0m\u001b[0;34m\u001b[0m\u001b[0m\n\u001b[1;32m     21\u001b[0m \u001b[0;34m\u001b[0m\u001b[0m\n",
            "\u001b[0;31mTypeError\u001b[0m: SVC.__init__() takes 1 positional argument but 4 were given"
          ]
        }
      ]
    },
    {
      "cell_type": "code",
      "source": [
        "# Обучение модели с лучшими гиперпараметрами\n",
        "best_svm = SVC(C=10, gamma='scale', kernel='linear')\n",
        "best_svm.fit(vectorised_train, y_train)\n",
        "\n",
        "# Прогнозирование на тестовых данных\n",
        "y_pred_best = best_svm.predict(vectorised_test)"
      ],
      "metadata": {
        "id": "Oao2yLHoDbGa"
      },
      "execution_count": null,
      "outputs": []
    },
    {
      "cell_type": "code",
      "source": [
        "# Оценка луччшей модели\n",
        "accuracy = accuracy_score(y_test, y_pred_best)\n",
        "print(\"Точность на тестовых данных:\", accuracy)\n",
        "\n",
        "ConfusionMatrixDisplay.from_estimator(best_svm, vectorised_test, y_test)\n",
        "\n",
        "print(classification_report(y_test, y_pred_best))"
      ],
      "metadata": {
        "colab": {
          "base_uri": "https://localhost:8080/",
          "height": 907
        },
        "id": "ENwnGGDMDwHU",
        "outputId": "987850f1-c9f4-40d4-afb0-077805712a6b"
      },
      "execution_count": null,
      "outputs": [
        {
          "output_type": "stream",
          "name": "stdout",
          "text": [
            "Точность на тестовых данных: 0.8151515151515152\n"
          ]
        },
        {
          "output_type": "stream",
          "name": "stderr",
          "text": [
            "/usr/local/lib/python3.10/dist-packages/sklearn/metrics/_classification.py:1344: UndefinedMetricWarning: Precision and F-score are ill-defined and being set to 0.0 in labels with no predicted samples. Use `zero_division` parameter to control this behavior.\n",
            "  _warn_prf(average, modifier, msg_start, len(result))\n",
            "/usr/local/lib/python3.10/dist-packages/sklearn/metrics/_classification.py:1344: UndefinedMetricWarning: Precision and F-score are ill-defined and being set to 0.0 in labels with no predicted samples. Use `zero_division` parameter to control this behavior.\n",
            "  _warn_prf(average, modifier, msg_start, len(result))\n",
            "/usr/local/lib/python3.10/dist-packages/sklearn/metrics/_classification.py:1344: UndefinedMetricWarning: Precision and F-score are ill-defined and being set to 0.0 in labels with no predicted samples. Use `zero_division` parameter to control this behavior.\n",
            "  _warn_prf(average, modifier, msg_start, len(result))\n"
          ]
        },
        {
          "output_type": "stream",
          "name": "stdout",
          "text": [
            "              precision    recall  f1-score   support\n",
            "\n",
            "           4       0.75      0.33      0.46         9\n",
            "           5       1.00      0.20      0.33         5\n",
            "           6       0.00      0.00      0.00         1\n",
            "           7       0.50      0.20      0.29         5\n",
            "           8       0.76      0.92      0.83       115\n",
            "           9       0.89      0.97      0.93       105\n",
            "          10       0.00      0.00      0.00         3\n",
            "          11       0.83      0.87      0.85        62\n",
            "          12       0.50      0.07      0.12        15\n",
            "          13       1.00      0.10      0.18        10\n",
            "\n",
            "    accuracy                           0.82       330\n",
            "   macro avg       0.62      0.37      0.40       330\n",
            "weighted avg       0.80      0.82      0.78       330\n",
            "\n"
          ]
        },
        {
          "output_type": "display_data",
          "data": {
            "text/plain": [
              "<Figure size 640x480 with 2 Axes>"
            ],
            "image/png": "[encoded data removed]"
          },
          "metadata": {}
        }
      ]
    },
    {
      "cell_type": "markdown",
      "source": [
        "Подбор гиперпараметров немного повысил accuracy, но эта метрика для нас не является самой важной. Гораздо важнее то, что поднялись значения метрик для немногочисленных классов. Например, без гиперпараметров для классов 4, 7 и 12 метрики были нулевыми. Подбор гиперпараметров поднял значения для многих классов, кроме 6 и 10, которые имеют наименьшее количество экземпляров."
      ],
      "metadata": {
        "id": "F8ahliSDJL2A"
      }
    },
    {
      "cell_type": "markdown",
      "source": [
        "# Предсказание коннотации"
      ],
      "metadata": {
        "id": "Ye3Hek88Lkpy"
      }
    },
    {
      "cell_type": "markdown",
      "source": [
        "Здесь мы попробуем предсказать коннотацию лексем. Вначале мы перекодируем значения в столбцах с тональностью и коннотацией в числовой вид, затем выделим целевую переменную, разделим данные на обучающую и тестовую выборку, векторизуем данные и обучим модель."
      ],
      "metadata": {
        "id": "oNV4yQ7P1Hm-"
      }
    },
    {
      "cell_type": "code",
      "source": [
        "#кодировка столбца\n",
        "#кодируем и тональность, и коннотацию\n",
        "names = {'conn': {'negative': 0, 'neutral': 1, 'positive': 2},\n",
        "         'ton': {'negative': 0, 'neutral': 1, 'positive': 2}}\n",
        "coded_result = result_df.replace(names)"
      ],
      "metadata": {
        "id": "t4H3DwOSR9qj"
      },
      "execution_count": null,
      "outputs": []
    },
    {
      "cell_type": "code",
      "source": [
        "coded_result"
      ],
      "metadata": {
        "colab": {
          "base_uri": "https://localhost:8080/",
          "height": 423
        },
        "id": "6CGRxC7IX9gU",
        "outputId": "d76854b9-1176-44fb-88bf-0f2047029c40"
      },
      "execution_count": null,
      "outputs": [
        {
          "output_type": "execute_result",
          "data": {
            "text/plain": [
              "                                           Full context  1 level  2 level  \\\n",
              "0     ― упасть pешкой пиво !   ― встанет pебpом баба...        1        8   \n",
              "1           понимание баба , мужик , виноватый , ипет !        1        8   \n",
              "2                       садиться здоровый лысый мужик .        4        4   \n",
              "3       мальчик опустить глаз тихо сказать : – собака .        2        9   \n",
              "4     спрашивать ― отвечать : , баба маша поддрержив...        2       11   \n",
              "...                                                 ...      ...      ...   \n",
              "1642                                     мужик забирать        1        8   \n",
              "1643  мальчик португалия , , видео перевести английс...        2        9   \n",
              "1644  спасибо , туфелька треугольничке : \" дурной ба...        1        8   \n",
              "1645  нa грузинский свaдьбе другому : ― нa многих св...        1        8   \n",
              "1646                      — мама сказать , баб водить .        1        8   \n",
              "\n",
              "      conn  ton  \n",
              "0        1    1  \n",
              "1        0    0  \n",
              "2        1    0  \n",
              "3        1    1  \n",
              "4        1    1  \n",
              "...    ...  ...  \n",
              "1642     1    0  \n",
              "1643     1    1  \n",
              "1644     0    1  \n",
              "1645     1    0  \n",
              "1646     1    1  \n",
              "\n",
              "[1647 rows x 5 columns]"
            ],
            "text/html": [
              "\n",
              "  <div id=\"df-23e5f085-847f-4139-b62e-525fe734bd4c\" class=\"colab-df-container\">\n",
              "    <div>\n",
              "<style scoped>\n",
              "    .dataframe tbody tr th:only-of-type {\n",
              "        vertical-align: middle;\n",
              "    }\n",
              "\n",
              "    .dataframe tbody tr th {\n",
              "        vertical-align: top;\n",
              "    }\n",
              "\n",
              "    .dataframe thead th {\n",
              "        text-align: right;\n",
              "    }\n",
              "</style>\n",
              "<table border=\"1\" class=\"dataframe\">\n",
              "  <thead>\n",
              "    <tr style=\"text-align: right;\">\n",
              "      <th></th>\n",
              "      <th>Full context</th>\n",
              "      <th>1 level</th>\n",
              "      <th>2 level</th>\n",
              "      <th>conn</th>\n",
              "      <th>ton</th>\n",
              "    </tr>\n",
              "  </thead>\n",
              "  <tbody>\n",
              "    <tr>\n",
              "      <th>0</th>\n",
              "      <td>― упасть pешкой пиво !   ― встанет pебpом баба...</td>\n",
              "      <td>1</td>\n",
              "      <td>8</td>\n",
              "      <td>1</td>\n",
              "      <td>1</td>\n",
              "    </tr>\n",
              "    <tr>\n",
              "      <th>1</th>\n",
              "      <td>понимание баба , мужик , виноватый , ипет !</td>\n",
              "      <td>1</td>\n",
              "      <td>8</td>\n",
              "      <td>0</td>\n",
              "      <td>0</td>\n",
              "    </tr>\n",
              "    <tr>\n",
              "      <th>2</th>\n",
              "      <td>садиться здоровый лысый мужик .</td>\n",
              "      <td>4</td>\n",
              "      <td>4</td>\n",
              "      <td>1</td>\n",
              "      <td>0</td>\n",
              "    </tr>\n",
              "    <tr>\n",
              "      <th>3</th>\n",
              "      <td>мальчик опустить глаз тихо сказать : – собака .</td>\n",
              "      <td>2</td>\n",
              "      <td>9</td>\n",
              "      <td>1</td>\n",
              "      <td>1</td>\n",
              "    </tr>\n",
              "    <tr>\n",
              "      <th>4</th>\n",
              "      <td>спрашивать ― отвечать : , баба маша поддрержив...</td>\n",
              "      <td>2</td>\n",
              "      <td>11</td>\n",
              "      <td>1</td>\n",
              "      <td>1</td>\n",
              "    </tr>\n",
              "    <tr>\n",
              "      <th>...</th>\n",
              "      <td>...</td>\n",
              "      <td>...</td>\n",
              "      <td>...</td>\n",
              "      <td>...</td>\n",
              "      <td>...</td>\n",
              "    </tr>\n",
              "    <tr>\n",
              "      <th>1642</th>\n",
              "      <td>мужик забирать</td>\n",
              "      <td>1</td>\n",
              "      <td>8</td>\n",
              "      <td>1</td>\n",
              "      <td>0</td>\n",
              "    </tr>\n",
              "    <tr>\n",
              "      <th>1643</th>\n",
              "      <td>мальчик португалия , , видео перевести английс...</td>\n",
              "      <td>2</td>\n",
              "      <td>9</td>\n",
              "      <td>1</td>\n",
              "      <td>1</td>\n",
              "    </tr>\n",
              "    <tr>\n",
              "      <th>1644</th>\n",
              "      <td>спасибо , туфелька треугольничке : \" дурной ба...</td>\n",
              "      <td>1</td>\n",
              "      <td>8</td>\n",
              "      <td>0</td>\n",
              "      <td>1</td>\n",
              "    </tr>\n",
              "    <tr>\n",
              "      <th>1645</th>\n",
              "      <td>нa грузинский свaдьбе другому : ― нa многих св...</td>\n",
              "      <td>1</td>\n",
              "      <td>8</td>\n",
              "      <td>1</td>\n",
              "      <td>0</td>\n",
              "    </tr>\n",
              "    <tr>\n",
              "      <th>1646</th>\n",
              "      <td>— мама сказать , баб водить .</td>\n",
              "      <td>1</td>\n",
              "      <td>8</td>\n",
              "      <td>1</td>\n",
              "      <td>1</td>\n",
              "    </tr>\n",
              "  </tbody>\n",
              "</table>\n",
              "<p>1647 rows × 5 columns</p>\n",
              "</div>\n",
              "    <div class=\"colab-df-buttons\">\n",
              "\n",
              "  <div class=\"colab-df-container\">\n",
              "    <button class=\"colab-df-convert\" onclick=\"convertToInteractive('df-23e5f085-847f-4139-b62e-525fe734bd4c')\"\n",
              "            title=\"Convert this dataframe to an interactive table.\"\n",
              "            style=\"display:none;\">\n",
              "\n",
              "  <svg xmlns=\"http://www.w3.org/2000/svg\" height=\"24px\" viewBox=\"0 -960 960 960\">\n",
              "    <path d=\"M120-120v-720h720v720H120Zm60-500h600v-160H180v160Zm220 220h160v-160H400v160Zm0 220h160v-160H400v160ZM180-400h160v-160H180v160Zm440 0h160v-160H620v160ZM180-180h160v-160H180v160Zm440 0h160v-160H620v160Z\"/>\n",
              "  </svg>\n",
              "    </button>\n",
              "\n",
              "  <style>\n",
              "    .colab-df-container {\n",
              "      display:flex;\n",
              "      gap: 12px;\n",
              "    }\n",
              "\n",
              "    .colab-df-convert {\n",
              "      background-color: #E8F0FE;\n",
              "      border: none;\n",
              "      border-radius: 50%;\n",
              "      cursor: pointer;\n",
              "      display: none;\n",
              "      fill: #1967D2;\n",
              "      height: 32px;\n",
              "      padding: 0 0 0 0;\n",
              "      width: 32px;\n",
              "    }\n",
              "\n",
              "    .colab-df-convert:hover {\n",
              "      background-color: #E2EBFA;\n",
              "      box-shadow: 0px 1px 2px rgba(60, 64, 67, 0.3), 0px 1px 3px 1px rgba(60, 64, 67, 0.15);\n",
              "      fill: #174EA6;\n",
              "    }\n",
              "\n",
              "    .colab-df-buttons div {\n",
              "      margin-bottom: 4px;\n",
              "    }\n",
              "\n",
              "    [theme=dark] .colab-df-convert {\n",
              "      background-color: #3B4455;\n",
              "      fill: #D2E3FC;\n",
              "    }\n",
              "\n",
              "    [theme=dark] .colab-df-convert:hover {\n",
              "      background-color: #434B5C;\n",
              "      box-shadow: 0px 1px 3px 1px rgba(0, 0, 0, 0.15);\n",
              "      filter: drop-shadow(0px 1px 2px rgba(0, 0, 0, 0.3));\n",
              "      fill: #FFFFFF;\n",
              "    }\n",
              "  </style>\n",
              "\n",
              "    <script>\n",
              "      const buttonEl =\n",
              "        document.querySelector('#df-23e5f085-847f-4139-b62e-525fe734bd4c button.colab-df-convert');\n",
              "      buttonEl.style.display =\n",
              "        google.colab.kernel.accessAllowed ? 'block' : 'none';\n",
              "\n",
              "      async function convertToInteractive(key) {\n",
              "        const element = document.querySelector('#df-23e5f085-847f-4139-b62e-525fe734bd4c');\n",
              "        const dataTable =\n",
              "          await google.colab.kernel.invokeFunction('convertToInteractive',\n",
              "                                                    [key], {});\n",
              "        if (!dataTable) return;\n",
              "\n",
              "        const docLinkHtml = 'Like what you see? Visit the ' +\n",
              "          '<a target=\"_blank\" href=https://colab.research.google.com/notebooks/data_table.ipynb>data table notebook</a>'\n",
              "          + ' to learn more about interactive tables.';\n",
              "        element.innerHTML = '';\n",
              "        dataTable['output_type'] = 'display_data';\n",
              "        await google.colab.output.renderOutput(dataTable, element);\n",
              "        const docLink = document.createElement('div');\n",
              "        docLink.innerHTML = docLinkHtml;\n",
              "        element.appendChild(docLink);\n",
              "      }\n",
              "    </script>\n",
              "  </div>\n",
              "\n",
              "\n",
              "<div id=\"df-8f8df884-ac5b-46b9-83a9-4aaf0259de17\">\n",
              "  <button class=\"colab-df-quickchart\" onclick=\"quickchart('df-8f8df884-ac5b-46b9-83a9-4aaf0259de17')\"\n",
              "            title=\"Suggest charts\"\n",
              "            style=\"display:none;\">\n",
              "\n",
              "<svg xmlns=\"http://www.w3.org/2000/svg\" height=\"24px\"viewBox=\"0 0 24 24\"\n",
              "     width=\"24px\">\n",
              "    <g>\n",
              "        <path d=\"M19 3H5c-1.1 0-2 .9-2 2v14c0 1.1.9 2 2 2h14c1.1 0 2-.9 2-2V5c0-1.1-.9-2-2-2zM9 17H7v-7h2v7zm4 0h-2V7h2v10zm4 0h-2v-4h2v4z\"/>\n",
              "    </g>\n",
              "</svg>\n",
              "  </button>\n",
              "\n",
              "<style>\n",
              "  .colab-df-quickchart {\n",
              "      --bg-color: #E8F0FE;\n",
              "      --fill-color: #1967D2;\n",
              "      --hover-bg-color: #E2EBFA;\n",
              "      --hover-fill-color: #174EA6;\n",
              "      --disabled-fill-color: #AAA;\n",
              "      --disabled-bg-color: #DDD;\n",
              "  }\n",
              "\n",
              "  [theme=dark] .colab-df-quickchart {\n",
              "      --bg-color: #3B4455;\n",
              "      --fill-color: #D2E3FC;\n",
              "      --hover-bg-color: #434B5C;\n",
              "      --hover-fill-color: #FFFFFF;\n",
              "      --disabled-bg-color: #3B4455;\n",
              "      --disabled-fill-color: #666;\n",
              "  }\n",
              "\n",
              "  .colab-df-quickchart {\n",
              "    background-color: var(--bg-color);\n",
              "    border: none;\n",
              "    border-radius: 50%;\n",
              "    cursor: pointer;\n",
              "    display: none;\n",
              "    fill: var(--fill-color);\n",
              "    height: 32px;\n",
              "    padding: 0;\n",
              "    width: 32px;\n",
              "  }\n",
              "\n",
              "  .colab-df-quickchart:hover {\n",
              "    background-color: var(--hover-bg-color);\n",
              "    box-shadow: 0 1px 2px rgba(60, 64, 67, 0.3), 0 1px 3px 1px rgba(60, 64, 67, 0.15);\n",
              "    fill: var(--button-hover-fill-color);\n",
              "  }\n",
              "\n",
              "  .colab-df-quickchart-complete:disabled,\n",
              "  .colab-df-quickchart-complete:disabled:hover {\n",
              "    background-color: var(--disabled-bg-color);\n",
              "    fill: var(--disabled-fill-color);\n",
              "    box-shadow: none;\n",
              "  }\n",
              "\n",
              "  .colab-df-spinner {\n",
              "    border: 2px solid var(--fill-color);\n",
              "    border-color: transparent;\n",
              "    border-bottom-color: var(--fill-color);\n",
              "    animation:\n",
              "      spin 1s steps(1) infinite;\n",
              "  }\n",
              "\n",
              "  @keyframes spin {\n",
              "    0% {\n",
              "      border-color: transparent;\n",
              "      border-bottom-color: var(--fill-color);\n",
              "      border-left-color: var(--fill-color);\n",
              "    }\n",
              "    20% {\n",
              "      border-color: transparent;\n",
              "      border-left-color: var(--fill-color);\n",
              "      border-top-color: var(--fill-color);\n",
              "    }\n",
              "    30% {\n",
              "      border-color: transparent;\n",
              "      border-left-color: var(--fill-color);\n",
              "      border-top-color: var(--fill-color);\n",
              "      border-right-color: var(--fill-color);\n",
              "    }\n",
              "    40% {\n",
              "      border-color: transparent;\n",
              "      border-right-color: var(--fill-color);\n",
              "      border-top-color: var(--fill-color);\n",
              "    }\n",
              "    60% {\n",
              "      border-color: transparent;\n",
              "      border-right-color: var(--fill-color);\n",
              "    }\n",
              "    80% {\n",
              "      border-color: transparent;\n",
              "      border-right-color: var(--fill-color);\n",
              "      border-bottom-color: var(--fill-color);\n",
              "    }\n",
              "    90% {\n",
              "      border-color: transparent;\n",
              "      border-bottom-color: var(--fill-color);\n",
              "    }\n",
              "  }\n",
              "</style>\n",
              "\n",
              "  <script>\n",
              "    async function quickchart(key) {\n",
              "      const quickchartButtonEl =\n",
              "        document.querySelector('#' + key + ' button');\n",
              "      quickchartButtonEl.disabled = true;  // To prevent multiple clicks.\n",
              "      quickchartButtonEl.classList.add('colab-df-spinner');\n",
              "      try {\n",
              "        const charts = await google.colab.kernel.invokeFunction(\n",
              "            'suggestCharts', [key], {});\n",
              "      } catch (error) {\n",
              "        console.error('Error during call to suggestCharts:', error);\n",
              "      }\n",
              "      quickchartButtonEl.classList.remove('colab-df-spinner');\n",
              "      quickchartButtonEl.classList.add('colab-df-quickchart-complete');\n",
              "    }\n",
              "    (() => {\n",
              "      let quickchartButtonEl =\n",
              "        document.querySelector('#df-8f8df884-ac5b-46b9-83a9-4aaf0259de17 button');\n",
              "      quickchartButtonEl.style.display =\n",
              "        google.colab.kernel.accessAllowed ? 'block' : 'none';\n",
              "    })();\n",
              "  </script>\n",
              "</div>\n",
              "    </div>\n",
              "  </div>\n"
            ],
            "application/vnd.google.colaboratory.intrinsic+json": {
              "type": "dataframe",
              "variable_name": "coded_result",
              "summary": "{\n  \"name\": \"coded_result\",\n  \"rows\": 1647,\n  \"fields\": [\n    {\n      \"column\": \"Full context\",\n      \"properties\": {\n        \"dtype\": \"string\",\n        \"num_unique_values\": 1645,\n        \"samples\": [\n          \"\\u0441\\u0442\\u0430\\u043d\\u0446\\u0438\\u044f \\u043c\\u0435\\u0442\\u0440\\u043e \\\" \\u043e\\u043a\\u0442\\u044f\\u0431\\u0440\\u044c\\u0441\\u043a\\u0438\\u0439 \\u043f\\u043e\\u043b\\u0435 \\\" \\u2015 \\u0446\\u0435\\u043d\\u0442\\u0440 , \\u0434\\u0432\\u043e\\u0440\\u043d\\u0438\\u043a \\u043d\\u0430\\u043d\\u0438\\u043c\\u0430\\u0442\\u044c - \\u0433\\u043e\\u0432\\u043e\\u0440\\u0438\\u0442\\u044c - \\u0440\\u0443\\u0441\\u0441\\u043a\\u0438 , , \\u0431\\u0430\\u043d\\u0442\\u0443\\u0441\\u0442\\u0430\\u043d , \\u043e\\u043a\\u0440\\u0430\\u0438\\u043d\\u0430 , \\u043f\\u043e\\u0432\\u0435\\u0440\\u0438\\u0442\\u044c , \\u0440\\u0430\\u0437\\u043c\\u0430\\u0445\\u0438\\u0432\\u0430\\u0432\\u0448\\u0435\\u0439 \\u0433\\u043e\\u043b\\u043e\\u0432\\u0430 \\u0440\\u0435\\u0431\\u0451\\u043d\\u043e\\u043a \\u0431\\u0430\\u0431\\u044b \\u0447\\u0430\\u0441 \\u043f\\u0440\\u043e\\u0439\\u0442\\u0438 \\u043d\\u0438 \\u043c\\u0443\\u0441\\u0443\\u043b\\u044c\\u043c\\u0430\\u043d\\u0438\\u043d , \\u0438\\u0441\\u043b\\u0430\\u043d\\u0434\\u0438\\u044f \\u0436\\u0438\\u0432\\u0451\\u043c .\",\n          \"\\u043f\\u0440\\u044f\\u043c\\u043e\\u0439 \\u043a\\u0430\\u0440\\u0442\\u0430 \\u043e\\u043b\\u0438\\u0446\\u0435\\u0442\\u0432\\u043e\\u0440\\u044f\\u0442\\u044c \\u043f\\u0440\\u0430\\u0433\\u043c\\u0430\\u0442\\u0438\\u0447\\u043d\\u044b\\u0439 \\u043d\\u0430\\u0434\\u0451\\u0436\\u043d\\u044b\\u0439 \\u043c\\u043e\\u043b\\u043e\\u0434\\u043e\\u0439 \\u0447\\u0435\\u043b\\u043e\\u0432\\u0435\\u043a \\u0434\\u0435\\u0432\\u0443\\u0448\\u043a\\u0430 .\",\n          \"\\u043c\\u0438\\u0440 \\u0436\\u043e\\u043f\\u0430 \\u0432\\u044a\\u0435\\u0445\\u0430\\u0442\\u044c \\u0444\\u043e\\u0440\\u0434 \\u0441\\u043a\\u043e\\u0440\\u043f\\u0438\\u043e , \\u043c\\u0443\\u0436\\u0438\\u043a \\u0440\\u0443\\u043b\\u0451\\u043c \\u0432\\u0438\\u0434\\u0443 - \\u043d\\u0435\\u0441\\u0432\\u0435\\u0436\\u0438\\u043c \\u2015 \\u0442\\u043e\\u043b\\u0438 \\u043c\\u0430\\u043b\\u043e\\u0441\\u0442\\u044c \\u043f\\u0440\\u0438\\u043d\\u044f\\u0442\\u044c , \\u0445\\u043e\\u0440\\u043e\\u0448\\u0438\\u0439 \\u0431\\u043e\\u0434\\u0443\\u043d .\"\n        ],\n        \"semantic_type\": \"\",\n        \"description\": \"\"\n      }\n    },\n    {\n      \"column\": \"1 level\",\n      \"properties\": {\n        \"dtype\": \"number\",\n        \"std\": 0,\n        \"min\": 1,\n        \"max\": 5,\n        \"num_unique_values\": 5,\n        \"samples\": [\n          4,\n          5,\n          2\n        ],\n        \"semantic_type\": \"\",\n        \"description\": \"\"\n      }\n    },\n    {\n      \"column\": \"2 level\",\n      \"properties\": {\n        \"dtype\": \"number\",\n        \"std\": 1,\n        \"min\": 4,\n        \"max\": 13,\n        \"num_unique_values\": 10,\n        \"samples\": [\n          6,\n          4,\n          13\n        ],\n        \"semantic_type\": \"\",\n        \"description\": \"\"\n      }\n    },\n    {\n      \"column\": \"conn\",\n      \"properties\": {\n        \"dtype\": \"number\",\n        \"std\": 0,\n        \"min\": 0,\n        \"max\": 2,\n        \"num_unique_values\": 3,\n        \"samples\": [\n          1,\n          0,\n          2\n        ],\n        \"semantic_type\": \"\",\n        \"description\": \"\"\n      }\n    },\n    {\n      \"column\": \"ton\",\n      \"properties\": {\n        \"dtype\": \"number\",\n        \"std\": 0,\n        \"min\": 0,\n        \"max\": 2,\n        \"num_unique_values\": 3,\n        \"samples\": [\n          1,\n          0,\n          2\n        ],\n        \"semantic_type\": \"\",\n        \"description\": \"\"\n      }\n    }\n  ]\n}"
            }
          },
          "metadata": {},
          "execution_count": 80
        }
      ]
    },
    {
      "cell_type": "markdown",
      "source": [
        "По датафрейму можно заметить, что данные в последних 2 столбцах перекодировались в числовой формат."
      ],
      "metadata": {
        "id": "F7dnp5oD1eEq"
      }
    },
    {
      "cell_type": "code",
      "source": [
        "coded_result.corr(numeric_only=True)"
      ],
      "metadata": {
        "colab": {
          "base_uri": "https://localhost:8080/",
          "height": 175
        },
        "id": "fYYwdU-m5XJ3",
        "outputId": "65b24f24-ed05-423b-ac2b-17ffa351dcac"
      },
      "execution_count": null,
      "outputs": [
        {
          "output_type": "execute_result",
          "data": {
            "text/plain": [
              "          1 level   2 level      conn       ton\n",
              "1 level  1.000000  0.143676  0.138148  0.044294\n",
              "2 level  0.143676  1.000000 -0.150357  0.036258\n",
              "conn     0.138148 -0.150357  1.000000  0.313497\n",
              "ton      0.044294  0.036258  0.313497  1.000000"
            ],
            "text/html": [
              "\n",
              "  <div id=\"df-3462398e-716e-4534-99d3-a8d1ce873a20\" class=\"colab-df-container\">\n",
              "    <div>\n",
              "<style scoped>\n",
              "    .dataframe tbody tr th:only-of-type {\n",
              "        vertical-align: middle;\n",
              "    }\n",
              "\n",
              "    .dataframe tbody tr th {\n",
              "        vertical-align: top;\n",
              "    }\n",
              "\n",
              "    .dataframe thead th {\n",
              "        text-align: right;\n",
              "    }\n",
              "</style>\n",
              "<table border=\"1\" class=\"dataframe\">\n",
              "  <thead>\n",
              "    <tr style=\"text-align: right;\">\n",
              "      <th></th>\n",
              "      <th>1 level</th>\n",
              "      <th>2 level</th>\n",
              "      <th>conn</th>\n",
              "      <th>ton</th>\n",
              "    </tr>\n",
              "  </thead>\n",
              "  <tbody>\n",
              "    <tr>\n",
              "      <th>1 level</th>\n",
              "      <td>1.000000</td>\n",
              "      <td>0.143676</td>\n",
              "      <td>0.138148</td>\n",
              "      <td>0.044294</td>\n",
              "    </tr>\n",
              "    <tr>\n",
              "      <th>2 level</th>\n",
              "      <td>0.143676</td>\n",
              "      <td>1.000000</td>\n",
              "      <td>-0.150357</td>\n",
              "      <td>0.036258</td>\n",
              "    </tr>\n",
              "    <tr>\n",
              "      <th>conn</th>\n",
              "      <td>0.138148</td>\n",
              "      <td>-0.150357</td>\n",
              "      <td>1.000000</td>\n",
              "      <td>0.313497</td>\n",
              "    </tr>\n",
              "    <tr>\n",
              "      <th>ton</th>\n",
              "      <td>0.044294</td>\n",
              "      <td>0.036258</td>\n",
              "      <td>0.313497</td>\n",
              "      <td>1.000000</td>\n",
              "    </tr>\n",
              "  </tbody>\n",
              "</table>\n",
              "</div>\n",
              "    <div class=\"colab-df-buttons\">\n",
              "\n",
              "  <div class=\"colab-df-container\">\n",
              "    <button class=\"colab-df-convert\" onclick=\"convertToInteractive('df-3462398e-716e-4534-99d3-a8d1ce873a20')\"\n",
              "            title=\"Convert this dataframe to an interactive table.\"\n",
              "            style=\"display:none;\">\n",
              "\n",
              "  <svg xmlns=\"http://www.w3.org/2000/svg\" height=\"24px\" viewBox=\"0 -960 960 960\">\n",
              "    <path d=\"M120-120v-720h720v720H120Zm60-500h600v-160H180v160Zm220 220h160v-160H400v160Zm0 220h160v-160H400v160ZM180-400h160v-160H180v160Zm440 0h160v-160H620v160ZM180-180h160v-160H180v160Zm440 0h160v-160H620v160Z\"/>\n",
              "  </svg>\n",
              "    </button>\n",
              "\n",
              "  <style>\n",
              "    .colab-df-container {\n",
              "      display:flex;\n",
              "      gap: 12px;\n",
              "    }\n",
              "\n",
              "    .colab-df-convert {\n",
              "      background-color: #E8F0FE;\n",
              "      border: none;\n",
              "      border-radius: 50%;\n",
              "      cursor: pointer;\n",
              "      display: none;\n",
              "      fill: #1967D2;\n",
              "      height: 32px;\n",
              "      padding: 0 0 0 0;\n",
              "      width: 32px;\n",
              "    }\n",
              "\n",
              "    .colab-df-convert:hover {\n",
              "      background-color: #E2EBFA;\n",
              "      box-shadow: 0px 1px 2px rgba(60, 64, 67, 0.3), 0px 1px 3px 1px rgba(60, 64, 67, 0.15);\n",
              "      fill: #174EA6;\n",
              "    }\n",
              "\n",
              "    .colab-df-buttons div {\n",
              "      margin-bottom: 4px;\n",
              "    }\n",
              "\n",
              "    [theme=dark] .colab-df-convert {\n",
              "      background-color: #3B4455;\n",
              "      fill: #D2E3FC;\n",
              "    }\n",
              "\n",
              "    [theme=dark] .colab-df-convert:hover {\n",
              "      background-color: #434B5C;\n",
              "      box-shadow: 0px 1px 3px 1px rgba(0, 0, 0, 0.15);\n",
              "      filter: drop-shadow(0px 1px 2px rgba(0, 0, 0, 0.3));\n",
              "      fill: #FFFFFF;\n",
              "    }\n",
              "  </style>\n",
              "\n",
              "    <script>\n",
              "      const buttonEl =\n",
              "        document.querySelector('#df-3462398e-716e-4534-99d3-a8d1ce873a20 button.colab-df-convert');\n",
              "      buttonEl.style.display =\n",
              "        google.colab.kernel.accessAllowed ? 'block' : 'none';\n",
              "\n",
              "      async function convertToInteractive(key) {\n",
              "        const element = document.querySelector('#df-3462398e-716e-4534-99d3-a8d1ce873a20');\n",
              "        const dataTable =\n",
              "          await google.colab.kernel.invokeFunction('convertToInteractive',\n",
              "                                                    [key], {});\n",
              "        if (!dataTable) return;\n",
              "\n",
              "        const docLinkHtml = 'Like what you see? Visit the ' +\n",
              "          '<a target=\"_blank\" href=https://colab.research.google.com/notebooks/data_table.ipynb>data table notebook</a>'\n",
              "          + ' to learn more about interactive tables.';\n",
              "        element.innerHTML = '';\n",
              "        dataTable['output_type'] = 'display_data';\n",
              "        await google.colab.output.renderOutput(dataTable, element);\n",
              "        const docLink = document.createElement('div');\n",
              "        docLink.innerHTML = docLinkHtml;\n",
              "        element.appendChild(docLink);\n",
              "      }\n",
              "    </script>\n",
              "  </div>\n",
              "\n",
              "\n",
              "<div id=\"df-b1a8a377-4221-465a-a66f-8f32d589a19d\">\n",
              "  <button class=\"colab-df-quickchart\" onclick=\"quickchart('df-b1a8a377-4221-465a-a66f-8f32d589a19d')\"\n",
              "            title=\"Suggest charts\"\n",
              "            style=\"display:none;\">\n",
              "\n",
              "<svg xmlns=\"http://www.w3.org/2000/svg\" height=\"24px\"viewBox=\"0 0 24 24\"\n",
              "     width=\"24px\">\n",
              "    <g>\n",
              "        <path d=\"M19 3H5c-1.1 0-2 .9-2 2v14c0 1.1.9 2 2 2h14c1.1 0 2-.9 2-2V5c0-1.1-.9-2-2-2zM9 17H7v-7h2v7zm4 0h-2V7h2v10zm4 0h-2v-4h2v4z\"/>\n",
              "    </g>\n",
              "</svg>\n",
              "  </button>\n",
              "\n",
              "<style>\n",
              "  .colab-df-quickchart {\n",
              "      --bg-color: #E8F0FE;\n",
              "      --fill-color: #1967D2;\n",
              "      --hover-bg-color: #E2EBFA;\n",
              "      --hover-fill-color: #174EA6;\n",
              "      --disabled-fill-color: #AAA;\n",
              "      --disabled-bg-color: #DDD;\n",
              "  }\n",
              "\n",
              "  [theme=dark] .colab-df-quickchart {\n",
              "      --bg-color: #3B4455;\n",
              "      --fill-color: #D2E3FC;\n",
              "      --hover-bg-color: #434B5C;\n",
              "      --hover-fill-color: #FFFFFF;\n",
              "      --disabled-bg-color: #3B4455;\n",
              "      --disabled-fill-color: #666;\n",
              "  }\n",
              "\n",
              "  .colab-df-quickchart {\n",
              "    background-color: var(--bg-color);\n",
              "    border: none;\n",
              "    border-radius: 50%;\n",
              "    cursor: pointer;\n",
              "    display: none;\n",
              "    fill: var(--fill-color);\n",
              "    height: 32px;\n",
              "    padding: 0;\n",
              "    width: 32px;\n",
              "  }\n",
              "\n",
              "  .colab-df-quickchart:hover {\n",
              "    background-color: var(--hover-bg-color);\n",
              "    box-shadow: 0 1px 2px rgba(60, 64, 67, 0.3), 0 1px 3px 1px rgba(60, 64, 67, 0.15);\n",
              "    fill: var(--button-hover-fill-color);\n",
              "  }\n",
              "\n",
              "  .colab-df-quickchart-complete:disabled,\n",
              "  .colab-df-quickchart-complete:disabled:hover {\n",
              "    background-color: var(--disabled-bg-color);\n",
              "    fill: var(--disabled-fill-color);\n",
              "    box-shadow: none;\n",
              "  }\n",
              "\n",
              "  .colab-df-spinner {\n",
              "    border: 2px solid var(--fill-color);\n",
              "    border-color: transparent;\n",
              "    border-bottom-color: var(--fill-color);\n",
              "    animation:\n",
              "      spin 1s steps(1) infinite;\n",
              "  }\n",
              "\n",
              "  @keyframes spin {\n",
              "    0% {\n",
              "      border-color: transparent;\n",
              "      border-bottom-color: var(--fill-color);\n",
              "      border-left-color: var(--fill-color);\n",
              "    }\n",
              "    20% {\n",
              "      border-color: transparent;\n",
              "      border-left-color: var(--fill-color);\n",
              "      border-top-color: var(--fill-color);\n",
              "    }\n",
              "    30% {\n",
              "      border-color: transparent;\n",
              "      border-left-color: var(--fill-color);\n",
              "      border-top-color: var(--fill-color);\n",
              "      border-right-color: var(--fill-color);\n",
              "    }\n",
              "    40% {\n",
              "      border-color: transparent;\n",
              "      border-right-color: var(--fill-color);\n",
              "      border-top-color: var(--fill-color);\n",
              "    }\n",
              "    60% {\n",
              "      border-color: transparent;\n",
              "      border-right-color: var(--fill-color);\n",
              "    }\n",
              "    80% {\n",
              "      border-color: transparent;\n",
              "      border-right-color: var(--fill-color);\n",
              "      border-bottom-color: var(--fill-color);\n",
              "    }\n",
              "    90% {\n",
              "      border-color: transparent;\n",
              "      border-bottom-color: var(--fill-color);\n",
              "    }\n",
              "  }\n",
              "</style>\n",
              "\n",
              "  <script>\n",
              "    async function quickchart(key) {\n",
              "      const quickchartButtonEl =\n",
              "        document.querySelector('#' + key + ' button');\n",
              "      quickchartButtonEl.disabled = true;  // To prevent multiple clicks.\n",
              "      quickchartButtonEl.classList.add('colab-df-spinner');\n",
              "      try {\n",
              "        const charts = await google.colab.kernel.invokeFunction(\n",
              "            'suggestCharts', [key], {});\n",
              "      } catch (error) {\n",
              "        console.error('Error during call to suggestCharts:', error);\n",
              "      }\n",
              "      quickchartButtonEl.classList.remove('colab-df-spinner');\n",
              "      quickchartButtonEl.classList.add('colab-df-quickchart-complete');\n",
              "    }\n",
              "    (() => {\n",
              "      let quickchartButtonEl =\n",
              "        document.querySelector('#df-b1a8a377-4221-465a-a66f-8f32d589a19d button');\n",
              "      quickchartButtonEl.style.display =\n",
              "        google.colab.kernel.accessAllowed ? 'block' : 'none';\n",
              "    })();\n",
              "  </script>\n",
              "</div>\n",
              "    </div>\n",
              "  </div>\n"
            ],
            "application/vnd.google.colaboratory.intrinsic+json": {
              "type": "dataframe",
              "summary": "{\n  \"name\": \"coded_result\",\n  \"rows\": 4,\n  \"fields\": [\n    {\n      \"column\": \"1 level\",\n      \"properties\": {\n        \"dtype\": \"number\",\n        \"std\": 0.4479741481984295,\n        \"min\": 0.04429389492677182,\n        \"max\": 1.0,\n        \"num_unique_values\": 4,\n        \"samples\": [\n          0.1436760073999087,\n          0.04429389492677182,\n          1.0\n        ],\n        \"semantic_type\": \"\",\n        \"description\": \"\"\n      }\n    },\n    {\n      \"column\": \"2 level\",\n      \"properties\": {\n        \"dtype\": \"number\",\n        \"std\": 0.5097573039334152,\n        \"min\": -0.150357074659086,\n        \"max\": 1.0,\n        \"num_unique_values\": 4,\n        \"samples\": [\n          1.0,\n          0.036257990318239064,\n          0.1436760073999087\n        ],\n        \"semantic_type\": \"\",\n        \"description\": \"\"\n      }\n    },\n    {\n      \"column\": \"conn\",\n      \"properties\": {\n        \"dtype\": \"number\",\n        \"std\": 0.48875180958940245,\n        \"min\": -0.150357074659086,\n        \"max\": 1.0,\n        \"num_unique_values\": 4,\n        \"samples\": [\n          -0.150357074659086,\n          0.3134968812438238,\n          0.1381478165647298\n        ],\n        \"semantic_type\": \"\",\n        \"description\": \"\"\n      }\n    },\n    {\n      \"column\": \"ton\",\n      \"properties\": {\n        \"dtype\": \"number\",\n        \"std\": 0.45303196896100145,\n        \"min\": 0.036257990318239064,\n        \"max\": 1.0,\n        \"num_unique_values\": 4,\n        \"samples\": [\n          0.036257990318239064,\n          1.0,\n          0.04429389492677182\n        ],\n        \"semantic_type\": \"\",\n        \"description\": \"\"\n      }\n    }\n  ]\n}"
            }
          },
          "metadata": {},
          "execution_count": 205
        }
      ]
    },
    {
      "cell_type": "code",
      "source": [
        "X_conn = coded_result.drop(['conn'], axis = 1)\n",
        "y_conn = coded_result['conn']"
      ],
      "metadata": {
        "id": "XxctdSogL5dG"
      },
      "execution_count": null,
      "outputs": []
    },
    {
      "cell_type": "code",
      "source": [
        "#разделение на выборки\n",
        "X_train_conn, X_test_conn, y_train_conn, y_test_conn = train_test_split(X_conn, y_conn,\n",
        "                                                            test_size=0.2,\n",
        "                                                            random_state=42,\n",
        "                                                            stratify=result_df['conn'])"
      ],
      "metadata": {
        "id": "U7aIXWiFMeIA"
      },
      "execution_count": null,
      "outputs": []
    },
    {
      "cell_type": "code",
      "source": [
        "#векторизация\n",
        "vectorised_conn_train, vectorised_conn_test, vectorizer_conn = create_X(X_train_conn, X_test_conn, mode='conn')"
      ],
      "metadata": {
        "id": "sdABM8GtMyZF"
      },
      "execution_count": null,
      "outputs": []
    },
    {
      "cell_type": "code",
      "source": [
        "#обучение модели для коннотации\n",
        "svm_conn = SVC(kernel='linear')\n",
        "svm_conn.fit(vectorised_conn_train, y_train_conn)\n",
        "\n",
        "# Прогнозирование на тестовых данных\n",
        "y_pred_conn= svm_conn.predict(vectorised_conn_test)"
      ],
      "metadata": {
        "id": "6GGtcn4xNkvL"
      },
      "execution_count": null,
      "outputs": []
    },
    {
      "cell_type": "code",
      "source": [
        "# Оценка точности модели\n",
        "accuracy = accuracy_score(y_test_conn, y_pred_conn)\n",
        "print(f'Accuracy: {accuracy}')\n",
        "ConfusionMatrixDisplay.from_estimator(svm_conn, vectorised_conn_test, y_test_conn)\n",
        "\n",
        "print(classification_report(y_test_conn, y_pred_conn))"
      ],
      "metadata": {
        "colab": {
          "base_uri": "https://localhost:8080/",
          "height": 650
        },
        "id": "e6gtejh8RJIE",
        "outputId": "70b7e4f7-0ae1-4bd0-c54c-f508e1c08c1e"
      },
      "execution_count": null,
      "outputs": [
        {
          "output_type": "stream",
          "name": "stdout",
          "text": [
            "Accuracy: 0.8363636363636363\n",
            "              precision    recall  f1-score   support\n",
            "\n",
            "           0       0.75      0.08      0.15        37\n",
            "           1       0.84      1.00      0.91       267\n",
            "           2       0.78      0.27      0.40        26\n",
            "\n",
            "    accuracy                           0.84       330\n",
            "   macro avg       0.79      0.45      0.49       330\n",
            "weighted avg       0.82      0.84      0.78       330\n",
            "\n"
          ]
        },
        {
          "output_type": "display_data",
          "data": {
            "text/plain": [
              "<Figure size 640x480 with 2 Axes>"
            ],
            "image/png": "[encoded data removed]"
          },
          "metadata": {}
        }
      ]
    },
    {
      "cell_type": "code",
      "source": [
        "coded_result['conn'].value_counts()"
      ],
      "metadata": {
        "colab": {
          "base_uri": "https://localhost:8080/"
        },
        "id": "19Gcigg53XyS",
        "outputId": "1c766a5b-7093-4958-dfb8-ba5ea4431eef"
      },
      "execution_count": null,
      "outputs": [
        {
          "output_type": "execute_result",
          "data": {
            "text/plain": [
              "conn\n",
              "1    1333\n",
              "0     185\n",
              "2     129\n",
              "Name: count, dtype: int64"
            ]
          },
          "metadata": {},
          "execution_count": 59
        }
      ]
    },
    {
      "cell_type": "markdown",
      "source": [
        "Лексемы, имеющие нейтральную коннотацию, составляют 80% выборки, благодаря чему модель лучше всего определяет именно лексемы с нейтральной коннотацией (recall для первого класса = 0.99, precision для него же = 0.81). Также модель пыталась предсказывать отрицательную коннотацию, но получилось не очень удачно: precision для нулевого класса составляет всего 0.5, а recall и вовсе 0.03. Для позитивной коннотации ситуация еще хуже: все метрики равны нулю."
      ],
      "metadata": {
        "id": "PxgFaqvz3n6q"
      }
    },
    {
      "cell_type": "markdown",
      "source": [
        "# Предсказание тональности"
      ],
      "metadata": {
        "id": "ASkG1demYzbs"
      }
    },
    {
      "cell_type": "code",
      "source": [
        "X_ton = coded_result.drop(['ton'], axis = 1)\n",
        "y_ton = coded_result['ton']"
      ],
      "metadata": {
        "id": "LddVGCTLZNVX"
      },
      "execution_count": null,
      "outputs": []
    },
    {
      "cell_type": "code",
      "source": [
        "#разделение на выборки\n",
        "X_train_ton, X_test_ton, y_train_ton, y_test_ton = train_test_split(X_ton, y_ton,\n",
        "                                                            test_size=0.2,\n",
        "                                                            random_state=42,\n",
        "                                                            stratify=result_df['ton'])"
      ],
      "metadata": {
        "id": "uHxr9RgEZNVn"
      },
      "execution_count": null,
      "outputs": []
    },
    {
      "cell_type": "code",
      "source": [
        "#векторизация\n",
        "vectorised_ton_train, vectorised_ton_test, vectorizer_ton = create_X(X_train_ton, X_test_ton, mode='ton')"
      ],
      "metadata": {
        "id": "QUrzsSmGZNVn"
      },
      "execution_count": null,
      "outputs": []
    },
    {
      "cell_type": "code",
      "source": [
        "#обучение модели для тональности\n",
        "svm_ton = SVC(kernel='linear')\n",
        "svm_ton.fit(vectorised_ton_train, y_train_ton)\n",
        "\n",
        "# Прогнозирование на тестовых данных\n",
        "y_pred_ton= svm_ton.predict(vectorised_ton_test)"
      ],
      "metadata": {
        "id": "DJPRNKTHZNVn"
      },
      "execution_count": null,
      "outputs": []
    },
    {
      "cell_type": "code",
      "source": [
        "# Оценка точности модели\n",
        "accuracy = accuracy_score(y_test_ton, y_pred_ton)\n",
        "print(f'Accuracy: {accuracy}')\n",
        "ConfusionMatrixDisplay.from_estimator(svm_ton, vectorised_ton_test, y_test_ton)\n",
        "\n",
        "print(classification_report(y_test_ton, y_pred_ton))"
      ],
      "metadata": {
        "colab": {
          "base_uri": "https://localhost:8080/",
          "height": 650
        },
        "outputId": "b2eb1d60-fd18-417d-86ba-ff7cb71fbf18",
        "id": "0j9b-cAtZNVn"
      },
      "execution_count": null,
      "outputs": [
        {
          "output_type": "stream",
          "name": "stdout",
          "text": [
            "Accuracy: 0.7848484848484848\n",
            "              precision    recall  f1-score   support\n",
            "\n",
            "           0       0.55      0.48      0.51        60\n",
            "           1       0.86      0.90      0.88       249\n",
            "           2       0.38      0.29      0.32        21\n",
            "\n",
            "    accuracy                           0.78       330\n",
            "   macro avg       0.59      0.56      0.57       330\n",
            "weighted avg       0.77      0.78      0.78       330\n",
            "\n"
          ]
        },
        {
          "output_type": "display_data",
          "data": {
            "text/plain": [
              "<Figure size 640x480 with 2 Axes>"
            ],
            "image/png": "[encoded data removed]"
          },
          "metadata": {}
        }
      ]
    },
    {
      "cell_type": "code",
      "source": [
        "coded_result['ton'].value_counts()"
      ],
      "metadata": {
        "colab": {
          "base_uri": "https://localhost:8080/"
        },
        "outputId": "58722081-7d76-413d-fea6-6538b1c1f95c",
        "id": "UCWBsGnVK1j8"
      },
      "execution_count": null,
      "outputs": [
        {
          "output_type": "execute_result",
          "data": {
            "text/plain": [
              "ton\n",
              "1    1241\n",
              "0     298\n",
              "2     108\n",
              "Name: count, dtype: int64"
            ]
          },
          "metadata": {},
          "execution_count": 65
        }
      ]
    },
    {
      "cell_type": "markdown",
      "source": [
        "Как и в случае с коннотацией, на нейтральную тональность приходится подавляющее большинство примеров. Однако количество экземпляров с негативной тональностью чуть больше и метрики для них выше. Например, recall составляет уже 0.42, то есть модель справляется с предсказанием отрицательной тональности намного лучше, чем с отрицательной коннотацией. Для позитивной тональности ситуация снова печальная: метрики равны нулю."
      ],
      "metadata": {
        "id": "ZnJGBYX058Lr"
      }
    },
    {
      "cell_type": "markdown",
      "source": [
        "# Тестирование работы алгоритма"
      ],
      "metadata": {
        "id": "N0Yyt1PTKIap"
      }
    },
    {
      "cell_type": "markdown",
      "source": [
        "1. Констатация (женщина, девушка, мужчина, обращения всех оттенков)\n",
        "    6. оскорбление\n",
        "    7. дружеское или ласковое обращение\n",
        "    8. называние человека по полу/просто любой или незнакомый человек\n",
        "2. Обозначение лица по возрасту\n",
        "    9. Молодые лица\n",
        "    10. Взрослые лица\n",
        "    11. Пожилые лица\n",
        "3. Окружение\n",
        "    12. Подруги, знакомые, друзья, коллеги, любовник, сексуальный партнер, парень, жених, невеста\n",
        "    13. Обозначение родственника\\предка (в т.ч. жена муж)\n",
        "4. Стереотипно маскулинный мужчина \\ стереотипно женственная женщина\n",
        "5. Род деятельности (проститутка, знахарка, гадалка)\n"
      ],
      "metadata": {
        "id": "UXcF-Q7Luo73"
      }
    },
    {
      "cell_type": "code",
      "source": [
        "test1 = {'Full context': 'Привет, девы!', 'conn': 'neutral', 'ton': 'neutral'}\n",
        "test2 = {'Full context': 'Эх ты, бабка, так вечно в старухах и будешь сидеть', 'conn': 'negative', 'ton': 'negative'}\n",
        "test1_df = pd.DataFrame(test1, index=[0])\n",
        "test2_df = pd.DataFrame(test2, index=[0])\n",
        "print(test1_df)\n",
        "print(test2_df)"
      ],
      "metadata": {
        "colab": {
          "base_uri": "https://localhost:8080/"
        },
        "id": "5Dzfznobx93X",
        "outputId": "988579d7-4028-44ca-88fc-61a81c7da413"
      },
      "execution_count": null,
      "outputs": [
        {
          "output_type": "stream",
          "name": "stdout",
          "text": [
            "    Full context     conn      ton\n",
            "0  Привет, девы!  neutral  neutral\n",
            "                                        Full context      conn       ton\n",
            "0  Эх ты, бабка, так вечно в старухах и будешь си...  negative  negative\n"
          ]
        }
      ]
    },
    {
      "cell_type": "code",
      "source": [
        "test1_df['Full context'] = test1_df['Full context'].apply(lambda x: pd.Series(preprocess(x)))\n",
        "test2_df['Full context'] = test2_df['Full context'].apply(lambda x: pd.Series(preprocess(x)))"
      ],
      "metadata": {
        "id": "eCJ1WKZ0zzNk"
      },
      "execution_count": null,
      "outputs": []
    },
    {
      "cell_type": "code",
      "source": [
        "test1_df"
      ],
      "metadata": {
        "colab": {
          "base_uri": "https://localhost:8080/",
          "height": 81
        },
        "id": "uFzHuu1f0P0L",
        "outputId": "f9f3a928-f19a-4df4-9bee-28c04f1b3a1e"
      },
      "execution_count": null,
      "outputs": [
        {
          "output_type": "execute_result",
          "data": {
            "text/plain": [
              "      Full context     conn      ton\n",
              "0  привет , дева !  neutral  neutral"
            ],
            "text/html": [
              "\n",
              "  <div id=\"df-13ee6e8e-a17d-44f0-948c-054f9cf0d378\" class=\"colab-df-container\">\n",
              "    <div>\n",
              "<style scoped>\n",
              "    .dataframe tbody tr th:only-of-type {\n",
              "        vertical-align: middle;\n",
              "    }\n",
              "\n",
              "    .dataframe tbody tr th {\n",
              "        vertical-align: top;\n",
              "    }\n",
              "\n",
              "    .dataframe thead th {\n",
              "        text-align: right;\n",
              "    }\n",
              "</style>\n",
              "<table border=\"1\" class=\"dataframe\">\n",
              "  <thead>\n",
              "    <tr style=\"text-align: right;\">\n",
              "      <th></th>\n",
              "      <th>Full context</th>\n",
              "      <th>conn</th>\n",
              "      <th>ton</th>\n",
              "    </tr>\n",
              "  </thead>\n",
              "  <tbody>\n",
              "    <tr>\n",
              "      <th>0</th>\n",
              "      <td>привет , дева !</td>\n",
              "      <td>neutral</td>\n",
              "      <td>neutral</td>\n",
              "    </tr>\n",
              "  </tbody>\n",
              "</table>\n",
              "</div>\n",
              "    <div class=\"colab-df-buttons\">\n",
              "\n",
              "  <div class=\"colab-df-container\">\n",
              "    <button class=\"colab-df-convert\" onclick=\"convertToInteractive('df-13ee6e8e-a17d-44f0-948c-054f9cf0d378')\"\n",
              "            title=\"Convert this dataframe to an interactive table.\"\n",
              "            style=\"display:none;\">\n",
              "\n",
              "  <svg xmlns=\"http://www.w3.org/2000/svg\" height=\"24px\" viewBox=\"0 -960 960 960\">\n",
              "    <path d=\"M120-120v-720h720v720H120Zm60-500h600v-160H180v160Zm220 220h160v-160H400v160Zm0 220h160v-160H400v160ZM180-400h160v-160H180v160Zm440 0h160v-160H620v160ZM180-180h160v-160H180v160Zm440 0h160v-160H620v160Z\"/>\n",
              "  </svg>\n",
              "    </button>\n",
              "\n",
              "  <style>\n",
              "    .colab-df-container {\n",
              "      display:flex;\n",
              "      gap: 12px;\n",
              "    }\n",
              "\n",
              "    .colab-df-convert {\n",
              "      background-color: #E8F0FE;\n",
              "      border: none;\n",
              "      border-radius: 50%;\n",
              "      cursor: pointer;\n",
              "      display: none;\n",
              "      fill: #1967D2;\n",
              "      height: 32px;\n",
              "      padding: 0 0 0 0;\n",
              "      width: 32px;\n",
              "    }\n",
              "\n",
              "    .colab-df-convert:hover {\n",
              "      background-color: #E2EBFA;\n",
              "      box-shadow: 0px 1px 2px rgba(60, 64, 67, 0.3), 0px 1px 3px 1px rgba(60, 64, 67, 0.15);\n",
              "      fill: #174EA6;\n",
              "    }\n",
              "\n",
              "    .colab-df-buttons div {\n",
              "      margin-bottom: 4px;\n",
              "    }\n",
              "\n",
              "    [theme=dark] .colab-df-convert {\n",
              "      background-color: #3B4455;\n",
              "      fill: #D2E3FC;\n",
              "    }\n",
              "\n",
              "    [theme=dark] .colab-df-convert:hover {\n",
              "      background-color: #434B5C;\n",
              "      box-shadow: 0px 1px 3px 1px rgba(0, 0, 0, 0.15);\n",
              "      filter: drop-shadow(0px 1px 2px rgba(0, 0, 0, 0.3));\n",
              "      fill: #FFFFFF;\n",
              "    }\n",
              "  </style>\n",
              "\n",
              "    <script>\n",
              "      const buttonEl =\n",
              "        document.querySelector('#df-13ee6e8e-a17d-44f0-948c-054f9cf0d378 button.colab-df-convert');\n",
              "      buttonEl.style.display =\n",
              "        google.colab.kernel.accessAllowed ? 'block' : 'none';\n",
              "\n",
              "      async function convertToInteractive(key) {\n",
              "        const element = document.querySelector('#df-13ee6e8e-a17d-44f0-948c-054f9cf0d378');\n",
              "        const dataTable =\n",
              "          await google.colab.kernel.invokeFunction('convertToInteractive',\n",
              "                                                    [key], {});\n",
              "        if (!dataTable) return;\n",
              "\n",
              "        const docLinkHtml = 'Like what you see? Visit the ' +\n",
              "          '<a target=\"_blank\" href=https://colab.research.google.com/notebooks/data_table.ipynb>data table notebook</a>'\n",
              "          + ' to learn more about interactive tables.';\n",
              "        element.innerHTML = '';\n",
              "        dataTable['output_type'] = 'display_data';\n",
              "        await google.colab.output.renderOutput(dataTable, element);\n",
              "        const docLink = document.createElement('div');\n",
              "        docLink.innerHTML = docLinkHtml;\n",
              "        element.appendChild(docLink);\n",
              "      }\n",
              "    </script>\n",
              "  </div>\n",
              "\n",
              "    </div>\n",
              "  </div>\n"
            ],
            "application/vnd.google.colaboratory.intrinsic+json": {
              "type": "dataframe",
              "variable_name": "test1_df",
              "summary": "{\n  \"name\": \"test1_df\",\n  \"rows\": 1,\n  \"fields\": [\n    {\n      \"column\": \"Full context\",\n      \"properties\": {\n        \"dtype\": \"string\",\n        \"num_unique_values\": 1,\n        \"samples\": [\n          \"\\u043f\\u0440\\u0438\\u0432\\u0435\\u0442 , \\u0434\\u0435\\u0432\\u0430 !\"\n        ],\n        \"semantic_type\": \"\",\n        \"description\": \"\"\n      }\n    },\n    {\n      \"column\": \"conn\",\n      \"properties\": {\n        \"dtype\": \"string\",\n        \"num_unique_values\": 1,\n        \"samples\": [\n          \"neutral\"\n        ],\n        \"semantic_type\": \"\",\n        \"description\": \"\"\n      }\n    },\n    {\n      \"column\": \"ton\",\n      \"properties\": {\n        \"dtype\": \"string\",\n        \"num_unique_values\": 1,\n        \"samples\": [\n          \"neutral\"\n        ],\n        \"semantic_type\": \"\",\n        \"description\": \"\"\n      }\n    }\n  ]\n}"
            }
          },
          "metadata": {},
          "execution_count": 190
        }
      ]
    },
    {
      "cell_type": "code",
      "source": [
        "def classify_text(text):\n",
        "  # Векторизация текста для верхнего уровня\n",
        "  X_text_combined = text['Full context'] + \" \" + text['conn'] + \" \" + text['ton']\n",
        "  X_text_top = vectorizer_top.transform(X_text_combined)\n",
        "  top_level_prediction = svm_top.predict(X_text_top.toarray())[0]\n",
        "\n",
        "  # Дальнейшая классификация в зависимости от верхнего уровня\n",
        "  if top_level_prediction == 1:\n",
        "      X_text_combined = text['Full context'] + \" \" + text['conn'] + \" \" + text['ton']\n",
        "      X_text_top = vectorizer_const.transform(X_text_combined)\n",
        "      return svm_const.predict(X_text_top.toarray())[0]\n",
        "  elif top_level_prediction == 2:\n",
        "      X_text_combined = text['Full context'] + \" \" + text['conn'] + \" \" + text['ton']\n",
        "      X_text_top = vectorizer_age.transform(X_text_combined)\n",
        "      return svm_age.predict(X_text_top.toarray())[0]\n",
        "  elif top_level_prediction == 3:\n",
        "      X_text_combined = text['Full context'] + \" \" + text['conn'] + \" \" + text['ton']\n",
        "      X_text_top = vectorizer_env.transform(X_text_combined)\n",
        "      return svm_env.predict(X_text_top.toarray())[0]\n",
        "\n",
        "  return top_level_prediction\n",
        "\n",
        "# Пример использования\n",
        "print(classify_text(test1_df))\n",
        "print(classify_text(test2_df))\n"
      ],
      "metadata": {
        "id": "bqqRSq9pKNhz",
        "colab": {
          "base_uri": "https://localhost:8080/"
        },
        "outputId": "68d5c775-1494-4d9b-e206-ba4f3bcc2f71"
      },
      "execution_count": null,
      "outputs": [
        {
          "output_type": "stream",
          "name": "stdout",
          "text": [
            "8\n",
            "11\n"
          ]
        }
      ]
    }
  ]
}